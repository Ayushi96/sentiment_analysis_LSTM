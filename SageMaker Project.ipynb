{
 "cells": [
  {
   "cell_type": "markdown",
   "metadata": {},
   "source": [
    "# Creating a Sentiment Analysis Web App\n",
    "## Using PyTorch and SageMaker\n",
    "\n",
    "_Deep Learning Nanodegree Program | Deployment_\n",
    "\n",
    "---\n",
    "\n",
    "Now that we have a basic understanding of how SageMaker works we will try to use it to construct a complete project from end to end. Our goal will be to have a simple web page which a user can use to enter a movie review. The web page will then send the review off to our deployed model which will predict the sentiment of the entered review.\n",
    "\n",
    "## Instructions\n",
    "\n",
    "Some template code has already been provided for you, and you will need to implement additional functionality to successfully complete this notebook. You will not need to modify the included code beyond what is requested. Sections that begin with '**TODO**' in the header indicate that you need to complete or implement some portion within them. Instructions will be provided for each section and the specifics of the implementation are marked in the code block with a `# TODO: ...` comment. Please be sure to read the instructions carefully!\n",
    "\n",
    "In addition to implementing code, there will be questions for you to answer which relate to the task and your implementation. Each section where you will answer a question is preceded by a '**Question:**' header. Carefully read each question and provide your answer below the '**Answer:**' header by editing the Markdown cell.\n",
    "\n",
    "> **Note**: Code and Markdown cells can be executed using the **Shift+Enter** keyboard shortcut. In addition, a cell can be edited by typically clicking it (double-click for Markdown cells) or by pressing **Enter** while it is highlighted.\n",
    "\n",
    "## General Outline\n",
    "\n",
    "Recall the general outline for SageMaker projects using a notebook instance.\n",
    "\n",
    "1. Download or otherwise retrieve the data.\n",
    "2. Process / Prepare the data.\n",
    "3. Upload the processed data to S3.\n",
    "4. Train a chosen model.\n",
    "5. Test the trained model (typically using a batch transform job).\n",
    "6. Deploy the trained model.\n",
    "7. Use the deployed model.\n",
    "\n",
    "For this project, you will be following the steps in the general outline with some modifications. \n",
    "\n",
    "First, you will not be testing the model in its own step. You will still be testing the model, however, you will do it by deploying your model and then using the deployed model by sending the test data to it. One of the reasons for doing this is so that you can make sure that your deployed model is working correctly before moving forward.\n",
    "\n",
    "In addition, you will deploy and use your trained model a second time. In the second iteration you will customize the way that your trained model is deployed by including some of your own code. In addition, your newly deployed model will be used in the sentiment analysis web app."
   ]
  },
  {
   "cell_type": "code",
   "execution_count": 1,
   "metadata": {},
   "outputs": [
    {
     "name": "stdout",
     "output_type": "stream",
     "text": [
      "Collecting sagemaker==1.72.0\n",
      "  Downloading sagemaker-1.72.0.tar.gz (297 kB)\n",
      "\u001b[K     |████████████████████████████████| 297 kB 11.0 MB/s eta 0:00:01\n",
      "\u001b[?25hRequirement already satisfied: boto3>=1.14.12 in /home/ec2-user/anaconda3/envs/pytorch_p36/lib/python3.6/site-packages (from sagemaker==1.72.0) (1.16.19)\n",
      "Requirement already satisfied: numpy>=1.9.0 in /home/ec2-user/anaconda3/envs/pytorch_p36/lib/python3.6/site-packages (from sagemaker==1.72.0) (1.18.1)\n",
      "Requirement already satisfied: protobuf>=3.1 in /home/ec2-user/anaconda3/envs/pytorch_p36/lib/python3.6/site-packages (from sagemaker==1.72.0) (3.11.4)\n",
      "Requirement already satisfied: scipy>=0.19.0 in /home/ec2-user/anaconda3/envs/pytorch_p36/lib/python3.6/site-packages (from sagemaker==1.72.0) (1.4.1)\n",
      "Requirement already satisfied: protobuf3-to-dict>=0.1.5 in /home/ec2-user/anaconda3/envs/pytorch_p36/lib/python3.6/site-packages (from sagemaker==1.72.0) (0.1.5)\n",
      "Collecting smdebug-rulesconfig==0.1.4\n",
      "  Downloading smdebug_rulesconfig-0.1.4-py2.py3-none-any.whl (10 kB)\n",
      "Requirement already satisfied: importlib-metadata>=1.4.0 in /home/ec2-user/anaconda3/envs/pytorch_p36/lib/python3.6/site-packages (from sagemaker==1.72.0) (2.0.0)\n",
      "Requirement already satisfied: packaging>=20.0 in /home/ec2-user/anaconda3/envs/pytorch_p36/lib/python3.6/site-packages (from sagemaker==1.72.0) (20.1)\n",
      "Requirement already satisfied: botocore<1.20.0,>=1.19.19 in /home/ec2-user/anaconda3/envs/pytorch_p36/lib/python3.6/site-packages (from boto3>=1.14.12->sagemaker==1.72.0) (1.19.19)\n",
      "Requirement already satisfied: s3transfer<0.4.0,>=0.3.0 in /home/ec2-user/anaconda3/envs/pytorch_p36/lib/python3.6/site-packages (from boto3>=1.14.12->sagemaker==1.72.0) (0.3.3)\n",
      "Requirement already satisfied: jmespath<1.0.0,>=0.7.1 in /home/ec2-user/anaconda3/envs/pytorch_p36/lib/python3.6/site-packages (from boto3>=1.14.12->sagemaker==1.72.0) (0.10.0)\n",
      "Requirement already satisfied: six>=1.9 in /home/ec2-user/anaconda3/envs/pytorch_p36/lib/python3.6/site-packages (from protobuf>=3.1->sagemaker==1.72.0) (1.14.0)\n",
      "Requirement already satisfied: setuptools in /home/ec2-user/anaconda3/envs/pytorch_p36/lib/python3.6/site-packages (from protobuf>=3.1->sagemaker==1.72.0) (45.2.0.post20200210)\n",
      "Requirement already satisfied: zipp>=0.5 in /home/ec2-user/anaconda3/envs/pytorch_p36/lib/python3.6/site-packages (from importlib-metadata>=1.4.0->sagemaker==1.72.0) (2.2.0)\n",
      "Requirement already satisfied: pyparsing>=2.0.2 in /home/ec2-user/anaconda3/envs/pytorch_p36/lib/python3.6/site-packages (from packaging>=20.0->sagemaker==1.72.0) (2.4.6)\n",
      "Requirement already satisfied: urllib3<1.27,>=1.25.4 in /home/ec2-user/anaconda3/envs/pytorch_p36/lib/python3.6/site-packages (from botocore<1.20.0,>=1.19.19->boto3>=1.14.12->sagemaker==1.72.0) (1.25.10)\n",
      "Requirement already satisfied: python-dateutil<3.0.0,>=2.1 in /home/ec2-user/anaconda3/envs/pytorch_p36/lib/python3.6/site-packages (from botocore<1.20.0,>=1.19.19->boto3>=1.14.12->sagemaker==1.72.0) (2.8.1)\n",
      "Building wheels for collected packages: sagemaker\n",
      "  Building wheel for sagemaker (setup.py) ... \u001b[?25ldone\n",
      "\u001b[?25h  Created wheel for sagemaker: filename=sagemaker-1.72.0-py2.py3-none-any.whl size=386358 sha256=9116f516ddbf0935b6bc169a61c387352e7823b505221b683559232326f72136\n",
      "  Stored in directory: /home/ec2-user/.cache/pip/wheels/c3/58/70/85faf4437568bfaa4c419937569ba1fe54d44c5db42406bbd7\n",
      "Successfully built sagemaker\n",
      "Installing collected packages: smdebug-rulesconfig, sagemaker\n",
      "  Attempting uninstall: smdebug-rulesconfig\n",
      "    Found existing installation: smdebug-rulesconfig 0.1.6\n",
      "    Uninstalling smdebug-rulesconfig-0.1.6:\n",
      "      Successfully uninstalled smdebug-rulesconfig-0.1.6\n",
      "  Attempting uninstall: sagemaker\n",
      "    Found existing installation: sagemaker 2.16.4.dev0\n",
      "    Uninstalling sagemaker-2.16.4.dev0:\n",
      "      Successfully uninstalled sagemaker-2.16.4.dev0\n",
      "Successfully installed sagemaker-1.72.0 smdebug-rulesconfig-0.1.4\n",
      "\u001b[33mWARNING: You are using pip version 20.0.2; however, version 20.3.3 is available.\n",
      "You should consider upgrading via the '/home/ec2-user/anaconda3/envs/pytorch_p36/bin/python -m pip install --upgrade pip' command.\u001b[0m\n"
     ]
    }
   ],
   "source": [
    "# Make sure that we use SageMaker 1.x\n",
    "!pip install sagemaker==1.72.0"
   ]
  },
  {
   "cell_type": "markdown",
   "metadata": {},
   "source": [
    "## Step 1: Downloading the data\n",
    "\n",
    "As in the XGBoost in SageMaker notebook, we will be using the [IMDb dataset](http://ai.stanford.edu/~amaas/data/sentiment/)\n",
    "\n",
    "> Maas, Andrew L., et al. [Learning Word Vectors for Sentiment Analysis](http://ai.stanford.edu/~amaas/data/sentiment/). In _Proceedings of the 49th Annual Meeting of the Association for Computational Linguistics: Human Language Technologies_. Association for Computational Linguistics, 2011."
   ]
  },
  {
   "cell_type": "code",
   "execution_count": 2,
   "metadata": {},
   "outputs": [
    {
     "name": "stdout",
     "output_type": "stream",
     "text": [
      "mkdir: cannot create directory ‘../data’: File exists\n",
      "--2020-12-17 06:11:59--  http://ai.stanford.edu/~amaas/data/sentiment/aclImdb_v1.tar.gz\n",
      "Resolving ai.stanford.edu (ai.stanford.edu)... 171.64.68.10\n",
      "Connecting to ai.stanford.edu (ai.stanford.edu)|171.64.68.10|:80... connected.\n",
      "HTTP request sent, awaiting response... 200 OK\n",
      "Length: 84125825 (80M) [application/x-gzip]\n",
      "Saving to: ‘../data/aclImdb_v1.tar.gz’\n",
      "\n",
      "../data/aclImdb_v1. 100%[===================>]  80.23M  54.0MB/s    in 1.5s    \n",
      "\n",
      "2020-12-17 06:12:00 (54.0 MB/s) - ‘../data/aclImdb_v1.tar.gz’ saved [84125825/84125825]\n",
      "\n"
     ]
    }
   ],
   "source": [
    "%mkdir ../data\n",
    "!wget -O ../data/aclImdb_v1.tar.gz http://ai.stanford.edu/~amaas/data/sentiment/aclImdb_v1.tar.gz\n",
    "!tar -zxf ../data/aclImdb_v1.tar.gz -C ../data"
   ]
  },
  {
   "cell_type": "markdown",
   "metadata": {},
   "source": [
    "## Step 2: Preparing and Processing the data\n",
    "\n",
    "Also, as in the XGBoost notebook, we will be doing some initial data processing. The first few steps are the same as in the XGBoost example. To begin with, we will read in each of the reviews and combine them into a single input structure. Then, we will split the dataset into a training set and a testing set."
   ]
  },
  {
   "cell_type": "code",
   "execution_count": 3,
   "metadata": {},
   "outputs": [],
   "source": [
    "import os\n",
    "import glob\n",
    "\n",
    "def read_imdb_data(data_dir='../data/aclImdb'):\n",
    "    data = {}\n",
    "    labels = {}\n",
    "    \n",
    "    for data_type in ['train', 'test']:\n",
    "        data[data_type] = {}\n",
    "        labels[data_type] = {}\n",
    "        \n",
    "        for sentiment in ['pos', 'neg']:\n",
    "            data[data_type][sentiment] = []\n",
    "            labels[data_type][sentiment] = []\n",
    "            \n",
    "            path = os.path.join(data_dir, data_type, sentiment, '*.txt')\n",
    "            files = glob.glob(path)\n",
    "            \n",
    "            for f in files:\n",
    "                with open(f) as review:\n",
    "                    data[data_type][sentiment].append(review.read())\n",
    "                    # Here we represent a positive review by '1' and a negative review by '0'\n",
    "                    labels[data_type][sentiment].append(1 if sentiment == 'pos' else 0)\n",
    "                    \n",
    "            assert len(data[data_type][sentiment]) == len(labels[data_type][sentiment]), \\\n",
    "                    \"{}/{} data size does not match labels size\".format(data_type, sentiment)\n",
    "                \n",
    "    return data, labels"
   ]
  },
  {
   "cell_type": "code",
   "execution_count": 4,
   "metadata": {},
   "outputs": [
    {
     "name": "stdout",
     "output_type": "stream",
     "text": [
      "IMDB reviews: train = 12500 pos / 12500 neg, test = 12500 pos / 12500 neg\n"
     ]
    }
   ],
   "source": [
    "data, labels = read_imdb_data()\n",
    "print(\"IMDB reviews: train = {} pos / {} neg, test = {} pos / {} neg\".format(\n",
    "            len(data['train']['pos']), len(data['train']['neg']),\n",
    "            len(data['test']['pos']), len(data['test']['neg'])))"
   ]
  },
  {
   "cell_type": "markdown",
   "metadata": {},
   "source": [
    "Now that we've read the raw training and testing data from the downloaded dataset, we will combine the positive and negative reviews and shuffle the resulting records."
   ]
  },
  {
   "cell_type": "code",
   "execution_count": 5,
   "metadata": {},
   "outputs": [],
   "source": [
    "from sklearn.utils import shuffle\n",
    "\n",
    "def prepare_imdb_data(data, labels):\n",
    "    \"\"\"Prepare training and test sets from IMDb movie reviews.\"\"\"\n",
    "    \n",
    "    #Combine positive and negative reviews and labels\n",
    "    data_train = data['train']['pos'] + data['train']['neg']\n",
    "    data_test = data['test']['pos'] + data['test']['neg']\n",
    "    labels_train = labels['train']['pos'] + labels['train']['neg']\n",
    "    labels_test = labels['test']['pos'] + labels['test']['neg']\n",
    "    \n",
    "    #Shuffle reviews and corresponding labels within training and test sets\n",
    "    data_train, labels_train = shuffle(data_train, labels_train)\n",
    "    data_test, labels_test = shuffle(data_test, labels_test)\n",
    "    \n",
    "    # Return a unified training data, test data, training labels, test labets\n",
    "    return data_train, data_test, labels_train, labels_test"
   ]
  },
  {
   "cell_type": "code",
   "execution_count": 6,
   "metadata": {},
   "outputs": [
    {
     "name": "stdout",
     "output_type": "stream",
     "text": [
      "IMDb reviews (combined): train = 25000, test = 25000\n"
     ]
    }
   ],
   "source": [
    "train_X, test_X, train_y, test_y = prepare_imdb_data(data, labels)\n",
    "print(\"IMDb reviews (combined): train = {}, test = {}\".format(len(train_X), len(test_X)))"
   ]
  },
  {
   "cell_type": "markdown",
   "metadata": {},
   "source": [
    "Now that we have our training and testing sets unified and prepared, we should do a quick check and see an example of the data our model will be trained on. This is generally a good idea as it allows you to see how each of the further processing steps affects the reviews and it also ensures that the data has been loaded correctly."
   ]
  },
  {
   "cell_type": "code",
   "execution_count": 7,
   "metadata": {},
   "outputs": [
    {
     "name": "stdout",
     "output_type": "stream",
     "text": [
      "Feh. This movie started out in an interesting manner, but quickly ran the gamut from confusing to dull. The confusing parts happened mostly at the beginning, where the cut scenes are so numerous that its hard to tell just what is going on for the first twenty minutes or so. The dull comes later, with a tepid romance between the two living people(pusses both). The vengeful spirit of the dead girl is actually the most lively person in the film, which is sad. If the rest of the cast had been up to her caliber, the movie might have been better.<br /><br />Maybe. Because the storyline gets really interesting for awhile, as it appears that the insane priestess mother of the dead sixteen year old girl is trying to resurrect her daughter from the dead, with the decidedly unfortunate side effect that all of the other dead people would come back as well, take on solid human form, and most likely start killing off everybody. A sort of Japanese mystical Night of the Living Dead type thing. But this doesn't come to pass. Even though this hairy unwashed priest with a tiny basket strapped to his head tells the uninteresting young people that this will come to pass if the priestess finishes her ritual, she does just that and the only dead person who manifests is her daughter. No mass rising of the dead, no walking army of corpses, nothing. The priest merely makes the girl's spirit go back to the land of the dead, taking the washed out wuss of a boyfriend with her, as she'd crushed his spine like peanut brittle(at which point I was tempted to cheer loudly, as this idiot went over to kiss and fondle the DEAD girl,,ewwww!!!). The Robitussen sucking, spineless best friend has a long introspective shot at the end as she leaves the village for the last time, and that's it. No real horror, no real creepiness, which the Japanese tend to do far better than American film makers with their emphasis on over-the-top cheesy face make-up, no screaming mimis. I was very disappointed.\n",
      "0\n"
     ]
    }
   ],
   "source": [
    "print(train_X[100])\n",
    "print(train_y[100])"
   ]
  },
  {
   "cell_type": "markdown",
   "metadata": {},
   "source": [
    "The first step in processing the reviews is to make sure that any html tags that appear should be removed. In addition we wish to tokenize our input, that way words such as *entertained* and *entertaining* are considered the same with regard to sentiment analysis."
   ]
  },
  {
   "cell_type": "code",
   "execution_count": 8,
   "metadata": {},
   "outputs": [],
   "source": [
    "import nltk\n",
    "from nltk.corpus import stopwords\n",
    "from nltk.stem.porter import *\n",
    "\n",
    "import re\n",
    "from bs4 import BeautifulSoup\n",
    "\n",
    "def review_to_words(review):\n",
    "    nltk.download(\"stopwords\", quiet=True)\n",
    "    stemmer = PorterStemmer()\n",
    "    \n",
    "    text = BeautifulSoup(review, \"html.parser\").get_text() # Remove HTML tags\n",
    "    text = re.sub(r\"[^a-zA-Z0-9]\", \" \", text.lower()) # Convert to lower case\n",
    "    words = text.split() # Split string into words\n",
    "    words = [w for w in words if w not in stopwords.words(\"english\")] # Remove stopwords\n",
    "    words = [PorterStemmer().stem(w) for w in words] # stem\n",
    "    \n",
    "    return words"
   ]
  },
  {
   "cell_type": "markdown",
   "metadata": {},
   "source": [
    "The `review_to_words` method defined above uses `BeautifulSoup` to remove any html tags that appear and uses the `nltk` package to tokenize the reviews. As a check to ensure we know how everything is working, try applying `review_to_words` to one of the reviews in the training set."
   ]
  },
  {
   "cell_type": "code",
   "execution_count": 9,
   "metadata": {},
   "outputs": [],
   "source": [
    "# TODO: Apply review_to_words to a review (train_X[100] or any other review)\n",
    "review_in_words = review_to_words(train_X[100])"
   ]
  },
  {
   "cell_type": "code",
   "execution_count": 10,
   "metadata": {},
   "outputs": [
    {
     "name": "stdout",
     "output_type": "stream",
     "text": [
      "['feh', 'movi', 'start', 'interest', 'manner', 'quickli', 'ran', 'gamut', 'confus', 'dull', 'confus', 'part', 'happen', 'mostli', 'begin', 'cut', 'scene', 'numer', 'hard', 'tell', 'go', 'first', 'twenti', 'minut', 'dull', 'come', 'later', 'tepid', 'romanc', 'two', 'live', 'peopl', 'puss', 'veng', 'spirit', 'dead', 'girl', 'actual', 'live', 'person', 'film', 'sad', 'rest', 'cast', 'calib', 'movi', 'might', 'better', 'mayb', 'storylin', 'get', 'realli', 'interest', 'awhil', 'appear', 'insan', 'priestess', 'mother', 'dead', 'sixteen', 'year', 'old', 'girl', 'tri', 'resurrect', 'daughter', 'dead', 'decidedli', 'unfortun', 'side', 'effect', 'dead', 'peopl', 'would', 'come', 'back', 'well', 'take', 'solid', 'human', 'form', 'like', 'start', 'kill', 'everybodi', 'sort', 'japanes', 'mystic', 'night', 'live', 'dead', 'type', 'thing', 'come', 'pass', 'even', 'though', 'hairi', 'unwash', 'priest', 'tini', 'basket', 'strap', 'head', 'tell', 'uninterest', 'young', 'peopl', 'come', 'pass', 'priestess', 'finish', 'ritual', 'dead', 'person', 'manifest', 'daughter', 'mass', 'rise', 'dead', 'walk', 'armi', 'corps', 'noth', 'priest', 'mere', 'make', 'girl', 'spirit', 'go', 'back', 'land', 'dead', 'take', 'wash', 'wuss', 'boyfriend', 'crush', 'spine', 'like', 'peanut', 'brittl', 'point', 'tempt', 'cheer', 'loudli', 'idiot', 'went', 'kiss', 'fondl', 'dead', 'girl', 'ewwww', 'robitussen', 'suck', 'spineless', 'best', 'friend', 'long', 'introspect', 'shot', 'end', 'leav', 'villag', 'last', 'time', 'real', 'horror', 'real', 'creepi', 'japanes', 'tend', 'far', 'better', 'american', 'film', 'maker', 'emphasi', 'top', 'cheesi', 'face', 'make', 'scream', 'mimi', 'disappoint']\n"
     ]
    }
   ],
   "source": [
    "print(review_in_words)"
   ]
  },
  {
   "cell_type": "markdown",
   "metadata": {},
   "source": [
    "**Question:** Above we mentioned that `review_to_words` method removes html formatting and allows us to tokenize the words found in a review, for example, converting *entertained* and *entertaining* into *entertain* so that they are treated as though they are the same word. What else, if anything, does this method do to the input?"
   ]
  },
  {
   "cell_type": "markdown",
   "metadata": {},
   "source": [
    "**Answer:**"
   ]
  },
  {
   "cell_type": "markdown",
   "metadata": {},
   "source": [
    "The method below applies the `review_to_words` method to each of the reviews in the training and testing datasets. In addition it caches the results. This is because performing this processing step can take a long time. This way if you are unable to complete the notebook in the current session, you can come back without needing to process the data a second time.\n",
    "\n",
    "Particularly the `review_to_words` function removes any html tags and converts the entire review into lower case and removes any special characteres that might be present in the review. Then it splits each review into a list of words and removes the very frequent words that do not carry any important information aka stopwords, since they do not impart any meaning to the model which might be helpful in determining the sentiment of the review. Last but not the least stemming of the words are done such that any form of the word is reduced to its root word. This not only reduces the dimension of the dataset but also improves the prediction capability of the model as different forms of the word can find relation to the same root word learned by the model."
   ]
  },
  {
   "cell_type": "code",
   "execution_count": 11,
   "metadata": {},
   "outputs": [],
   "source": [
    "import pickle\n",
    "\n",
    "cache_dir = os.path.join(\"../cache\", \"sentiment_analysis\")  # where to store cache files\n",
    "os.makedirs(cache_dir, exist_ok=True)  # ensure cache directory exists\n",
    "\n",
    "def preprocess_data(data_train, data_test, labels_train, labels_test,\n",
    "                    cache_dir=cache_dir, cache_file=\"preprocessed_data.pkl\"):\n",
    "    \"\"\"Convert each review to words; read from cache if available.\"\"\"\n",
    "\n",
    "    # If cache_file is not None, try to read from it first\n",
    "    cache_data = None\n",
    "    if cache_file is not None:\n",
    "        try:\n",
    "            with open(os.path.join(cache_dir, cache_file), \"rb\") as f:\n",
    "                cache_data = pickle.load(f)\n",
    "            print(\"Read preprocessed data from cache file:\", cache_file)\n",
    "        except:\n",
    "            pass  # unable to read from cache, but that's okay\n",
    "    \n",
    "    # If cache is missing, then do the heavy lifting\n",
    "    if cache_data is None:\n",
    "        # Preprocess training and test data to obtain words for each review\n",
    "        #words_train = list(map(review_to_words, data_train))\n",
    "        #words_test = list(map(review_to_words, data_test))\n",
    "        words_train = [review_to_words(review) for review in data_train]\n",
    "        words_test = [review_to_words(review) for review in data_test]\n",
    "        \n",
    "        # Write to cache file for future runs\n",
    "        if cache_file is not None:\n",
    "            cache_data = dict(words_train=words_train, words_test=words_test,\n",
    "                              labels_train=labels_train, labels_test=labels_test)\n",
    "            with open(os.path.join(cache_dir, cache_file), \"wb\") as f:\n",
    "                pickle.dump(cache_data, f)\n",
    "            print(\"Wrote preprocessed data to cache file:\", cache_file)\n",
    "    else:\n",
    "        # Unpack data loaded from cache file\n",
    "        words_train, words_test, labels_train, labels_test = (cache_data['words_train'],\n",
    "                cache_data['words_test'], cache_data['labels_train'], cache_data['labels_test'])\n",
    "    \n",
    "    return words_train, words_test, labels_train, labels_test"
   ]
  },
  {
   "cell_type": "code",
   "execution_count": 12,
   "metadata": {},
   "outputs": [
    {
     "name": "stdout",
     "output_type": "stream",
     "text": [
      "Read preprocessed data from cache file: preprocessed_data.pkl\n"
     ]
    }
   ],
   "source": [
    "# Preprocess data\n",
    "train_X, test_X, train_y, test_y = preprocess_data(train_X, test_X, train_y, test_y)"
   ]
  },
  {
   "cell_type": "markdown",
   "metadata": {},
   "source": [
    "## Transform the data\n",
    "\n",
    "In the XGBoost notebook we transformed the data from its word representation to a bag-of-words feature representation. For the model we are going to construct in this notebook we will construct a feature representation which is very similar. To start, we will represent each word as an integer. Of course, some of the words that appear in the reviews occur very infrequently and so likely don't contain much information for the purposes of sentiment analysis. The way we will deal with this problem is that we will fix the size of our working vocabulary and we will only include the words that appear most frequently. We will then combine all of the infrequent words into a single category and, in our case, we will label it as `1`.\n",
    "\n",
    "Since we will be using a recurrent neural network, it will be convenient if the length of each review is the same. To do this, we will fix a size for our reviews and then pad short reviews with the category 'no word' (which we will label `0`) and truncate long reviews."
   ]
  },
  {
   "cell_type": "markdown",
   "metadata": {},
   "source": [
    "### (TODO) Create a word dictionary\n",
    "\n",
    "To begin with, we need to construct a way to map words that appear in the reviews to integers. Here we fix the size of our vocabulary (including the 'no word' and 'infrequent' categories) to be `5000` but you may wish to change this to see how it affects the model.\n",
    "\n",
    "> **TODO:** Complete the implementation for the `build_dict()` method below. Note that even though the vocab_size is set to `5000`, we only want to construct a mapping for the most frequently appearing `4998` words. This is because we want to reserve the special labels `0` for 'no word' and `1` for 'infrequent word'."
   ]
  },
  {
   "cell_type": "code",
   "execution_count": 13,
   "metadata": {},
   "outputs": [],
   "source": [
    "\n",
    "import numpy as np\n",
    "\n",
    "##Ayushi\n",
    "import itertools, collections\n",
    "\n",
    "def build_dict(data, vocab_size = 5000):\n",
    "    \"\"\"Construct and return a dictionary mapping each of the most frequently appearing words to a unique integer.\"\"\"\n",
    "    \n",
    "    # TODO: Determine how often each word appears in `data`. Note that `data` is a list of sentences and that a\n",
    "    #       sentence is a list of words.\n",
    "    \n",
    "    word_count = {} # A dict storing the words that appear in the reviews along with how often they occur\n",
    "    \n",
    "    ##Ayushi\n",
    "    word_count = dict(collections.Counter(itertools.chain(*data)))\n",
    "    # TODO: Sort the words found in `data` so that sorted_words[0] is the most frequently appearing word and\n",
    "    #       sorted_words[-1] is the least frequently appearing word.\n",
    "    \n",
    "    sorted_words = None\n",
    "    \n",
    "    sorted_words_and_counts = dict(sorted(word_count.items(), key=lambda item: item[1], reverse=True)) \n",
    "    sorted_words = list(sorted_words_and_counts.keys())\n",
    "    print(len(sorted_words))\n",
    "    word_dict = {} # This is what we are building, a dictionary that translates words into integers\n",
    "    for idx, word in enumerate(sorted_words[:vocab_size - 2]): # The -2 is so that we save room for the 'no word'\n",
    "        word_dict[word] = idx + 2                              # 'infrequent' labels\n",
    "        \n",
    "    return word_dict"
   ]
  },
  {
   "cell_type": "code",
   "execution_count": 14,
   "metadata": {},
   "outputs": [
    {
     "name": "stdout",
     "output_type": "stream",
     "text": [
      "51857\n",
      "{'movi': 2, 'film': 3, 'one': 4, 'like': 5, 'time': 6, 'good': 7, 'make': 8, 'charact': 9, 'get': 10, 'see': 11, 'watch': 12, 'stori': 13, 'even': 14, 'would': 15, 'realli': 16, 'well': 17, 'scene': 18, 'look': 19, 'show': 20, 'much': 21, 'end': 22, 'peopl': 23, 'bad': 24, 'go': 25, 'great': 26, 'also': 27, 'first': 28, 'love': 29, 'think': 30, 'way': 31, 'act': 32, 'play': 33, 'made': 34, 'thing': 35, 'could': 36, 'know': 37, 'say': 38, 'seem': 39, 'work': 40, 'plot': 41, 'two': 42, 'actor': 43, 'year': 44, 'come': 45, 'mani': 46, 'seen': 47, 'take': 48, 'life': 49, 'want': 50, 'never': 51, 'littl': 52, 'best': 53, 'tri': 54, 'man': 55, 'ever': 56, 'give': 57, 'better': 58, 'still': 59, 'perform': 60, 'find': 61, 'feel': 62, 'part': 63, 'back': 64, 'use': 65, 'someth': 66, 'director': 67, 'actual': 68, 'interest': 69, 'lot': 70, 'real': 71, 'old': 72, 'cast': 73, 'though': 74, 'live': 75, 'star': 76, 'enjoy': 77, 'guy': 78, 'anoth': 79, 'new': 80, 'role': 81, 'noth': 82, '10': 83, 'funni': 84, 'music': 85, 'point': 86, 'start': 87, 'set': 88, 'girl': 89, 'origin': 90, 'day': 91, 'world': 92, 'everi': 93, 'believ': 94, 'turn': 95, 'quit': 96, 'us': 97, 'direct': 98, 'thought': 99, 'fact': 100, 'minut': 101, 'horror': 102, 'kill': 103, 'action': 104, 'comedi': 105, 'pretti': 106, 'young': 107, 'wonder': 108, 'happen': 109, 'around': 110, 'got': 111, 'effect': 112, 'right': 113, 'long': 114, 'howev': 115, 'big': 116, 'line': 117, 'famili': 118, 'enough': 119, 'seri': 120, 'may': 121, 'need': 122, 'fan': 123, 'bit': 124, 'script': 125, 'beauti': 126, 'person': 127, 'becom': 128, 'without': 129, 'must': 130, 'alway': 131, 'friend': 132, 'tell': 133, 'reason': 134, 'saw': 135, 'last': 136, 'final': 137, 'kid': 138, 'almost': 139, 'put': 140, 'least': 141, 'sure': 142, 'done': 143, 'whole': 144, 'place': 145, 'complet': 146, 'kind': 147, 'differ': 148, 'expect': 149, 'shot': 150, 'far': 151, 'mean': 152, 'anyth': 153, 'book': 154, 'laugh': 155, 'might': 156, 'name': 157, 'sinc': 158, 'begin': 159, '2': 160, 'probabl': 161, 'woman': 162, 'help': 163, 'entertain': 164, 'let': 165, 'screen': 166, 'call': 167, 'tv': 168, 'moment': 169, 'away': 170, 'read': 171, 'yet': 172, 'rather': 173, 'worst': 174, 'run': 175, 'fun': 176, 'lead': 177, 'hard': 178, 'audienc': 179, 'idea': 180, 'anyon': 181, 'episod': 182, 'american': 183, 'found': 184, 'appear': 185, 'bore': 186, 'especi': 187, 'although': 188, 'hope': 189, 'keep': 190, 'cours': 191, 'anim': 192, 'job': 193, 'goe': 194, 'move': 195, 'sens': 196, 'dvd': 197, 'version': 198, 'war': 199, 'money': 200, 'someon': 201, 'mind': 202, 'mayb': 203, 'problem': 204, 'true': 205, 'hous': 206, 'everyth': 207, 'nice': 208, 'second': 209, 'rate': 210, 'three': 211, 'night': 212, 'face': 213, 'follow': 214, 'recommend': 215, 'product': 216, 'main': 217, 'worth': 218, 'leav': 219, 'human': 220, 'special': 221, 'excel': 222, 'togeth': 223, 'wast': 224, 'everyon': 225, 'sound': 226, 'john': 227, 'hand': 228, '1': 229, 'father': 230, 'later': 231, 'eye': 232, 'said': 233, 'view': 234, 'instead': 235, 'review': 236, 'boy': 237, 'high': 238, 'hour': 239, 'miss': 240, 'classic': 241, 'talk': 242, 'wife': 243, 'understand': 244, 'left': 245, 'care': 246, 'black': 247, 'death': 248, 'open': 249, 'murder': 250, 'write': 251, 'half': 252, 'head': 253, 'rememb': 254, 'chang': 255, 'viewer': 256, 'fight': 257, 'gener': 258, 'surpris': 259, 'short': 260, 'includ': 261, 'die': 262, 'fall': 263, 'less': 264, 'els': 265, 'entir': 266, 'piec': 267, 'involv': 268, 'pictur': 269, 'simpli': 270, 'home': 271, 'top': 272, 'power': 273, 'total': 274, 'usual': 275, 'budget': 276, 'attempt': 277, 'suppos': 278, 'releas': 279, 'hollywood': 280, 'terribl': 281, 'song': 282, 'men': 283, 'possibl': 284, 'featur': 285, 'portray': 286, 'disappoint': 287, '3': 288, 'poor': 289, 'coupl': 290, 'stupid': 291, 'camera': 292, 'dead': 293, 'wrong': 294, 'low': 295, 'produc': 296, 'video': 297, 'either': 298, 'aw': 299, 'definit': 300, 'except': 301, 'rest': 302, 'given': 303, 'absolut': 304, 'women': 305, 'lack': 306, 'word': 307, 'writer': 308, 'titl': 309, 'talent': 310, 'decid': 311, 'full': 312, 'perfect': 313, 'along': 314, 'style': 315, 'close': 316, 'truli': 317, 'school': 318, 'save': 319, 'emot': 320, 'age': 321, 'sex': 322, 'next': 323, 'bring': 324, 'mr': 325, 'case': 326, 'killer': 327, 'heart': 328, 'comment': 329, 'sort': 330, 'creat': 331, 'perhap': 332, 'came': 333, 'brother': 334, 'sever': 335, 'joke': 336, 'art': 337, 'dialogu': 338, 'game': 339, 'small': 340, 'base': 341, 'flick': 342, 'written': 343, 'sequenc': 344, 'meet': 345, 'earli': 346, 'often': 347, 'other': 348, 'mother': 349, 'develop': 350, 'humor': 351, 'actress': 352, 'consid': 353, 'dark': 354, 'guess': 355, 'amaz': 356, 'unfortun': 357, 'light': 358, 'lost': 359, 'exampl': 360, 'cinema': 361, 'drama': 362, 'ye': 363, 'white': 364, 'experi': 365, 'imagin': 366, 'mention': 367, 'stop': 368, 'natur': 369, 'forc': 370, 'manag': 371, 'felt': 372, 'cut': 373, 'present': 374, 'children': 375, 'fail': 376, 'son': 377, 'qualiti': 378, 'car': 379, 'support': 380, 'ask': 381, 'hit': 382, 'side': 383, 'voic': 384, 'extrem': 385, 'impress': 386, 'evil': 387, 'wors': 388, 'went': 389, 'stand': 390, 'certainli': 391, 'basic': 392, 'oh': 393, 'overal': 394, 'favorit': 395, 'horribl': 396, 'mysteri': 397, 'number': 398, 'type': 399, 'danc': 400, 'wait': 401, 'hero': 402, '5': 403, 'alreadi': 404, 'learn': 405, 'matter': 406, '4': 407, 'michael': 408, 'genr': 409, 'fine': 410, 'despit': 411, 'throughout': 412, 'walk': 413, 'success': 414, 'histori': 415, 'question': 416, 'zombi': 417, 'town': 418, 'relationship': 419, 'realiz': 420, 'past': 421, 'child': 422, 'daughter': 423, 'late': 424, 'b': 425, 'wish': 426, 'hate': 427, 'credit': 428, 'event': 429, 'theme': 430, 'touch': 431, 'citi': 432, 'today': 433, 'sometim': 434, 'behind': 435, 'god': 436, 'twist': 437, 'sit': 438, 'stay': 439, 'deal': 440, 'annoy': 441, 'abl': 442, 'rent': 443, 'pleas': 444, 'edit': 445, 'blood': 446, 'deserv': 447, 'anyway': 448, 'comic': 449, 'appar': 450, 'soon': 451, 'gave': 452, 'etc': 453, 'level': 454, 'slow': 455, 'chanc': 456, 'score': 457, 'bodi': 458, 'brilliant': 459, 'incred': 460, 'figur': 461, 'situat': 462, 'major': 463, 'self': 464, 'stuff': 465, 'decent': 466, 'element': 467, 'dream': 468, 'return': 469, 'obvious': 470, 'order': 471, 'continu': 472, 'pace': 473, 'ridicul': 474, 'happi': 475, 'highli': 476, 'add': 477, 'group': 478, 'thank': 479, 'ladi': 480, 'novel': 481, 'speak': 482, 'pain': 483, 'career': 484, 'shoot': 485, 'strang': 486, 'heard': 487, 'sad': 488, 'husband': 489, 'polic': 490, 'import': 491, 'break': 492, 'took': 493, 'strong': 494, 'cannot': 495, 'predict': 496, 'robert': 497, 'violenc': 498, 'hilari': 499, 'recent': 500, 'countri': 501, 'known': 502, 'particularli': 503, 'pick': 504, 'documentari': 505, 'season': 506, 'critic': 507, 'jame': 508, 'compar': 509, 'alon': 510, 'obviou': 511, 'told': 512, 'state': 513, 'rock': 514, 'visual': 515, 'offer': 516, 'exist': 517, 'theater': 518, 'opinion': 519, 'gore': 520, 'crap': 521, 'hold': 522, 'result': 523, 'realiti': 524, 'room': 525, 'hear': 526, 'clich': 527, 'effort': 528, 'thriller': 529, 'caus': 530, 'explain': 531, 'serious': 532, 'sequel': 533, 'king': 534, 'local': 535, 'ago': 536, 'hell': 537, 'none': 538, 'note': 539, 'allow': 540, 'david': 541, 'sister': 542, 'simpl': 543, 'femal': 544, 'deliv': 545, 'ok': 546, 'class': 547, 'convinc': 548, 'check': 549, 'suspens': 550, 'win': 551, 'oscar': 552, 'buy': 553, 'huge': 554, 'valu': 555, 'sexual': 556, 'cool': 557, 'scari': 558, 'excit': 559, 'similar': 560, 'apart': 561, 'provid': 562, 'exactli': 563, 'shown': 564, 'avoid': 565, 'seriou': 566, 'english': 567, 'whose': 568, 'taken': 569, 'cinematographi': 570, 'shock': 571, 'polit': 572, 'spoiler': 573, 'offic': 574, 'across': 575, 'middl': 576, 'pass': 577, 'street': 578, 'messag': 579, 'silli': 580, 'somewhat': 581, 'charm': 582, 'modern': 583, 'confus': 584, 'filmmak': 585, 'form': 586, 'tale': 587, 'singl': 588, 'jack': 589, 'mostli': 590, 'attent': 591, 'carri': 592, 'william': 593, 'sing': 594, 'subject': 595, 'five': 596, 'prove': 597, 'richard': 598, 'stage': 599, 'team': 600, 'cop': 601, 'unlik': 602, 'georg': 603, 'televis': 604, 'monster': 605, 'earth': 606, 'cover': 607, 'villain': 608, 'pay': 609, 'marri': 610, 'toward': 611, 'build': 612, 'parent': 613, 'pull': 614, 'due': 615, 'respect': 616, 'fill': 617, 'four': 618, 'dialog': 619, 'remind': 620, 'futur': 621, 'weak': 622, 'typic': 623, '7': 624, 'cheap': 625, 'intellig': 626, 'british': 627, 'atmospher': 628, 'clearli': 629, '80': 630, 'non': 631, 'dog': 632, 'paul': 633, 'knew': 634, 'artist': 635, 'fast': 636, '8': 637, 'crime': 638, 'easili': 639, 'escap': 640, 'doubt': 641, 'adult': 642, 'detail': 643, 'date': 644, 'fire': 645, 'member': 646, 'romant': 647, 'drive': 648, 'gun': 649, 'straight': 650, 'fit': 651, 'beyond': 652, 'attack': 653, 'imag': 654, 'upon': 655, 'posit': 656, 'whether': 657, 'peter': 658, 'fantast': 659, 'aspect': 660, 'captur': 661, 'appreci': 662, 'ten': 663, 'plan': 664, 'discov': 665, 'remain': 666, 'period': 667, 'near': 668, 'air': 669, 'realist': 670, 'mark': 671, 'red': 672, 'dull': 673, 'adapt': 674, 'within': 675, 'lose': 676, 'spend': 677, 'materi': 678, 'color': 679, 'chase': 680, 'mari': 681, 'storylin': 682, 'forget': 683, 'bunch': 684, 'clear': 685, 'lee': 686, 'victim': 687, 'nearli': 688, 'box': 689, 'york': 690, 'match': 691, 'inspir': 692, 'finish': 693, 'mess': 694, 'standard': 695, 'easi': 696, 'truth': 697, 'busi': 698, 'suffer': 699, 'dramat': 700, 'space': 701, 'bill': 702, 'western': 703, 'e': 704, 'list': 705, 'battl': 706, 'notic': 707, 'de': 708, 'french': 709, 'ad': 710, '9': 711, 'tom': 712, 'larg': 713, 'among': 714, 'eventu': 715, 'accept': 716, 'train': 717, 'agre': 718, 'spirit': 719, 'soundtrack': 720, 'third': 721, 'teenag': 722, 'adventur': 723, 'soldier': 724, 'sorri': 725, 'suggest': 726, 'famou': 727, 'drug': 728, 'cri': 729, 'normal': 730, 'babi': 731, 'ultim': 732, 'troubl': 733, 'contain': 734, 'certain': 735, 'cultur': 736, 'romanc': 737, 'rare': 738, 'lame': 739, 'somehow': 740, 'mix': 741, 'disney': 742, 'gone': 743, 'cartoon': 744, 'student': 745, 'fear': 746, 'reveal': 747, 'suck': 748, 'kept': 749, 'attract': 750, 'appeal': 751, 'premis': 752, 'greatest': 753, 'design': 754, 'secret': 755, 'shame': 756, 'throw': 757, 'scare': 758, 'copi': 759, 'wit': 760, 'america': 761, 'admit': 762, 'particular': 763, 'relat': 764, 'brought': 765, 'screenplay': 766, 'whatev': 767, 'pure': 768, '70': 769, 'harri': 770, 'averag': 771, 'master': 772, 'describ': 773, 'treat': 774, 'male': 775, '20': 776, 'issu': 777, 'fantasi': 778, 'warn': 779, 'inde': 780, 'background': 781, 'forward': 782, 'free': 783, 'project': 784, 'japanes': 785, 'memor': 786, 'poorli': 787, 'award': 788, 'locat': 789, 'amus': 790, 'potenti': 791, 'struggl': 792, 'weird': 793, 'magic': 794, 'societi': 795, 'okay': 796, 'imdb': 797, 'accent': 798, 'doctor': 799, 'water': 800, 'hot': 801, 'dr': 802, 'express': 803, '30': 804, 'alien': 805, 'odd': 806, 'crazi': 807, 'choic': 808, 'fiction': 809, 'studio': 810, 'becam': 811, 'control': 812, 'masterpiec': 813, 'difficult': 814, 'fli': 815, 'joe': 816, 'scream': 817, 'costum': 818, 'lover': 819, 'uniqu': 820, 'refer': 821, 'remak': 822, 'girlfriend': 823, 'vampir': 824, 'prison': 825, 'execut': 826, 'wear': 827, 'jump': 828, 'wood': 829, 'unless': 830, 'creepi': 831, 'cheesi': 832, 'superb': 833, 'otherwis': 834, 'parti': 835, 'ghost': 836, 'roll': 837, 'mad': 838, 'public': 839, 'depict': 840, 'badli': 841, 'moral': 842, 'jane': 843, 'earlier': 844, 'week': 845, 'dumb': 846, 'fi': 847, 'flaw': 848, 'grow': 849, 'deep': 850, 'sci': 851, 'maker': 852, 'cat': 853, 'footag': 854, 'older': 855, 'connect': 856, 'plenti': 857, 'bother': 858, 'outsid': 859, 'stick': 860, 'gay': 861, 'catch': 862, 'plu': 863, 'co': 864, 'popular': 865, 'equal': 866, 'social': 867, 'quickli': 868, 'disturb': 869, 'perfectli': 870, 'dress': 871, '90': 872, 'era': 873, 'mistak': 874, 'lie': 875, 'ride': 876, 'previou': 877, 'combin': 878, 'concept': 879, 'band': 880, 'surviv': 881, 'rich': 882, 'answer': 883, 'front': 884, 'christma': 885, 'sweet': 886, 'insid': 887, 'bare': 888, 'concern': 889, 'eat': 890, 'listen': 891, 'beat': 892, 'ben': 893, 'c': 894, 'term': 895, 'serv': 896, 'la': 897, 'meant': 898, 'german': 899, 'hardli': 900, 'stereotyp': 901, 'innoc': 902, 'law': 903, 'desper': 904, 'memori': 905, 'promis': 906, 'cute': 907, 'intent': 908, 'variou': 909, 'inform': 910, 'steal': 911, 'brain': 912, 'post': 913, 'tone': 914, 'island': 915, 'amount': 916, 'compani': 917, 'track': 918, 'nuditi': 919, 'claim': 920, 'store': 921, 'flat': 922, '50': 923, 'hair': 924, 'univers': 925, 'land': 926, 'danger': 927, 'scott': 928, 'kick': 929, 'fairli': 930, 'player': 931, 'plain': 932, 'step': 933, 'crew': 934, 'toni': 935, 'share': 936, 'centuri': 937, 'tast': 938, 'engag': 939, 'achiev': 940, 'travel': 941, 'cold': 942, 'record': 943, 'suit': 944, 'rip': 945, 'manner': 946, 'sadli': 947, 'tension': 948, 'wrote': 949, 'spot': 950, 'intens': 951, 'fascin': 952, 'familiar': 953, 'remark': 954, 'depth': 955, 'burn': 956, 'histor': 957, 'destroy': 958, 'sleep': 959, 'purpos': 960, 'languag': 961, 'ruin': 962, 'ignor': 963, 'delight': 964, 'unbeliev': 965, 'italian': 966, 'abil': 967, 'soul': 968, 'collect': 969, 'detect': 970, 'clever': 971, 'violent': 972, 'rape': 973, 'reach': 974, 'door': 975, 'scienc': 976, 'trash': 977, 'liter': 978, 'commun': 979, 'caught': 980, 'reveng': 981, 'creatur': 982, 'approach': 983, 'trip': 984, 'intrigu': 985, 'fashion': 986, 'skill': 987, 'introduc': 988, 'paint': 989, 'channel': 990, 'complex': 991, 'camp': 992, 'christian': 993, 'extra': 994, 'hole': 995, 'immedi': 996, 'mental': 997, 'ann': 998, 'limit': 999, 'mere': 1000, 'slightli': 1001, '6': 1002, 'comput': 1003, 'million': 1004, 'conclus': 1005, 'slasher': 1006, 'suddenli': 1007, 'imposs': 1008, 'crimin': 1009, 'neither': 1010, 'teen': 1011, 'physic': 1012, 'nation': 1013, 'spent': 1014, 'respons': 1015, 'planet': 1016, 'receiv': 1017, 'fake': 1018, 'blue': 1019, 'sick': 1020, 'bizarr': 1021, 'embarrass': 1022, 'indian': 1023, '15': 1024, 'ring': 1025, 'drop': 1026, 'pop': 1027, 'drag': 1028, 'haunt': 1029, 'suspect': 1030, 'pointless': 1031, 'search': 1032, 'edg': 1033, 'handl': 1034, 'common': 1035, 'biggest': 1036, 'arriv': 1037, 'hurt': 1038, 'faith': 1039, 'technic': 1040, 'angel': 1041, 'genuin': 1042, 'dad': 1043, 'solid': 1044, 'awesom': 1045, 'f': 1046, 'colleg': 1047, 'focu': 1048, 'former': 1049, 'van': 1050, 'count': 1051, 'heavi': 1052, 'tear': 1053, 'wall': 1054, 'rais': 1055, 'visit': 1056, 'laughabl': 1057, 'younger': 1058, 'fair': 1059, 'sign': 1060, 'excus': 1061, 'cult': 1062, 'tough': 1063, 'key': 1064, 'motion': 1065, 'desir': 1066, 'super': 1067, 'addit': 1068, 'stun': 1069, 'exploit': 1070, 'cloth': 1071, 'tortur': 1072, 'smith': 1073, 'race': 1074, 'davi': 1075, 'cross': 1076, 'author': 1077, 'jim': 1078, 'minor': 1079, 'consist': 1080, 'focus': 1081, 'compel': 1082, 'commit': 1083, 'pathet': 1084, 'chemistri': 1085, 'park': 1086, 'obsess': 1087, 'tradit': 1088, 'frank': 1089, 'grade': 1090, '60': 1091, 'asid': 1092, 'brutal': 1093, 'somewher': 1094, 'steve': 1095, 'grant': 1096, 'explor': 1097, 'rule': 1098, 'depress': 1099, 'opportun': 1100, 'u': 1101, 'besid': 1102, 'honest': 1103, 'anti': 1104, 'dub': 1105, 'intend': 1106, 'trailer': 1107, 'bar': 1108, 'west': 1109, 'longer': 1110, 'scientist': 1111, 'regard': 1112, 'decad': 1113, 'judg': 1114, 'silent': 1115, 'creativ': 1116, 'armi': 1117, 'wild': 1118, 'g': 1119, 'south': 1120, 'stewart': 1121, 'draw': 1122, 'road': 1123, 'govern': 1124, 'ex': 1125, 'boss': 1126, 'practic': 1127, 'festiv': 1128, 'motiv': 1129, 'surprisingli': 1130, 'gang': 1131, 'club': 1132, 'green': 1133, 'page': 1134, 'redeem': 1135, 'london': 1136, 'machin': 1137, 'militari': 1138, 'display': 1139, 'idiot': 1140, 'aliv': 1141, 'repeat': 1142, 'thrill': 1143, '100': 1144, 'folk': 1145, 'yeah': 1146, 'nobodi': 1147, '40': 1148, 'journey': 1149, 'garbag': 1150, 'smile': 1151, 'tire': 1152, 'ground': 1153, 'bought': 1154, 'mood': 1155, 'stone': 1156, 'sam': 1157, 'cost': 1158, 'mouth': 1159, 'noir': 1160, 'terrif': 1161, 'agent': 1162, 'requir': 1163, 'utterli': 1164, 'sexi': 1165, 'honestli': 1166, 'area': 1167, 'geniu': 1168, 'report': 1169, 'enter': 1170, 'investig': 1171, 'glad': 1172, 'humour': 1173, 'serial': 1174, 'occasion': 1175, 'narr': 1176, 'passion': 1177, 'climax': 1178, 'marriag': 1179, 'studi': 1180, 'industri': 1181, 'nowher': 1182, 'center': 1183, 'demon': 1184, 'charli': 1185, 'ship': 1186, 'loos': 1187, 'bear': 1188, 'hors': 1189, 'hang': 1190, 'wow': 1191, 'graphic': 1192, 'admir': 1193, 'giant': 1194, 'send': 1195, 'loud': 1196, 'damn': 1197, 'subtl': 1198, 'nake': 1199, 'rel': 1200, 'profession': 1201, 'blow': 1202, 'bottom': 1203, 'insult': 1204, 'batman': 1205, 'boyfriend': 1206, 'doubl': 1207, 'r': 1208, 'kelli': 1209, 'initi': 1210, 'frame': 1211, 'gem': 1212, 'opera': 1213, 'affect': 1214, 'drawn': 1215, 'challeng': 1216, 'cinemat': 1217, 'church': 1218, 'nightmar': 1219, 'fulli': 1220, 'j': 1221, 'evid': 1222, 'seek': 1223, 'l': 1224, 'essenti': 1225, 'conflict': 1226, 'arm': 1227, 'henri': 1228, 'christoph': 1229, 'grace': 1230, 'wind': 1231, 'witch': 1232, 'assum': 1233, 'narrat': 1234, 'push': 1235, 'hunt': 1236, 'chri': 1237, 'wise': 1238, 'repres': 1239, 'nomin': 1240, 'month': 1241, 'affair': 1242, 'hide': 1243, 'avail': 1244, 'sceneri': 1245, 'justic': 1246, 'thu': 1247, 'smart': 1248, 'bond': 1249, 'interview': 1250, 'outstand': 1251, 'flashback': 1252, 'presenc': 1253, 'constantli': 1254, 'satisfi': 1255, 'central': 1256, 'bed': 1257, 'content': 1258, 'iron': 1259, 'sell': 1260, 'everybodi': 1261, 'gag': 1262, 'hotel': 1263, 'slowli': 1264, 'hire': 1265, 'system': 1266, 'individu': 1267, 'adam': 1268, 'thrown': 1269, 'charl': 1270, 'hey': 1271, 'jone': 1272, 'allen': 1273, 'mediocr': 1274, 'billi': 1275, 'lesson': 1276, 'ray': 1277, 'photographi': 1278, 'cameo': 1279, 'pari': 1280, 'fellow': 1281, 'strike': 1282, 'independ': 1283, 'brief': 1284, 'absurd': 1285, 'rise': 1286, 'neg': 1287, 'phone': 1288, 'impact': 1289, 'born': 1290, 'ill': 1291, 'model': 1292, 'spoil': 1293, 'fresh': 1294, 'angl': 1295, 'abus': 1296, 'likabl': 1297, 'hill': 1298, 'discuss': 1299, 'sight': 1300, 'ahead': 1301, 'photograph': 1302, 'sent': 1303, 'shine': 1304, 'logic': 1305, 'occur': 1306, 'blame': 1307, 'mainli': 1308, 'bruce': 1309, 'skip': 1310, 'forev': 1311, 'commerci': 1312, 'held': 1313, 'teacher': 1314, 'surround': 1315, 'segment': 1316, 'zero': 1317, 'blond': 1318, 'resembl': 1319, 'summer': 1320, 'trap': 1321, 'satir': 1322, 'six': 1323, 'fool': 1324, 'ball': 1325, 'queen': 1326, 'sub': 1327, 'twice': 1328, 'tragedi': 1329, 'reaction': 1330, 'pack': 1331, 'bomb': 1332, 'hospit': 1333, 'will': 1334, 'protagonist': 1335, 'sport': 1336, 'mile': 1337, 'trust': 1338, 'jerri': 1339, 'mom': 1340, 'vote': 1341, 'drink': 1342, 'encount': 1343, 'plane': 1344, 'station': 1345, 'program': 1346, 'current': 1347, 'al': 1348, 'celebr': 1349, 'martin': 1350, 'choos': 1351, 'join': 1352, 'round': 1353, 'tragic': 1354, 'favourit': 1355, 'lord': 1356, 'field': 1357, 'vision': 1358, 'robot': 1359, 'jean': 1360, 'tie': 1361, 'arthur': 1362, 'fortun': 1363, 'random': 1364, 'roger': 1365, 'dread': 1366, 'intern': 1367, 'psycholog': 1368, 'epic': 1369, 'improv': 1370, 'nonsens': 1371, 'prefer': 1372, 'formula': 1373, 'highlight': 1374, 'legend': 1375, 'pleasur': 1376, 'dollar': 1377, '11': 1378, 'tape': 1379, 'porn': 1380, 'fox': 1381, 'object': 1382, 'wide': 1383, 'thin': 1384, 'gorgeou': 1385, 'buddi': 1386, 'ugli': 1387, 'influenc': 1388, 'prepar': 1389, 'nasti': 1390, 'ii': 1391, 'progress': 1392, 'warm': 1393, 'supposedli': 1394, 'reflect': 1395, 'youth': 1396, 'worthi': 1397, 'length': 1398, 'unusu': 1399, 'latter': 1400, 'crash': 1401, 'shop': 1402, 'childhood': 1403, 'superior': 1404, 'seven': 1405, 'remot': 1406, 'theatr': 1407, 'funniest': 1408, 'paid': 1409, 'disgust': 1410, 'pilot': 1411, 'convers': 1412, 'fell': 1413, 'trick': 1414, 'castl': 1415, 'establish': 1416, 'rob': 1417, 'gangster': 1418, 'disast': 1419, 'disappear': 1420, 'suicid': 1421, 'mine': 1422, 'heaven': 1423, 'ident': 1424, 'tend': 1425, 'mask': 1426, 'heroin': 1427, 'decis': 1428, 'singer': 1429, 'forgotten': 1430, 'partner': 1431, 'brian': 1432, 'desert': 1433, 'alan': 1434, 'recogn': 1435, 'sky': 1436, 'ms': 1437, 'stuck': 1438, 'p': 1439, 'thoroughli': 1440, 'accur': 1441, 'replac': 1442, 'market': 1443, 'danni': 1444, 'eddi': 1445, 'clue': 1446, 'commentari': 1447, 'seemingli': 1448, 'uncl': 1449, 'andi': 1450, 'jackson': 1451, 'devil': 1452, 'therefor': 1453, 'pair': 1454, 'refus': 1455, 'that': 1456, 'ed': 1457, 'fate': 1458, 'fault': 1459, 'unit': 1460, 'river': 1461, 'accid': 1462, 'afraid': 1463, 'tune': 1464, 'stephen': 1465, 'clean': 1466, 'hidden': 1467, 'russian': 1468, 'irrit': 1469, 'readi': 1470, 'quick': 1471, 'convey': 1472, 'captain': 1473, 'test': 1474, 'instanc': 1475, 'european': 1476, 'daniel': 1477, 'insan': 1478, 'frustrat': 1479, 'rescu': 1480, '1950': 1481, 'wed': 1482, 'food': 1483, 'chines': 1484, 'lock': 1485, 'angri': 1486, 'dirti': 1487, 'joy': 1488, 'steven': 1489, 'price': 1490, 'cage': 1491, 'bland': 1492, 'rang': 1493, 'anymor': 1494, 'wooden': 1495, 'news': 1496, 'rush': 1497, 'jason': 1498, 'n': 1499, 'led': 1500, 'twenti': 1501, 'martial': 1502, '12': 1503, 'worri': 1504, 'board': 1505, 'transform': 1506, 'symbol': 1507, 'cgi': 1508, 'hunter': 1509, 'johnni': 1510, 'sentiment': 1511, 'x': 1512, 'onto': 1513, 'piti': 1514, 'invent': 1515, 'attitud': 1516, 'explan': 1517, 'process': 1518, 'awar': 1519, 'owner': 1520, 'aim': 1521, 'floor': 1522, 'favor': 1523, 'energi': 1524, 'target': 1525, 'necessari': 1526, 'religi': 1527, 'opposit': 1528, 'insight': 1529, 'blind': 1530, 'window': 1531, 'chick': 1532, 'movement': 1533, 'mountain': 1534, 'comparison': 1535, 'research': 1536, 'deepli': 1537, 'possess': 1538, 'comed': 1539, 'whatsoev': 1540, 'rain': 1541, 'grand': 1542, 'began': 1543, 'shadow': 1544, 'mid': 1545, 'bank': 1546, 'princ': 1547, 'parodi': 1548, 'credibl': 1549, 'weapon': 1550, 'taylor': 1551, 'friendship': 1552, 'pre': 1553, 'teach': 1554, 'flesh': 1555, 'dougla': 1556, 'terror': 1557, 'bloodi': 1558, 'hint': 1559, 'protect': 1560, 'marvel': 1561, 'load': 1562, 'anybodi': 1563, 'superman': 1564, 'watchabl': 1565, 'drunk': 1566, 'accord': 1567, 'leader': 1568, 'brown': 1569, 'freddi': 1570, 'hitler': 1571, 'seat': 1572, 'jeff': 1573, 'appropri': 1574, 'tim': 1575, 'keaton': 1576, 'villag': 1577, 'knock': 1578, 'charg': 1579, 'unknown': 1580, 'england': 1581, 'unnecessari': 1582, 'media': 1583, 'empti': 1584, 'enemi': 1585, 'craft': 1586, 'strength': 1587, 'buck': 1588, 'perspect': 1589, 'utter': 1590, 'wave': 1591, 'dare': 1592, 'nativ': 1593, 'kiss': 1594, 'contrast': 1595, 'correct': 1596, 'ford': 1597, 'chill': 1598, 'magnific': 1599, 'knowledg': 1600, 'distract': 1601, 'anywher': 1602, 'soap': 1603, 'speed': 1604, 'nazi': 1605, 'ice': 1606, 'breath': 1607, 'mission': 1608, '1980': 1609, 'fred': 1610, 'joan': 1611, 'crowd': 1612, 'moon': 1613, 'jr': 1614, 'frighten': 1615, 'soft': 1616, 'kate': 1617, '000': 1618, 'dick': 1619, 'nick': 1620, 'hundr': 1621, 'dan': 1622, 'radio': 1623, 'simon': 1624, 'dozen': 1625, 'somebodi': 1626, 'shakespear': 1627, 'loss': 1628, 'andrew': 1629, 'academi': 1630, 'thousand': 1631, 'sum': 1632, 'quot': 1633, 'vehicl': 1634, 'root': 1635, 'account': 1636, 'leg': 1637, 'convent': 1638, '1970': 1639, 'behavior': 1640, 'gold': 1641, 'regular': 1642, 'worker': 1643, 'compet': 1644, 'pretenti': 1645, 'demand': 1646, 'privat': 1647, 'interpret': 1648, 'stretch': 1649, 'explos': 1650, 'candi': 1651, 'lynch': 1652, 'notabl': 1653, 'japan': 1654, 'constant': 1655, 'tarzan': 1656, 'debut': 1657, 'revolv': 1658, 'spi': 1659, 'sea': 1660, 'translat': 1661, 'prais': 1662, 'threaten': 1663, 'ass': 1664, 'jesu': 1665, 'technolog': 1666, 'quiet': 1667, 'sat': 1668, 'failur': 1669, 'franc': 1670, 'met': 1671, 'toy': 1672, 'aid': 1673, 'kevin': 1674, 'higher': 1675, 'punch': 1676, 'abandon': 1677, 'mike': 1678, 'vh': 1679, 'interact': 1680, 'confront': 1681, 'bet': 1682, 'separ': 1683, 'command': 1684, 'techniqu': 1685, 'stunt': 1686, 'belong': 1687, 'site': 1688, 'servic': 1689, 'gotten': 1690, 'recal': 1691, 'foot': 1692, 'freak': 1693, 'cabl': 1694, 'bug': 1695, 'african': 1696, 'bright': 1697, 'jimmi': 1698, 'capabl': 1699, 'fu': 1700, 'fat': 1701, 'clark': 1702, 'stock': 1703, 'presid': 1704, 'succeed': 1705, 'boat': 1706, 'structur': 1707, 'gene': 1708, 'spanish': 1709, 'paper': 1710, 'kidnap': 1711, 'factor': 1712, 'whilst': 1713, 'belief': 1714, 'tree': 1715, 'educ': 1716, 'attend': 1717, 'witti': 1718, 'complic': 1719, 'realis': 1720, 'bob': 1721, 'realism': 1722, 'broken': 1723, 'assist': 1724, 'santa': 1725, 'finest': 1726, 'depart': 1727, 'up': 1728, 'v': 1729, 'determin': 1730, 'observ': 1731, 'smoke': 1732, 'domin': 1733, 'lewi': 1734, 'hat': 1735, 'routin': 1736, 'rubbish': 1737, 'oper': 1738, 'fame': 1739, 'advanc': 1740, 'lone': 1741, 'hook': 1742, 'safe': 1743, 'foreign': 1744, 'kinda': 1745, 'morgan': 1746, 'rank': 1747, 'numer': 1748, 'civil': 1749, 'shape': 1750, 'shallow': 1751, 'werewolf': 1752, 'washington': 1753, 'rose': 1754, 'vs': 1755, 'morn': 1756, 'gari': 1757, 'winner': 1758, 'ordinari': 1759, 'accomplish': 1760, 'kong': 1761, 'peac': 1762, 'virtual': 1763, 'whenev': 1764, 'grab': 1765, 'h': 1766, 'offens': 1767, 'luck': 1768, 'contriv': 1769, 'welcom': 1770, 'bigger': 1771, 'complain': 1772, 'patient': 1773, 'activ': 1774, 'unfunni': 1775, 'con': 1776, 'pretend': 1777, 'dimension': 1778, 'trek': 1779, 'dri': 1780, 'wake': 1781, 'flash': 1782, 'code': 1783, 'lesbian': 1784, 'cain': 1785, 'eric': 1786, 'dancer': 1787, 'guard': 1788, 'manipul': 1789, 'corrupt': 1790, 'statu': 1791, 'albert': 1792, 'context': 1793, 'speech': 1794, 'signific': 1795, 'awkward': 1796, 'gain': 1797, 'sourc': 1798, '13': 1799, 'anthoni': 1800, 'psycho': 1801, 'corni': 1802, 'sean': 1803, 'clip': 1804, 'curiou': 1805, 'w': 1806, 'religion': 1807, 'theatric': 1808, 'reli': 1809, 'advic': 1810, 'priest': 1811, 'addict': 1812, 'flow': 1813, 'skin': 1814, 'secur': 1815, 'specif': 1816, 'howard': 1817, 'asian': 1818, 'jennif': 1819, 'luke': 1820, 'golden': 1821, 'organ': 1822, 'core': 1823, 'comfort': 1824, 'promot': 1825, 'lucki': 1826, 'cheat': 1827, 'cash': 1828, 'lower': 1829, 'dislik': 1830, 'associ': 1831, 'spell': 1832, 'regret': 1833, 'frankli': 1834, 'balanc': 1835, 'contribut': 1836, 'wing': 1837, 'devic': 1838, 'frequent': 1839, 'degre': 1840, 'forgiv': 1841, 'sake': 1842, 'print': 1843, 'lake': 1844, 'mass': 1845, 'thoma': 1846, 'betti': 1847, 'gordon': 1848, 'unexpect': 1849, 'crack': 1850, 'invit': 1851, 'grown': 1852, 'amateur': 1853, 'unfold': 1854, 'construct': 1855, 'categori': 1856, 'depend': 1857, 'matur': 1858, 'intellectu': 1859, 'condit': 1860, 'walter': 1861, 'grew': 1862, 'honor': 1863, 'anna': 1864, 'mirror': 1865, 'sole': 1866, 'spectacular': 1867, 'sudden': 1868, 'veteran': 1869, 'gift': 1870, 'card': 1871, 'liner': 1872, 'overli': 1873, 'experienc': 1874, 'freedom': 1875, 'meanwhil': 1876, 'demonstr': 1877, 'grip': 1878, 'robin': 1879, 'circumst': 1880, 'unabl': 1881, 'drew': 1882, 'brilliantli': 1883, 'crappi': 1884, 'subtitl': 1885, 'theori': 1886, 'oliv': 1887, 'section': 1888, 'sheriff': 1889, 'colour': 1890, 'cook': 1891, 'matt': 1892, 'pile': 1893, 'path': 1894, 'altern': 1895, 'sheer': 1896, 'parker': 1897, 'laughter': 1898, 'wander': 1899, 'relief': 1900, 'lawyer': 1901, 'sinatra': 1902, 'defin': 1903, 'treatment': 1904, 'accident': 1905, 'hall': 1906, 'captiv': 1907, 'dragon': 1908, 'hank': 1909, 'gratuit': 1910, 'halloween': 1911, 'moor': 1912, 'k': 1913, 'unintent': 1914, 'cowboy': 1915, 'barbara': 1916, 'wayn': 1917, 'wound': 1918, 'kung': 1919, 'broadway': 1920, 'jacki': 1921, 'canadian': 1922, 'statement': 1923, 'surreal': 1924, 'winter': 1925, 'spoof': 1926, 'gonna': 1927, 'fish': 1928, 'fare': 1929, 'compos': 1930, 'cheer': 1931, 'treasur': 1932, 'emerg': 1933, 'unrealist': 1934, 'woodi': 1935, 'victor': 1936, 'sensit': 1937, 'sympathet': 1938, 'driven': 1939, 'ran': 1940, 'neighbor': 1941, 'overlook': 1942, 'expos': 1943, 'authent': 1944, 'menac': 1945, 'glass': 1946, 'topic': 1947, 'handsom': 1948, 'chief': 1949, 'michel': 1950, 'gross': 1951, 'ancient': 1952, 'pleasant': 1953, 'comedian': 1954, 'russel': 1955, 'stranger': 1956, 'feet': 1957, 'contemporari': 1958, 'built': 1959, 'network': 1960, 'cinderella': 1961, 'nevertheless': 1962, 'endless': 1963, 'consider': 1964, 'earn': 1965, 'miser': 1966, 'gori': 1967, 'blockbust': 1968, 'underr': 1969, 'letter': 1970, 'solv': 1971, 'brook': 1972, 'switch': 1973, 'edward': 1974, 'joseph': 1975, 'bullet': 1976, 'convict': 1977, 'virgin': 1978, 'victoria': 1979, 'scale': 1980, '0': 1981, 'alex': 1982, 'chosen': 1983, 'scenario': 1984, 'cynic': 1985, 'outrag': 1986, 'gut': 1987, 'com': 1988, 'curs': 1989, 'sword': 1990, 'wrap': 1991, 'screenwrit': 1992, 'driver': 1993, 'substanc': 1994, 'uk': 1995, 'juli': 1996, 'monkey': 1997, 'proper': 1998, 'court': 1999, 'bird': 2000, 'remov': 2001, 'par': 2002, 'indic': 2003, 'grave': 2004, 'advertis': 2005, 'naiv': 2006, 'loser': 2007, 'rental': 2008, 'nanci': 2009, 'inevit': 2010, 'roy': 2011, 'consequ': 2012, 'brave': 2013, 'bridg': 2014, 'invis': 2015, 'slap': 2016, 'fatal': 2017, 'le': 2018, 'germani': 2019, 'provok': 2020, 'anger': 2021, 'ador': 2022, 'footbal': 2023, 'loui': 2024, 'alcohol': 2025, 'anderson': 2026, 'chan': 2027, 'professor': 2028, 'stumbl': 2029, 'willi': 2030, 'ryan': 2031, 'bat': 2032, 'patrick': 2033, 'assassin': 2034, 'australian': 2035, '1930': 2036, 'sharp': 2037, 'saturday': 2038, 'refresh': 2039, 'eight': 2040, 'amateurish': 2041, 'lousi': 2042, 'trilog': 2043, 'cell': 2044, 'ape': 2045, 'liber': 2046, 'heck': 2047, 'deni': 2048, 'strongli': 2049, 'sin': 2050, 'vagu': 2051, 'resid': 2052, 'san': 2053, 'justifi': 2054, 'terrifi': 2055, 'reput': 2056, 'mini': 2057, 'defeat': 2058, 'creator': 2059, 'indi': 2060, 'sympathi': 2061, 'tediou': 2062, 'tabl': 2063, 'prevent': 2064, 'endur': 2065, 'expert': 2066, 'task': 2067, 'basebal': 2068, 'imit': 2069, 'employ': 2070, 'trial': 2071, 'rival': 2072, 'offend': 2073, 'che': 2074, 'europ': 2075, 'complaint': 2076, 'max': 2077, 'fairi': 2078, 'pitch': 2079, 'beach': 2080, 'weekend': 2081, 'dig': 2082, 'format': 2083, 'murphi': 2084, 'risk': 2085, 'purchas': 2086, 'harsh': 2087, 'bite': 2088, 'hype': 2089, 'glimps': 2090, 'nois': 2091, 'tini': 2092, 'powel': 2093, 'titan': 2094, 'reminisc': 2095, 'prime': 2096, 'strip': 2097, 'asleep': 2098, 'till': 2099, 'fals': 2100, 'north': 2101, '14': 2102, 'destruct': 2103, 'revel': 2104, 'texa': 2105, 'descript': 2106, 'africa': 2107, 'surfac': 2108, 'spin': 2109, 'excess': 2110, 'sitcom': 2111, 'inner': 2112, 'semi': 2113, 'uninterest': 2114, 'arrest': 2115, 'argu': 2116, 'hitchcock': 2117, 'maintain': 2118, 'massiv': 2119, 'controversi': 2120, 'twin': 2121, 'makeup': 2122, 'dinosaur': 2123, 'reject': 2124, 'ludicr': 2125, 'stare': 2126, 'melodrama': 2127, 'expens': 2128, 'insist': 2129, 'ideal': 2130, 'kim': 2131, 'columbo': 2132, 'nail': 2133, 'atroci': 2134, 'subplot': 2135, 'forest': 2136, 'ga': 2137, 'press': 2138, 'host': 2139, 'ala': 2140, 'erot': 2141, 'supernatur': 2142, 'cant': 2143, 'notch': 2144, 'dude': 2145, 'presum': 2146, 'identifi': 2147, 'guest': 2148, 'character': 2149, 'crude': 2150, 'method': 2151, 'plagu': 2152, 'forgett': 2153, 'closer': 2154, 'princess': 2155, 'border': 2156, 'beast': 2157, 'landscap': 2158, 'ear': 2159, 'foster': 2160, 'lion': 2161, 'aunt': 2162, 'bound': 2163, 'accus': 2164, 'urban': 2165, 'previous': 2166, 'pacino': 2167, 'damag': 2168, 'birth': 2169, 'jungl': 2170, 'storytel': 2171, 'nude': 2172, 'thirti': 2173, 'doll': 2174, 'chose': 2175, 'emma': 2176, 'propaganda': 2177, 'jess': 2178, 'guid': 2179, 'mainstream': 2180, 'pet': 2181, '25': 2182, 'mate': 2183, 'whoever': 2184, 'warrior': 2185, 'merit': 2186, 'cooper': 2187, 'upset': 2188, 'poster': 2189, 'size': 2190, 'deadli': 2191, 'exact': 2192, 'gritti': 2193, 'friday': 2194, 'latest': 2195, 'popul': 2196, 'contact': 2197, 'wilson': 2198, '1990': 2199, 'blend': 2200, 'warner': 2201, 'settl': 2202, 'buff': 2203, 'rough': 2204, 'corps': 2205, 'ton': 2206, 'contest': 2207, 'sun': 2208, 'citizen': 2209, 'environ': 2210, 'select': 2211, 'overcom': 2212, 'widow': 2213, 'metal': 2214, 'pitt': 2215, 'bu': 2216, 'rat': 2217, 'alic': 2218, 'mgm': 2219, 'particip': 2220, 'lift': 2221, 'guilti': 2222, 'link': 2223, 'ted': 2224, 'revolut': 2225, 'prostitut': 2226, 'afternoon': 2227, '1960': 2228, 'accompani': 2229, 'johnson': 2230, 'corner': 2231, 'matrix': 2232, 'moron': 2233, 'exagger': 2234, 'corpor': 2235, 'doom': 2236, 'holm': 2237, 'friendli': 2238, 'leagu': 2239, 'sincer': 2240, 'instal': 2241, 'hood': 2242, 'multipl': 2243, 'clair': 2244, 'examin': 2245, 'string': 2246, 'advis': 2247, 'defend': 2248, 'sunday': 2249, 'hip': 2250, 'irish': 2251, 'blah': 2252, 'aka': 2253, 'campi': 2254, 'lugosi': 2255, 'junk': 2256, 'grim': 2257, 'pro': 2258, 'tight': 2259, 'confid': 2260, 'icon': 2261, 'shut': 2262, 'shake': 2263, 'varieti': 2264, 'rachel': 2265, 'attach': 2266, 'goal': 2267, 'medic': 2268, 'denni': 2269, 'sullivan': 2270, 'jaw': 2271, 'mexican': 2272, 'directli': 2273, 'legendari': 2274, 'sentenc': 2275, 'breast': 2276, 'vietnam': 2277, 'truck': 2278, 'bourn': 2279, 'prior': 2280, 'courag': 2281, 'duke': 2282, 'terrorist': 2283, 'dean': 2284, 'sarah': 2285, 'proceed': 2286, 'entri': 2287, 'nose': 2288, 'split': 2289, 'donald': 2290, 'hong': 2291, 'un': 2292, 'behav': 2293, 'yell': 2294, 'lifetim': 2295, 'crush': 2296, 'buri': 2297, 'borrow': 2298, 'gather': 2299, 'stolen': 2300, 'swim': 2301, 'unconvinc': 2302, 'everywher': 2303, 'forth': 2304, 'concentr': 2305, 'jerk': 2306, 'confess': 2307, 'deliveri': 2308, 'julia': 2309, 'pan': 2310, 'california': 2311, 'turkey': 2312, 'spite': 2313, 'lip': 2314, 'offici': 2315, 'flight': 2316, 'hoffman': 2317, 'reward': 2318, 'downright': 2319, 'china': 2320, 'quest': 2321, 'proud': 2322, 'freeman': 2323, 'jail': 2324, 'notori': 2325, 'jon': 2326, 'inept': 2327, 'sir': 2328, 'worthwhil': 2329, 'fade': 2330, 'sink': 2331, 'fabul': 2332, 'encourag': 2333, 'lazi': 2334, 'betray': 2335, 'relev': 2336, 'susan': 2337, 'cousin': 2338, 'imageri': 2339, 'teeth': 2340, 'shower': 2341, 'storm': 2342, 'bell': 2343, 'retard': 2344, 'lisa': 2345, 'bag': 2346, 'survivor': 2347, 'branagh': 2348, 'alright': 2349, 'tremend': 2350, 'trade': 2351, 'toler': 2352, 'mexico': 2353, 'hugh': 2354, 'bride': 2355, 'facial': 2356, 'quirki': 2357, 'stab': 2358, 'finger': 2359, 'shark': 2360, 'summari': 2361, 'ha': 2362, 'pose': 2363, 'bitter': 2364, 'von': 2365, 'hyster': 2366, 'blown': 2367, 'afterward': 2368, 'scheme': 2369, 'address': 2370, 'cruel': 2371, 'bone': 2372, 'ned': 2373, 'larri': 2374, 'christ': 2375, 'ron': 2376, 'beg': 2377, 'thumb': 2378, 'distinct': 2379, 'feed': 2380, 'traci': 2381, 'pursu': 2382, 'snake': 2383, 'swear': 2384, 'tour': 2385, 'screw': 2386, 'raw': 2387, 'chair': 2388, 'obscur': 2389, 'photo': 2390, 'mechan': 2391, 'stomach': 2392, 'occas': 2393, 'argument': 2394, 'necessarili': 2395, 'chain': 2396, 'heavili': 2397, 'holiday': 2398, 'gruesom': 2399, 'sidney': 2400, 'cabin': 2401, 'render': 2402, 'southern': 2403, 'hardi': 2404, 'resist': 2405, 'racist': 2406, 'indulg': 2407, 'satan': 2408, 'india': 2409, 'philip': 2410, 'understood': 2411, 'obnoxi': 2412, 'integr': 2413, 'outfit': 2414, 'forgot': 2415, 'stalk': 2416, 'midnight': 2417, 'lay': 2418, 'belov': 2419, 'tongu': 2420, 'pregnant': 2421, 'fourth': 2422, 'restor': 2423, 'deeper': 2424, 'slapstick': 2425, 'garden': 2426, 'inhabit': 2427, 'ticket': 2428, 'magazin': 2429, 'carol': 2430, '17': 2431, 'devot': 2432, 'shoe': 2433, 'brad': 2434, 'incid': 2435, 'lincoln': 2436, 'disbelief': 2437, 'sandler': 2438, 'underground': 2439, 'maria': 2440, 'anticip': 2441, 'benefit': 2442, 'elizabeth': 2443, 'lili': 2444, 'guarante': 2445, 'divorc': 2446, 'bbc': 2447, 'capit': 2448, 'greater': 2449, 'mildli': 2450, 'cring': 2451, 'princip': 2452, 'amazingli': 2453, 'explod': 2454, 'creation': 2455, 'slave': 2456, 'funnier': 2457, 'introduct': 2458, 'halfway': 2459, 'lesli': 2460, 'extraordinari': 2461, 'text': 2462, 'enhanc': 2463, 'overwhelm': 2464, 'advantag': 2465, 'wreck': 2466, 'extent': 2467, 'transfer': 2468, 'tap': 2469, 'punish': 2470, 'plant': 2471, 'jessica': 2472, 'error': 2473, 'deliber': 2474, 'dynam': 2475, 'east': 2476, 'horrif': 2477, 'lo': 2478, 'preview': 2479, 'lane': 2480, 'sophist': 2481, 'ensu': 2482, 'vacat': 2483, 'miller': 2484, '2000': 2485, 'appli': 2486, 'homosexu': 2487, 'basi': 2488, 'miscast': 2489, 'vincent': 2490, 'elev': 2491, 'measur': 2492, 'sleazi': 2493, 'extend': 2494, 'mansion': 2495, 'uncomfort': 2496, 'via': 2497, 'spoken': 2498, 'bollywood': 2499, 'steel': 2500, 'reed': 2501, 'assign': 2502, 'fix': 2503, 'stanley': 2504, 'dentist': 2505, 'conceiv': 2506, 'overact': 2507, 'goofi': 2508, 'hippi': 2509, 'mous': 2510, 'beer': 2511, 'breathtak': 2512, 'savag': 2513, 'daili': 2514, 'melt': 2515, 'blair': 2516, 'cathol': 2517, 'alter': 2518, 'properli': 2519, 'burt': 2520, 'inspector': 2521, 'carpent': 2522, 'subsequ': 2523, 'oppos': 2524, 'sacrific': 2525, 'everyday': 2526, 'nowaday': 2527, 'succe': 2528, 'laura': 2529, 'massacr': 2530, 'block': 2531, 'neck': 2532, 'circl': 2533, 'lesser': 2534, 'pool': 2535, 'seagal': 2536, 'concert': 2537, 'christi': 2538, 'fallen': 2539, 'grey': 2540, 'access': 2541, 'mob': 2542, 'portrait': 2543, 'fay': 2544, 'isol': 2545, 'jewish': 2546, 'relax': 2547, 'sinist': 2548, 'competit': 2549, 'jake': 2550, 'react': 2551, 'usa': 2552, 'chees': 2553, 'appal': 2554, 'immens': 2555, 'spiritu': 2556, 'chop': 2557, 'nine': 2558, '2006': 2559, 'ironi': 2560, 'nonetheless': 2561, 'creep': 2562, 'stink': 2563, 'suitabl': 2564, 'lyric': 2565, 'shirt': 2566, 'nut': 2567, 'reduc': 2568, 'rage': 2569, 'sold': 2570, 'showcas': 2571, 'needless': 2572, 'navi': 2573, 'retir': 2574, 'spring': 2575, 'franchis': 2576, 'user': 2577, 'adopt': 2578, 'luci': 2579, 'zone': 2580, 'asham': 2581, 'uninspir': 2582, 'bath': 2583, 'bulli': 2584, 'nurs': 2585, 'digit': 2586, 'jay': 2587, 'stanwyck': 2588, 'per': 2589, '2001': 2590, 'upper': 2591, 'laid': 2592, 'amongst': 2593, 'oddli': 2594, '1940': 2595, 'illustr': 2596, 'broadcast': 2597, 'sutherland': 2598, 'aspir': 2599, 'stylish': 2600, 'baker': 2601, 'throat': 2602, 'disguis': 2603, 'fulfil': 2604, 'brando': 2605, 'endear': 2606, 'neighborhood': 2607, 'em': 2608, '18': 2609, 'impli': 2610, 'pride': 2611, 'pound': 2612, 'wwii': 2613, 'thief': 2614, 'nobl': 2615, 'wanna': 2616, 'dinner': 2617, 'dawn': 2618, 'albeit': 2619, 'coher': 2620, 'cinematograph': 2621, 'tens': 2622, '16': 2623, 'distribut': 2624, 'prop': 2625, 'shift': 2626, 'bett': 2627, 'diseas': 2628, 'shoulder': 2629, 'rochest': 2630, 'bo': 2631, 'shout': 2632, 'matthau': 2633, 'rebel': 2634, 'forti': 2635, 'silenc': 2636, 'function': 2637, 'wash': 2638, 'snow': 2639, 'poignant': 2640, 'surf': 2641, 'knife': 2642, 'contract': 2643, 'instinct': 2644, 'horrend': 2645, 'height': 2646, 'mindless': 2647, 'duti': 2648, 'reunion': 2649, 'proof': 2650, 'cancel': 2651, 'chuck': 2652, 'derek': 2653, 'widmark': 2654, 'heat': 2655, 'internet': 2656, 'elvira': 2657, 'eeri': 2658, 'cannib': 2659, 'henc': 2660, 'silver': 2661, 'glori': 2662, 'elvi': 2663, 'incoher': 2664, 'neat': 2665, 'mill': 2666, 'spielberg': 2667, 'absorb': 2668, 'innov': 2669, 'alik': 2670, 'premier': 2671, 'torn': 2672, 'musician': 2673, 'pie': 2674, 'repetit': 2675, 'greatli': 2676, 'etern': 2677, 'horrifi': 2678, 'trite': 2679, 'lovabl': 2680, 'britain': 2681, 'crisi': 2682, 'bang': 2683, 'infam': 2684, 'blank': 2685, 'racism': 2686, 'nelson': 2687, 'homag': 2688, 'fbi': 2689, 'wealthi': 2690, 'announc': 2691, 'redempt': 2692, 'itali': 2693, 'diamond': 2694, 'precis': 2695, 'burton': 2696, 'dedic': 2697, 'parallel': 2698, 'flop': 2699, 'wilder': 2700, 'helen': 2701, 'hammer': 2702, 'ensembl': 2703, 'resolut': 2704, 'happili': 2705, 'chaplin': 2706, 'pat': 2707, 'streisand': 2708, 'disagre': 2709, 'oil': 2710, 'plastic': 2711, 'factori': 2712, 'st': 2713, 'carter': 2714, 'cube': 2715, 'conclud': 2716, 'mar': 2717, 'broke': 2718, 'triumph': 2719, 'climb': 2720, 'rocket': 2721, 'chuckl': 2722, 'row': 2723, 'own': 2724, 'weight': 2725, 'bush': 2726, 'fighter': 2727, 'march': 2728, 'vega': 2729, 'unforgett': 2730, 'kurt': 2731, 'wherea': 2732, 'thug': 2733, 'luca': 2734, 'boot': 2735, 'spare': 2736, 'enorm': 2737, 'dump': 2738, 'lust': 2739, 'dane': 2740, 'meaning': 2741, 'sensibl': 2742, 'mst3k': 2743, 'stress': 2744, 'arnold': 2745, 'fifti': 2746, 'adequ': 2747, 'rap': 2748, 'difficulti': 2749, 'caricatur': 2750, 'butt': 2751, 'engin': 2752, 'threat': 2753, 'dear': 2754, 'brand': 2755, 'karloff': 2756, 'bobbi': 2757, 'ralph': 2758, 'polish': 2759, 'barri': 2760, 'journalist': 2761, 'secretari': 2762, 'swing': 2763, 'fest': 2764, 'flynn': 2765, 'elabor': 2766, 'arrog': 2767, 'homeless': 2768, 'ego': 2769, 'hamlet': 2770, 'simpson': 2771, 'puppet': 2772, 'induc': 2773, 'fanci': 2774, 'unbear': 2775, 'conspiraci': 2776, 'tool': 2777, 'grate': 2778, 'arrang': 2779, 'resort': 2780, 'spike': 2781, 'float': 2782, 'guilt': 2783, 'boll': 2784, 'choreograph': 2785, 'cruis': 2786, 'tribut': 2787, 'basement': 2788, 'exercis': 2789, 'pig': 2790, 'muppet': 2791, 'phillip': 2792, 'scarecrow': 2793, 'file': 2794, 'ham': 2795, 'fianc': 2796, 'puzzl': 2797, 'slip': 2798, 'tower': 2799, 'editor': 2800, 'item': 2801, 'document': 2802, 'medium': 2803, 'korean': 2804, 'ward': 2805, 'layer': 2806, 'stan': 2807, 'babe': 2808, 'toilet': 2809, '24': 2810, 'orient': 2811, 'inexplic': 2812, 'territori': 2813, 'superfici': 2814, 'catherin': 2815, 'minim': 2816, 'slaughter': 2817, 'assur': 2818, 'denzel': 2819, 'glover': 2820, 'transit': 2821, 'librari': 2822, 'portion': 2823, 'persona': 2824, 'doc': 2825, 'spark': 2826, 'philosoph': 2827, 'larger': 2828, 'pg': 2829, 'jeremi': 2830, 'boredom': 2831, 'ban': 2832, 'sneak': 2833, 'owe': 2834, 'dorothi': 2835, 'walken': 2836, 'curti': 2837, 'wolf': 2838, 'jet': 2839, 'shi': 2840, 'financi': 2841, 'profound': 2842, 'metaphor': 2843, 'eleph': 2844, 'ambigu': 2845, 'whale': 2846, 'cusack': 2847, 'multi': 2848, 'hudson': 2849, 'backdrop': 2850, 'rave': 2851, 'birthday': 2852, 'hack': 2853, 'ultra': 2854, 'elsewher': 2855, '2005': 2856, 'gadget': 2857, 'stiff': 2858, 'notion': 2859, 'union': 2860, 'implaus': 2861, 'viru': 2862, 'lloyd': 2863, 'bibl': 2864, 'hawk': 2865, '1st': 2866, 'slight': 2867, 'poison': 2868, 'pad': 2869, 'eva': 2870, 'deriv': 2871, 'afford': 2872, 'urg': 2873, 'disc': 2874, 'distanc': 2875, 'reader': 2876, 'newspap': 2877, 'canada': 2878, 'superhero': 2879, 'eastwood': 2880, 'squar': 2881, 'health': 2882, 'heston': 2883, 'drown': 2884, 'essenc': 2885, 'skit': 2886, 'cure': 2887, 'restaur': 2888, 'spread': 2889, 'sadist': 2890, 'button': 2891, 'charisma': 2892, 'montag': 2893, 'huh': 2894, 'godfath': 2895, 'peak': 2896, 'lab': 2897, 'maniac': 2898, 'estat': 2899, 'companion': 2900, 'invest': 2901, 'scoobi': 2902, 'fetch': 2903, 'dealt': 2904, 'muslim': 2905, 'gradual': 2906, 'subtleti': 2907, 'ritter': 2908, 'countless': 2909, 'kane': 2910, 'tea': 2911, 'cup': 2912, 'alli': 2913, 'servant': 2914, 'gothic': 2915, 'miik': 2916, 'elect': 2917, 'iii': 2918, 'heroic': 2919, 'briefli': 2920, 'electr': 2921, 'salli': 2922, 'charismat': 2923, 'grandmoth': 2924, 'reel': 2925, 'wannab': 2926, 'resourc': 2927, 'toss': 2928, 'neil': 2929, 'cole': 2930, 'nuanc': 2931, 'ingredi': 2932, 'admittedli': 2933, 'tender': 2934, 'bud': 2935, 'kubrick': 2936, 'stronger': 2937, 'reev': 2938, 'mafia': 2939, 'pit': 2940, 'dawson': 2941, 'label': 2942, 'gate': 2943, 'stood': 2944, 'pauli': 2945, 'shall': 2946, 'poverti': 2947, 'mild': 2948, 'punk': 2949, 'carrey': 2950, 'ian': 2951, 'outcom': 2952, 'terri': 2953, 'easier': 2954, 'assault': 2955, 'burst': 2956, 'smooth': 2957, 'useless': 2958, 'fond': 2959, 'smash': 2960, 'updat': 2961, 'astair': 2962, 'tag': 2963, 'cardboard': 2964, 'cox': 2965, 'bakshi': 2966, 'sketch': 2967, 'exchang': 2968, 'qualifi': 2969, 'increasingli': 2970, '2002': 2971, 'melodramat': 2972, 'vari': 2973, 'vulner': 2974, 'coincid': 2975, 'divers': 2976, 'fist': 2977, 'resolv': 2978, 'samurai': 2979, 'rex': 2980, 'suspend': 2981, 'be': 2982, 'reynold': 2983, 'scratch': 2984, 'conveni': 2985, 'brillianc': 2986, 'tame': 2987, 'insert': 2988, 'luckili': 2989, 'blast': 2990, 'templ': 2991, 'soprano': 2992, 'farm': 2993, 'matthew': 2994, 'ambiti': 2995, 'meat': 2996, 'walker': 2997, 'hamilton': 2998, 'fisher': 2999, 'gotta': 3000, 'jami': 3001, 'pin': 3002, 'seventi': 3003, 'nuclear': 3004, 'coach': 3005, 'strictli': 3006, 'timeless': 3007, 'empir': 3008, 'grasp': 3009, 'discoveri': 3010, 'clock': 3011, 'recreat': 3012, 'eccentr': 3013, 'butcher': 3014, 'closet': 3015, 'struck': 3016, 'monk': 3017, 'worthless': 3018, 'instantli': 3019, 'brosnan': 3020, 'spooki': 3021, 'revers': 3022, 'cave': 3023, 'kudo': 3024, 'convolut': 3025, 'ninja': 3026, 'joey': 3027, 'eighti': 3028, 'importantli': 3029, 'bleak': 3030, 'mitchel': 3031, 'wipe': 3032, 'inconsist': 3033, 'gray': 3034, 'evok': 3035, 'sloppi': 3036, 'partli': 3037, 'selfish': 3038, 'declar': 3039, 'fifteen': 3040, 'cliff': 3041, 'sidekick': 3042, 'seller': 3043, 'communist': 3044, 'pal': 3045, 'clown': 3046, 'miracl': 3047, 'norman': 3048, 'farc': 3049, 'australia': 3050, 'lifestyl': 3051, 'psychiatrist': 3052, 'debat': 3053, '45': 3054, 'aforement': 3055, 'flawless': 3056, 'chew': 3057, 'cheek': 3058, 'ho': 3059, 'superbl': 3060, 'piano': 3061, 'enthusiast': 3062, 'destin': 3063, 'stoog': 3064, 'seed': 3065, 'websit': 3066, 'kitchen': 3067, 'bash': 3068, 'drivel': 3069, 'dash': 3070, 'splatter': 3071, 'slice': 3072, 'akshay': 3073, 'directori': 3074, 'pressur': 3075, 'emili': 3076, 'abc': 3077, 'dire': 3078, 'wick': 3079, 'regardless': 3080, 'soviet': 3081, 'incompet': 3082, 'wrestl': 3083, 'anni': 3084, 'curios': 3085, 'chapter': 3086, 'seduc': 3087, 'prize': 3088, 'artifici': 3089, 'ken': 3090, 'beaten': 3091, 'flower': 3092, 'boil': 3093, 'lou': 3094, 'doo': 3095, 'cia': 3096, 'glow': 3097, 'jar': 3098, 'helicopt': 3099, 'increas': 3100, 'distant': 3101, 'judi': 3102, 'suppli': 3103, 'mann': 3104, 'recov': 3105, 'cameron': 3106, 'duo': 3107, 'pleasantli': 3108, 'blob': 3109, 'dave': 3110, 'cagney': 3111, 'splendid': 3112, 'turner': 3113, 'favour': 3114, 'goldberg': 3115, 'ranger': 3116, 'drunken': 3117, 'psychot': 3118, 'ellen': 3119, 'web': 3120, 'eleg': 3121, 'panic': 3122, 'combat': 3123, 'hop': 3124, 'glenn': 3125, 'laurel': 3126, 'francisco': 3127, 'craig': 3128, 'perri': 3129, 'craven': 3130, '20th': 3131, 'slightest': 3132, 'hatr': 3133, 'ruth': 3134, 'philosophi': 3135, 'gandhi': 3136, 'wizard': 3137, 'flip': 3138, 'alexand': 3139, 'fx': 3140, 'min': 3141, 'gentl': 3142, 'greek': 3143, 'falk': 3144, 'modesti': 3145, 'rid': 3146, 'plausibl': 3147, 'shortli': 3148, 'graduat': 3149, 'knight': 3150, 'ocean': 3151, 'tall': 3152, 'preciou': 3153, 'felix': 3154, 'manhattan': 3155, 'lend': 3156, 'harm': 3157, 'fund': 3158, 'holi': 3159, 'legal': 3160, 'dracula': 3161, 'jealou': 3162, 'we': 3163, 'unpleas': 3164, 'futurist': 3165, 'childish': 3166, 'digniti': 3167, 'mock': 3168, 'scientif': 3169, 'bless': 3170, 'overdon': 3171, 'giallo': 3172, 'reviv': 3173, 'explicit': 3174, 'thread': 3175, 'nod': 3176, 'forbidden': 3177, 'ami': 3178, 'tank': 3179, 'elderli': 3180, 'margaret': 3181, 'awe': 3182, '2004': 3183, 'awaken': 3184, '99': 3185, 'torment': 3186, 'unwatch': 3187, 'mel': 3188, 'thick': 3189, 'eve': 3190, 'pirat': 3191, 'yesterday': 3192, 'nerv': 3193, 'repeatedli': 3194, 'fever': 3195, 'verhoeven': 3196, 'broad': 3197, 'publish': 3198, 'politician': 3199, 'ah': 3200, 'romero': 3201, 'ambit': 3202, 'acclaim': 3203, 'rivet': 3204, 'lean': 3205, 'custom': 3206, 'launch': 3207, 'roman': 3208, 'eas': 3209, 'absenc': 3210, 'bin': 3211, 'uniform': 3212, 'automat': 3213, 'stiller': 3214, 'royal': 3215, 'griffith': 3216, 'kay': 3217, 'timothi': 3218, 'bathroom': 3219, 'phrase': 3220, 'homicid': 3221, 'warren': 3222, 'transport': 3223, 'gabriel': 3224, 'purpl': 3225, 'tomato': 3226, 'pierc': 3227, 'termin': 3228, 'sunshin': 3229, 'darker': 3230, 'foul': 3231, 'pulp': 3232, 'stinker': 3233, 'crook': 3234, 'antic': 3235, 'wallac': 3236, 'saint': 3237, 'juvenil': 3238, 'sixti': 3239, 'hollow': 3240, 'kenneth': 3241, 'marin': 3242, 'karen': 3243, 'ought': 3244, 'pray': 3245, 'brazil': 3246, 'contrari': 3247, 'album': 3248, 'viciou': 3249, 'prom': 3250, '2003': 3251, 'rambo': 3252, 'horrid': 3253, 'q': 3254, 'awak': 3255, 'revolutionari': 3256, 'packag': 3257, 'eyr': 3258, 'choreographi': 3259, 'li': 3260, 'donna': 3261, 'evolv': 3262, 'coloni': 3263, 'boast': 3264, 'option': 3265, 'candid': 3266, 'kapoor': 3267, 'conserv': 3268, 'nerd': 3269, 'dose': 3270, 'mummi': 3271, 'twelv': 3272, 'defi': 3273, 'blade': 3274, 'ramon': 3275, 'beatti': 3276, 'overr': 3277, 'stole': 3278, 'mildr': 3279, 'ireland': 3280, 'flame': 3281, 'detract': 3282, 'protest': 3283, 'fulci': 3284, 'kirk': 3285, 'astonish': 3286, 'jazz': 3287, 'confirm': 3288, 'collabor': 3289, 'global': 3290, 'trio': 3291, 'altman': 3292, 'natali': 3293, 'funer': 3294, 'nicholson': 3295, 'racial': 3296, 'bottl': 3297, 'mystic': 3298, 'destini': 3299, 'shade': 3300, 'delici': 3301, 'enterpris': 3302, 'whip': 3303, 'tommi': 3304, 'leap': 3305, 'blake': 3306, 'bull': 3307, 'yellow': 3308, 'spit': 3309, 'audio': 3310, 'visibl': 3311, 'bedroom': 3312, 'merci': 3313, 'todd': 3314, 'pseudo': 3315, 'altogeth': 3316, 'vivid': 3317, 'popcorn': 3318, 'harder': 3319, 'threw': 3320, 'fonda': 3321, 'adolesc': 3322, 'meaningless': 3323, 'staff': 3324, 'swedish': 3325, 'inherit': 3326, 'neo': 3327, 'reunit': 3328, 'enchant': 3329, 'jew': 3330, 'reserv': 3331, 'edi': 3332, 'kennedi': 3333, 'suspici': 3334, 'befriend': 3335, 'lawrenc': 3336, 'fanat': 3337, 'roommat': 3338, 'ruthless': 3339, 'voight': 3340, 'crocodil': 3341, 'lemmon': 3342, 'decor': 3343, 'wire': 3344, 'atlanti': 3345, 'madonna': 3346, 'moodi': 3347, 'exhibit': 3348, 'tip': 3349, 'bust': 3350, 'uneven': 3351, 'await': 3352, 'leonard': 3353, 'synopsi': 3354, 'respond': 3355, 'unsettl': 3356, 'incident': 3357, '2007': 3358, 'carl': 3359, 'dimens': 3360, 'centr': 3361, 'audit': 3362, 'abysm': 3363, 'bold': 3364, 'bradi': 3365, 'rural': 3366, 'voyag': 3367, 'chao': 3368, 'clint': 3369, 'holli': 3370, 'bargain': 3371, 'garner': 3372, 'palma': 3373, 'ventur': 3374, 'clumsi': 3375, 'elimin': 3376, 'versu': 3377, 'hart': 3378, 'wealth': 3379, 'characterist': 3380, 'echo': 3381, 'cuba': 3382, 'lit': 3383, 'cd': 3384, 'neglect': 3385, 'tiger': 3386, 'nearbi': 3387, 'poetic': 3388, 'immigr': 3389, 'imperson': 3390, 'mall': 3391, 'cari': 3392, 'acknowledg': 3393, 'trail': 3394, 'troop': 3395, '2nd': 3396, 'ant': 3397, 'humili': 3398, 'daddi': 3399, 'timon': 3400, 'solo': 3401, 'homer': 3402, 'prejudic': 3403, 'repuls': 3404, 'jeffrey': 3405, 'mistaken': 3406, 'pun': 3407, 'celluloid': 3408, 'domest': 3409, 'mickey': 3410, 'marshal': 3411, 'infect': 3412, 'collaps': 3413, 'paus': 3414, 'saga': 3415, 'hbo': 3416, 'coat': 3417, 'equip': 3418, 'inappropri': 3419, 'pant': 3420, '1996': 3421, 'assembl': 3422, 'coffe': 3423, 'promin': 3424, 'inan': 3425, 'tribe': 3426, 'olivi': 3427, 'sore': 3428, 'harvey': 3429, 'ginger': 3430, 'interrupt': 3431, 'undoubtedli': 3432, 'cake': 3433, 'gear': 3434, 'milk': 3435, 'chest': 3436, 'leon': 3437, 'apolog': 3438, 'institut': 3439, 'instant': 3440, 'brooklyn': 3441, 'colonel': 3442, 'florida': 3443, 'airplan': 3444, 'pot': 3445, 'solut': 3446, 'furthermor': 3447, 'devast': 3448, 'exot': 3449, 'maggi': 3450, 'pen': 3451, 'jenni': 3452, 'embrac': 3453, 'polanski': 3454, 'vulgar': 3455, 'consum': 3456, 'humbl': 3457, 'aveng': 3458, 'trace': 3459, 'primari': 3460, 'colleagu': 3461, 'retain': 3462, 'highest': 3463, 'principl': 3464, 'disabl': 3465, '1999': 3466, 'poke': 3467, 'dian': 3468, 'gender': 3469, 'ya': 3470, 'wive': 3471, 'smaller': 3472, 'bowl': 3473, '3rd': 3474, 'cope': 3475, 'descend': 3476, 'godzilla': 3477, 'dutch': 3478, 'rick': 3479, 'illog': 3480, 'seduct': 3481, 'sale': 3482, 'linda': 3483, 'strain': 3484, 'outer': 3485, 'gloriou': 3486, 'hal': 3487, 'cue': 3488, 'blatant': 3489, 'scope': 3490, 'glamor': 3491, 'lol': 3492, 'inferior': 3493, 'secondli': 3494, 'yard': 3495, 'dive': 3496, 'mixtur': 3497, 'rabbit': 3498, 'dud': 3499, 'bubbl': 3500, 'devoid': 3501, 'vast': 3502, 'beneath': 3503, 'primarili': 3504, 'predecessor': 3505, 'gundam': 3506, 'alfr': 3507, 'hideou': 3508, 'alert': 3509, 'museum': 3510, 'arab': 3511, 'talki': 3512, 'streep': 3513, 'pearl': 3514, 'disjoint': 3515, 'shelf': 3516, 'et': 3517, 'simplist': 3518, 'garbo': 3519, 'breed': 3520, 'invas': 3521, 'senseless': 3522, 'myer': 3523, 'countrysid': 3524, 'trademark': 3525, 'aggress': 3526, 'shirley': 3527, 'z': 3528, 'casual': 3529, 'domino': 3530, 'april': 3531, 'grinch': 3532, 'stir': 3533, 'slide': 3534, 'khan': 3535, 'oz': 3536, 'obtain': 3537, 'maci': 3538, 'hardcor': 3539, 'robinson': 3540, 'loyal': 3541, 'acid': 3542, 'sh': 3543, 'robberi': 3544, 'stack': 3545, 'vanish': 3546, 'illeg': 3547, 'defens': 3548, 'stellar': 3549, 'uwe': 3550, 'unhappi': 3551, 'mayor': 3552, 'applaud': 3553, 'disgrac': 3554, 'experiment': 3555, 'hopeless': 3556, 'rendit': 3557, 'boom': 3558, 'mail': 3559, 'tempt': 3560, 'recruit': 3561, 'wont': 3562, 'emphasi': 3563, 'counter': 3564, 'declin': 3565, 'amanda': 3566, 'hartley': 3567, 'span': 3568, 'topless': 3569, 'fri': 3570, 'incomprehens': 3571, 'dismiss': 3572, 'craze': 3573, 'soccer': 3574, 'rifl': 3575, 'scroog': 3576, 'berlin': 3577, 'grandfath': 3578, 'dicken': 3579, 'spider': 3580, 'diana': 3581, 'psychic': 3582, 'blew': 3583, 'tenant': 3584, 'intim': 3585, 'trashi': 3586, 'niro': 3587, 'parad': 3588, 'faster': 3589, 'justin': 3590, 'resurrect': 3591, 'sympath': 3592, 'lumet': 3593, 'ethnic': 3594, 'shaw': 3595, 'bitch': 3596, 'sibl': 3597, 'revolt': 3598, 'ration': 3599, 'goer': 3600, 'porno': 3601, 'shed': 3602, 'wet': 3603, 'riot': 3604, 'woo': 3605, 'dealer': 3606, 'wendi': 3607, 'immort': 3608, 'enlighten': 3609, 'eager': 3610, 'biographi': 3611, 'mario': 3612, 'partial': 3613, 'slick': 3614, 'feminist': 3615, 'nephew': 3616, 'weakest': 3617, 'farmer': 3618, 'patriot': 3619, 'gap': 3620, 'hopper': 3621, 'worm': 3622, 'wheel': 3623, 'andr': 3624, 'commend': 3625, 'honesti': 3626, 'jonathan': 3627, '00': 3628, 'ensur': 3629, 'steam': 3630, 'unreal': 3631, 'region': 3632, 'rider': 3633, 'hesit': 3634, 'lena': 3635, 'choru': 3636, 'ballet': 3637, 'prequel': 3638, 'victori': 3639, 'properti': 3640, 'charlott': 3641, 'sappi': 3642, 'wore': 3643, 'skull': 3644, 'nostalg': 3645, 'owen': 3646, 'psychopath': 3647, 'franco': 3648, 'safeti': 3649, 'confin': 3650, 'vice': 3651, 'leo': 3652, 'composit': 3653, 'blunt': 3654, 'similarli': 3655, 'repress': 3656, 'hung': 3657, 'macarthur': 3658, 'util': 3659, 'mutant': 3660, 'sandra': 3661, 'kingdom': 3662, 'snap': 3663, 'morri': 3664, 'emperor': 3665, 'speci': 3666, 'snl': 3667, 'acquir': 3668, 'strand': 3669, 'tail': 3670, 'rambl': 3671, 'del': 3672, 'rope': 3673, 'exit': 3674, 'whoopi': 3675, 'farrel': 3676, 'tad': 3677, 'bonu': 3678, 'compass': 3679, 'drum': 3680, 'bow': 3681, 'rocki': 3682, 'pattern': 3683, 'bergman': 3684, 'kyle': 3685, 'latin': 3686, 'deed': 3687, 'valuabl': 3688, 'cg': 3689, 'recycl': 3690, 'repli': 3691, 'dust': 3692, 'despair': 3693, 'thru': 3694, 'campbel': 3695, 'nervou': 3696, 'hyde': 3697, 'bumbl': 3698, 'heartbreak': 3699, 'drain': 3700, 'compens': 3701, '1972': 3702, 'dalton': 3703, 'miseri': 3704, 'montana': 3705, 'contempl': 3706, 'radic': 3707, 'slug': 3708, '35': 3709, 'wacki': 3710, 'percept': 3711, 'rapist': 3712, 'rotten': 3713, 'downhil': 3714, 'carradin': 3715, 'da': 3716, 'oppress': 3717, 'gimmick': 3718, 'tonight': 3719, 'gal': 3720, 'bleed': 3721, 'olli': 3722, 'romp': 3723, 'airport': 3724, 'orson': 3725, 'roth': 3726, 'pour': 3727, 'martian': 3728, 'chess': 3729, 'mistress': 3730, 'shelley': 3731, 'dazzl': 3732, 'stilt': 3733, 'melodi': 3734, 'programm': 3735, 'arc': 3736, 'preach': 3737, 'heal': 3738, 'slash': 3739, 'mislead': 3740, 'attorney': 3741, 'unpredict': 3742, 'champion': 3743, 'taught': 3744, 'pervert': 3745, 'pervers': 3746, 'banal': 3747, 'tooth': 3748, 'tackl': 3749, 'paltrow': 3750, 'belt': 3751, '1983': 3752, 'pursuit': 3753, 'edgar': 3754, 'arguabl': 3755, 'orang': 3756, 'duval': 3757, 'raymond': 3758, 'virginia': 3759, 'plight': 3760, 'sensat': 3761, 'conneri': 3762, 'tiresom': 3763, 'uplift': 3764, 'closest': 3765, 'marti': 3766, 'passeng': 3767, 'vocal': 3768, 'maid': 3769, 'chicken': 3770, 'bela': 3771, 'employe': 3772, 'dixon': 3773, 'mesmer': 3774, 'vengeanc': 3775, 'rubi': 3776, 'cleverli': 3777, 'graham': 3778, 'gambl': 3779, 'poem': 3780, 'franki': 3781, 'quarter': 3782, 'climact': 3783, 'habit': 3784, 'pokemon': 3785, 'outing': 3786, 'crystal': 3787, 'convincingli': 3788, 'bay': 3789, 'swallow': 3790, 'tube': 3791, 'numb': 3792, 'gerard': 3793, 'engross': 3794, 'mute': 3795, 'whine': 3796, 'giggl': 3797, 'inject': 3798, 'secretli': 3799, 'calm': 3800, 'iran': 3801, 'paranoia': 3802, 'monologu': 3803, 'abraham': 3804, 'clone': 3805, 'scottish': 3806, 'extens': 3807, 'volum': 3808, '1968': 3809, 'sirk': 3810, 'lundgren': 3811, 'amitabh': 3812, 'yawn': 3813, 'profan': 3814, 'suffic': 3815, 'backward': 3816, 'im': 3817, 'linger': 3818, 'plod': 3819, 'dispos': 3820, 'austen': 3821, 'nichola': 3822, 'earl': 3823, 'taxi': 3824, 'surpass': 3825, 'grotesqu': 3826, 'trend': 3827, 'lowest': 3828, 'expand': 3829, 'meander': 3830, 'underst': 3831, 'spock': 3832, 'abort': 3833, 'fed': 3834, 'bend': 3835, 'richardson': 3836, 'septemb': 3837, 'poetri': 3838, 'ethan': 3839, 'chicago': 3840, 'profess': 3841, 'frankenstein': 3842, 'junior': 3843, 'franci': 3844, 'rant': 3845, 'eugen': 3846, 'hum': 3847, 'simplic': 3848, 'literatur': 3849, 'mundan': 3850, 'descent': 3851, 'tourist': 3852, 'compliment': 3853, 'catchi': 3854, 'dysfunct': 3855, 'stallon': 3856, 'instrument': 3857, 'greedi': 3858, 'sue': 3859, 'lure': 3860, 'household': 3861, 'nostalgia': 3862, 'econom': 3863, 'waitress': 3864, 'der': 3865, 'muddl': 3866, 'rubber': 3867, 'myth': 3868, 'cannon': 3869, 'spoke': 3870, 'crucial': 3871, 'alongsid': 3872, 'flee': 3873, 'damon': 3874, 'irrelev': 3875, 'lang': 3876, 'phantom': 3877, 'occupi': 3878, 'june': 3879, 'louis': 3880, 'map': 3881, 'hello': 3882, 'stale': 3883, 'furi': 3884, 'mankind': 3885, 'phoni': 3886, 'coast': 3887, 'firstli': 3888, 'recognis': 3889, 'molli': 3890, 'eaten': 3891, 'bacal': 3892, 'insur': 3893, 'equival': 3894, 'dictat': 3895, 'dement': 3896, 'randi': 3897, 'deaf': 3898, 'mortal': 3899, 'duck': 3900, 'cent': 3901, 'omen': 3902, 'recognit': 3903, 'carel': 3904, 'sissi': 3905, 'labor': 3906, 'loyalti': 3907, 'bike': 3908, 'twilight': 3909, 'blackmail': 3910, 'lengthi': 3911, 'likewis': 3912, 'rude': 3913, 'freez': 3914, 'buffalo': 3915, 'newli': 3916, 'antwon': 3917, 'onlin': 3918, 'bump': 3919, 'dreari': 3920, 'heel': 3921, 'daisi': 3922, 'ashley': 3923, 'distinguish': 3924, 'wisdom': 3925, 'drake': 3926, 'cyborg': 3927, 'rooney': 3928, 'biko': 3929, '1973': 3930, 'grayson': 3931, 'damm': 3932, 'reign': 3933, 'emphas': 3934, 'prey': 3935, 'vein': 3936, 'ridden': 3937, 'basketbal': 3938, 'attribut': 3939, 'sailor': 3940, 'provoc': 3941, 'keith': 3942, 'pink': 3943, 'worn': 3944, 'tunnel': 3945, 'exposur': 3946, 'proce': 3947, 'startl': 3948, 'incorpor': 3949, 'butler': 3950, 'chronicl': 3951, 'barrymor': 3952, 'interior': 3953, 'inher': 3954, 'analysi': 3955, 'baddi': 3956, 'nineti': 3957, 'boxer': 3958, 'unorigin': 3959, 'approv': 3960, 'predat': 3961, 'nicol': 3962, 'meyer': 3963, 'improvis': 3964, 'walsh': 3965, 'indiffer': 3966, 'belushi': 3967, 'er': 3968, 'simmon': 3969, 'unrel': 3970, 'drift': 3971, 'barrel': 3972, 'underli': 3973, 'fleet': 3974, 'degrad': 3975, 'millionair': 3976, 'undeni': 3977, 'bunni': 3978, 'condemn': 3979, 'mighti': 3980, 'substitut': 3981, 'meg': 3982, 'robbin': 3983, 'othello': 3984, 'hypnot': 3985, 'elm': 3986, 'mormon': 3987, 'stalker': 3988, 'julian': 3989, 'carla': 3990, 'unawar': 3991, 'warmth': 3992, 'watson': 3993, 'palac': 3994, 'mtv': 3995, 'marion': 3996, 'alarm': 3997, 'alison': 3998, 'nyc': 3999, 'disord': 4000, 'exquisit': 4001, 'hay': 4002, 'errol': 4003, 'greed': 4004, 'reid': 4005, 'roof': 4006, 'shove': 4007, 'agenda': 4008, 'vital': 4009, 'enthusiasm': 4010, 'firm': 4011, 'priceless': 4012, 'lampoon': 4013, 'edgi': 4014, 'dolph': 4015, 'novak': 4016, 'rukh': 4017, '3d': 4018, 'eastern': 4019, 'peck': 4020, 'distort': 4021, 'what': 4022, 'iraq': 4023, 'petti': 4024, 'gestur': 4025, 'israel': 4026, 'championship': 4027, 'valentin': 4028, 'randomli': 4029, 'minimum': 4030, 'glanc': 4031, 'angela': 4032, 'thompson': 4033, 'showdown': 4034, 'nun': 4035, 'unleash': 4036, 'pamela': 4037, 'drip': 4038, 'simultan': 4039, 'coup': 4040, 'crown': 4041, 'preserv': 4042, 'sergeant': 4043, 'spain': 4044, 'peril': 4045, 'orlean': 4046, 'profit': 4047, 'campaign': 4048, 'beatl': 4049, 'testament': 4050, 'ponder': 4051, 'zizek': 4052, '13th': 4053, 'session': 4054, 'cassidi': 4055, '1933': 4056, 'crawl': 4057, 'cream': 4058, 'han': 4059, '1984': 4060, 'sabrina': 4061, 'jan': 4062, 'climat': 4063, 'exposit': 4064, 'reson': 4065, 'stroke': 4066, 'cooki': 4067, 'mon': 4068, 'valley': 4069, 'contradict': 4070, 'perpetu': 4071, 'bro': 4072, 'scotland': 4073, 'quinn': 4074, 'unimagin': 4075, 'travesti': 4076, 'shootout': 4077, 'regist': 4078, 'empathi': 4079, 'restrain': 4080, 'buster': 4081, 'gentleman': 4082, 'rout': 4083, 'represent': 4084, 'miyazaki': 4085, 'stake': 4086, 'brenda': 4087, 'calib': 4088, 'fido': 4089, 'realm': 4090, 'wig': 4091, 'crow': 4092, 'kurosawa': 4093, 'din': 4094, 'traumat': 4095, 'distress': 4096, 'compromis': 4097, 'wax': 4098, 'unsatisfi': 4099, 'shoddi': 4100, 'pretens': 4101, 'shaki': 4102, 'greg': 4103, 'censor': 4104, 'unseen': 4105, 'absent': 4106, 'cloud': 4107, 'sammi': 4108, 'meryl': 4109, 'geek': 4110, 'passabl': 4111, 'perceiv': 4112, 'crawford': 4113, 'monoton': 4114, 'demis': 4115, 'dana': 4116, 'warrant': 4117, 'baldwin': 4118, 'ustinov': 4119, 'sucker': 4120, '1987': 4121, 'femm': 4122, 'spacey': 4123, 'darren': 4124, 'derang': 4125, 'delic': 4126, 'pole': 4127, 'businessman': 4128, 'tacki': 4129, 'stargat': 4130, '1997': 4131, 'abomin': 4132, 'painter': 4133, 'josh': 4134, 'fuller': 4135, 'ross': 4136, 'mclaglen': 4137, 'soderbergh': 4138, 'polici': 4139, 'nathan': 4140, 'wholli': 4141, 'sid': 4142, 'verbal': 4143, 'tech': 4144, 'uncov': 4145, 'deniro': 4146, 'expedit': 4147, 'valid': 4148, 'fenc': 4149, 'antonioni': 4150, 'unravel': 4151, 'clash': 4152, 'accuraci': 4153, 'judgment': 4154, 'correctli': 4155, 'exclus': 4156, '1993': 4157, 'dee': 4158, 'norm': 4159, 'jewel': 4160, 'reluct': 4161, 'tarantino': 4162, 'primit': 4163, 'fog': 4164, 'furiou': 4165, 'kumar': 4166, 'deceas': 4167, 'click': 4168, 'seal': 4169, 'austin': 4170, 'anchor': 4171, 'nicola': 4172, 'debt': 4173, 'unfair': 4174, 'sheet': 4175, 'temper': 4176, 'trait': 4177, 'sand': 4178, 'slam': 4179, 'mode': 4180, 'dreck': 4181, '1971': 4182, '1995': 4183, 'hallucin': 4184, 'conduct': 4185, 'pocket': 4186, 'ritual': 4187, 'fart': 4188, '3000': 4189, 'wretch': 4190, 'patienc': 4191, 'fought': 4192, 'shanghai': 4193, 'joel': 4194, 'enforc': 4195, 'roller': 4196, 'crippl': 4197, 'clerk': 4198, 'murray': 4199, '2008': 4200, 'alec': 4201, 'seldom': 4202, 'bake': 4203, 'tax': 4204, 'malon': 4205, 'fabric': 4206, 'wang': 4207, 'logan': 4208, 'behold': 4209, 'sustain': 4210, 'vanc': 4211, 'darn': 4212, 'sunni': 4213, 'guitar': 4214, 'squad': 4215, 'stuart': 4216, 'phil': 4217, 'helpless': 4218, 'exhaust': 4219, 'tactic': 4220, 'critiqu': 4221, 'fundament': 4222, 'conscious': 4223, 'stark': 4224, 'pete': 4225, 'soup': 4226, 'schedul': 4227, 'bias': 4228, 'grief': 4229, 'shell': 4230, 'technicolor': 4231, 'preposter': 4232, 'despis': 4233, 'bridget': 4234, 'outlin': 4235, 'runner': 4236, 'isabel': 4237, 'sweep': 4238, 'canyon': 4239, 'scriptwrit': 4240, 'robber': 4241, 'legaci': 4242, 'penni': 4243, 'rita': 4244, 'clau': 4245, 'divid': 4246, 'preston': 4247, 'propos': 4248, 'newman': 4249, 'drove': 4250, 'alicia': 4251, 'passag': 4252, 'connor': 4253, 'gregori': 4254, 'alley': 4255, 'consciou': 4256, 'bloom': 4257, 'rehash': 4258, 'marc': 4259, 'sentinel': 4260, 'rear': 4261, 'cigarett': 4262, 'sugar': 4263, 'downey': 4264, 'lacklust': 4265, 'restrict': 4266, 'palanc': 4267, 'unexpectedli': 4268, 'russia': 4269, 'invad': 4270, 'agenc': 4271, 'implic': 4272, 'delv': 4273, 'jacket': 4274, 'culmin': 4275, 'sniper': 4276, 'kansa': 4277, 'flair': 4278, 'liberti': 4279, 'boyl': 4280, 'jodi': 4281, 'inabl': 4282, 'vomit': 4283, '1936': 4284, 'wrench': 4285, 'cap': 4286, 'karl': 4287, 'awhil': 4288, 'yeti': 4289, 'horn': 4290, 'rampag': 4291, 'tripe': 4292, 'rod': 4293, 'behaviour': 4294, 'aesthet': 4295, 'pale': 4296, 'bacon': 4297, 'ladder': 4298, 'improb': 4299, 'vet': 4300, 'lush': 4301, '22': 4302, 'mccoy': 4303, 'foxx': 4304, 'delet': 4305, 'rehears': 4306, 'sharon': 4307, 'tendenc': 4308, 'chainsaw': 4309, 'feat': 4310, 'arrow': 4311, 'kolchak': 4312, 'asylum': 4313, 'underneath': 4314, 'elit': 4315, 'tomorrow': 4316, 'hackney': 4317, 'rumor': 4318, 'loneli': 4319, 'scoop': 4320, 'aristocrat': 4321, 'lurk': 4322, 'rhythm': 4323, 'hungri': 4324, 'paramount': 4325, 'financ': 4326, 'visitor': 4327, 'stream': 4328, '19th': 4329, 'shortcom': 4330, 'tasteless': 4331, 'coaster': 4332, 'spice': 4333, 'wildli': 4334, 'weav': 4335, 'globe': 4336, 'amazon': 4337, '1978': 4338, 'el': 4339, 'suspicion': 4340, 'newcom': 4341, 'minu': 4342, 'filler': 4343, 'fright': 4344, 'paradis': 4345, 'wagner': 4346, 'hulk': 4347, 'conscienc': 4348, 'prank': 4349, 'suffici': 4350, '1988': 4351, 'basing': 4352, '1920': 4353, 'sung': 4354, 'thunderbird': 4355, 'dirt': 4356, 'impos': 4357, 'en': 4358, 'smell': 4359, 'bread': 4360, '75': 4361, 'counterpart': 4362, 'chamberlain': 4363, 'couch': 4364, 'paxton': 4365, 'lectur': 4366, 'teas': 4367, 'entranc': 4368, 'heist': 4369, 'curli': 4370, 'beverli': 4371, 'penn': 4372, 'tierney': 4373, 'rub': 4374, 'cancer': 4375, 'hopkin': 4376, 'iv': 4377, 'choppi': 4378, 'minist': 4379, 'inmat': 4380, '1989': 4381, 'literari': 4382, 'grudg': 4383, 'brit': 4384, 'atroc': 4385, '1939': 4386, 'ram': 4387, 'worship': 4388, 'immers': 4389, 'posey': 4390, 'wwe': 4391, 'recogniz': 4392, 'naughti': 4393, 'leigh': 4394, 'abrupt': 4395, 'quietli': 4396, 'straightforward': 4397, 'standout': 4398, 'chavez': 4399, 'ingeni': 4400, 'secondari': 4401, 'springer': 4402, 'esther': 4403, 'missil': 4404, 'skeptic': 4405, 'net': 4406, 'sassi': 4407, 'convert': 4408, 'ace': 4409, 'moreov': 4410, 'laurenc': 4411, 'bernard': 4412, 'ratso': 4413, 'geni': 4414, 'quaid': 4415, 'enthral': 4416, 'clan': 4417, 'injuri': 4418, '1986': 4419, 'variat': 4420, 'transcend': 4421, 'lindsay': 4422, 'nemesi': 4423, 'duel': 4424, 'cattl': 4425, 'nolan': 4426, 'morbid': 4427, 'entitl': 4428, 'heartfelt': 4429, 'sublim': 4430, 'policeman': 4431, 'yearn': 4432, 'watcher': 4433, 'attenborough': 4434, 'misguid': 4435, 'bye': 4436, 'uncut': 4437, 'grin': 4438, 'graini': 4439, 'obstacl': 4440, 'artsi': 4441, 'setup': 4442, 'enabl': 4443, 'vader': 4444, 'hk': 4445, 'cruelti': 4446, 'out': 4447, 'steadi': 4448, 'moder': 4449, 'diari': 4450, 'egg': 4451, 'youngest': 4452, 'tyler': 4453, 'dont': 4454, 'reliabl': 4455, 'brood': 4456, 'unexplain': 4457, 'puppi': 4458, 'bean': 4459, 'characteris': 4460, 'mytholog': 4461, 'facil': 4462, '1979': 4463, 'kitti': 4464, 'hopelessli': 4465, 'rosemari': 4466, 'spiral': 4467, 'poe': 4468, 'buzz': 4469, 'kidman': 4470, 'carlito': 4471, 'gina': 4472, '1969': 4473, 'christin': 4474, 'patricia': 4475, 'athlet': 4476, 'clueless': 4477, 'decept': 4478, 'bewar': 4479, 'baffl': 4480, 'kline': 4481, 'effici': 4482, 'weather': 4483, 'underworld': 4484, 'hammi': 4485, 'acquaint': 4486, 'sweat': 4487, 'martha': 4488, 'brendan': 4489, 'bronson': 4490, 'spontan': 4491, 'disastr': 4492, 'bounc': 4493, 'niec': 4494, 'oblig': 4495, 'narrow': 4496, 'preming': 4497, 'despic': 4498, 'fuel': 4499, 'gillian': 4500, 'heap': 4501, 'hain': 4502, 'exterior': 4503, 'injur': 4504, 'trigger': 4505, '19': 4506, 'preachi': 4507, 'biker': 4508, 'circu': 4509, 'loi': 4510, 'analyz': 4511, 'harmless': 4512, 'sooner': 4513, 'angst': 4514, 'taboo': 4515, 'scar': 4516, 'enlist': 4517, 'housewif': 4518, 'hepburn': 4519, 'headach': 4520, 'tick': 4521, 'astound': 4522, 'outlaw': 4523, 'uh': 4524, 'goof': 4525, 'fontain': 4526, 'rome': 4527, 'shatter': 4528, '73': 4529, 'dilemma': 4530, 'suprem': 4531, 'mayhem': 4532, 'insipid': 4533, 'sleepwalk': 4534, 'loath': 4535, 'viewpoint': 4536, 'virtu': 4537, 'renaiss': 4538, 'mermaid': 4539, 'candl': 4540, 'dandi': 4541, 'lester': 4542, 'spade': 4543, 'hokey': 4544, 'idol': 4545, 'macho': 4546, 'scorses': 4547, 'contempt': 4548, 'surgeri': 4549, 'intric': 4550, 'dismal': 4551, 'bent': 4552, 'overlong': 4553, 'fluff': 4554, 'stimul': 4555, 'phenomenon': 4556, 'ebert': 4557, 'glorifi': 4558, 'boston': 4559, 'camcord': 4560, 'claustrophob': 4561, 'salt': 4562, 'guin': 4563, 'whore': 4564, 'cassavet': 4565, 'amor': 4566, 'steer': 4567, 'gere': 4568, 'immatur': 4569, 'filth': 4570, 'dish': 4571, 'tripl': 4572, 'slimi': 4573, 'sox': 4574, 'redund': 4575, 'hostag': 4576, 'stair': 4577, 'zoom': 4578, 'oldest': 4579, 'ariel': 4580, 'hooker': 4581, 'foolish': 4582, 'corbett': 4583, 'frantic': 4584, 'remad': 4585, 'conquer': 4586, 'preced': 4587, 'nolt': 4588, 'obligatori': 4589, 'naschi': 4590, 'down': 4591, 'shield': 4592, 'schlock': 4593, '1976': 4594, 'dwarf': 4595, 'perman': 4596, 'faint': 4597, 'flirt': 4598, 'gasp': 4599, 'flashi': 4600, 'assert': 4601, 'strongest': 4602, 'messi': 4603, 'trivia': 4604, 'mount': 4605, 'mutual': 4606, 'corman': 4607, 'muscl': 4608, '1981': 4609, 'spree': 4610, 'harold': 4611, 'margin': 4612, 'joker': 4613, 'rhyme': 4614, 'cow': 4615, 'beard': 4616, 'flag': 4617, 'spinal': 4618, 'widescreen': 4619, 'keen': 4620, 'antagonist': 4621, 'gabl': 4622, 'alvin': 4623, 'astronaut': 4624, 'radiat': 4625, 'shred': 4626, 'zane': 4627, 'cush': 4628, 'fascist': 4629, 'transplant': 4630, 'cohen': 4631, 'proport': 4632, 'sensual': 4633, 'instruct': 4634, 'hara': 4635, 'neurot': 4636, 'mol': 4637, 'interestingli': 4638, 'brush': 4639, 'scandal': 4640, 'bitten': 4641, 'off': 4642, 'info': 4643, 'departur': 4644, 'mobil': 4645, 'archiv': 4646, 'flock': 4647, 'divin': 4648, 'www': 4649, 'vaniti': 4650, 'ritchi': 4651, '1945': 4652, 'triangl': 4653, 'someday': 4654, '28': 4655, '95': 4656, 'repris': 4657, 'persuad': 4658, 'raj': 4659, 'resum': 4660, 'fishburn': 4661, 'wield': 4662, 'discern': 4663, 'strive': 4664, 'inflict': 4665, 'claud': 4666, 'deer': 4667, 'bachelor': 4668, 'barn': 4669, 'boob': 4670, 'carey': 4671, 'danish': 4672, 'aborigin': 4673, 'pacif': 4674, 'clad': 4675, 'axe': 4676, 'melissa': 4677, 'biblic': 4678, 'prophet': 4679, 'earnest': 4680, 'senior': 4681, 'proclaim': 4682, 'jade': 4683, 'miracul': 4684, 'undermin': 4685, 'mobster': 4686, 'vibrant': 4687, 'loretta': 4688, 'luka': 4689, 'rot': 4690, 'neill': 4691, 'colin': 4692, 'hapless': 4693, 'banter': 4694, 'submit': 4695, 'heartwarm': 4696, 'anton': 4697, 'hug': 4698, 'kathryn': 4699, 'cb': 4700, 'cycl': 4701, 'frontier': 4702, 'europa': 4703, 'pickford': 4704, 'pixar': 4705, 'parson': 4706, 'bate': 4707, 'artwork': 4708, 'dame': 4709, 'cliffhang': 4710, 'ish': 4711, 'timberlak': 4712, 'harrison': 4713, 'casino': 4714, 'fragil': 4715, 'helm': 4716, 'dim': 4717, 'dylan': 4718, 'recit': 4719, 'traffic': 4720, 'carlo': 4721, 'hilar': 4722, 'cher': 4723, 'wendigo': 4724, 'estrang': 4725, 'mason': 4726, 'feast': 4727, 'foil': 4728, 'seedi': 4729, 'sicken': 4730, 'misfortun': 4731, 'illus': 4732, 'isra': 4733, 'aris': 4734, 'toronto': 4735, 'redneck': 4736, 'blatantli': 4737, 'flavor': 4738, 'vanessa': 4739, 'trier': 4740, 'electron': 4741, 'breakfast': 4742, 'http': 4743, 'orphan': 4744, 'lucil': 4745, 'northern': 4746, 'vile': 4747, 'static': 4748, 'winchest': 4749, 'bondag': 4750, 'venom': 4751, 'akin': 4752, 'uma': 4753, 'eli': 4754, 'cerebr': 4755, 'nope': 4756, 'token': 4757, 'marlon': 4758, 'antholog': 4759, 'articl': 4760, 'rooki': 4761, 'bikini': 4762, 'legitim': 4763, 'holocaust': 4764, 'jo': 4765, 'choke': 4766, 'lui': 4767, 'milo': 4768, 'wardrob': 4769, 'pc': 4770, 'razor': 4771, 'jordan': 4772, 'shepherd': 4773, 'alexandr': 4774, 'mathieu': 4775, 'affleck': 4776, 'charlton': 4777, 'glare': 4778, 'shorter': 4779, 'magician': 4780, 'feminin': 4781, 'oppon': 4782, 'audrey': 4783, 'gilbert': 4784, 'huston': 4785, 'comprehend': 4786, 'howl': 4787, 'psych': 4788, 'tack': 4789, 'wrestler': 4790, 'turd': 4791, 'clinic': 4792, 'swept': 4793, 'peer': 4794, 'dudley': 4795, 'retriev': 4796, 'abund': 4797, 'linear': 4798, 'ideolog': 4799, 'styliz': 4800, 'knightley': 4801, 'boyer': 4802, 'highway': 4803, 'ceremoni': 4804, 'disregard': 4805, 'deem': 4806, 'cartoonish': 4807, 'smack': 4808, 'outdat': 4809, 'leather': 4810, 'nightclub': 4811, 'fifth': 4812, 'frog': 4813, 'gunga': 4814, 'greet': 4815, 'evolut': 4816, 'mitch': 4817, 'collector': 4818, '1991': 4819, 'plate': 4820, 'breakdown': 4821, 'whack': 4822, 'snatch': 4823, 'tara': 4824, 'phenomen': 4825, '4th': 4826, 'einstein': 4827, 'boo': 4828, 'senat': 4829, 'energet': 4830, 'moe': 4831, 'salman': 4832, 'uniformli': 4833, 'compris': 4834, 'toe': 4835, 'spawn': 4836, 'summar': 4837, 'client': 4838, 'corn': 4839, 'cuban': 4840, 'lighter': 4841, '1994': 4842, 'lifeless': 4843, 'durat': 4844, 'lavish': 4845, 'sleaz': 4846, 'monument': 4847, 'bastard': 4848, 'newer': 4849, 'conrad': 4850, 'chip': 4851, 'cemeteri': 4852, 'spine': 4853, 'goldsworthi': 4854, 'btw': 4855, 'braveheart': 4856, 'potter': 4857, 'bogu': 4858, 'deliver': 4859, 'belli': 4860, 'healthi': 4861, 'outright': 4862, 'evelyn': 4863, 'creek': 4864, 'lex': 4865, 'occup': 4866, 'jare': 4867, 'appl': 4868, 'jedi': 4869, 'spectacl': 4870, 'cecil': 4871, 'undead': 4872, 'eleven': 4873, 'alleg': 4874, 'sorrow': 4875, 'fluid': 4876, 'kazan': 4877, 'neatli': 4878, 'capot': 4879, 'trauma': 4880, 'bulk': 4881, 'undertak': 4882, 'historian': 4883, 'ie': 4884, 'signal': 4885, 'constitut': 4886, 'kent': 4887, '1977': 4888, 'replay': 4889, 'inaccuraci': 4890, 'liu': 4891, 'judd': 4892, 'randolph': 4893, 'gilliam': 4894, 'bori': 4895, 'wtf': 4896, 'mcqueen': 4897, 'firmli': 4898, 'armstrong': 4899, 'jam': 4900, '1974': 4901, 'embark': 4902, 'ol': 4903, 'luxuri': 4904, 'nina': 4905, 'pronounc': 4906, 'clara': 4907, 'jule': 4908, 'inaccur': 4909, 'palm': 4910, 'congratul': 4911, 'pioneer': 4912, 'galaxi': 4913, 'genet': 4914, 'curtain': 4915, 'abound': 4916, 'unattract': 4917, 'sacrif': 4918, 'comprehens': 4919, 'vain': 4920, 'poker': 4921, 'meal': 4922, 'cape': 4923, 'comb': 4924, 'roar': 4925, 'rosario': 4926, 'spray': 4927, 'miami': 4928, 'carmen': 4929, 'relentless': 4930, 'goldblum': 4931, 'aussi': 4932, 'truman': 4933, 'forgiven': 4934, 'porter': 4935, 'blur': 4936, 'fruit': 4937, 'sidewalk': 4938, 'knee': 4939, 'paula': 4940, 'subtli': 4941, 'pepper': 4942, 'propheci': 4943, 'groan': 4944, 'bait': 4945, 'id': 4946, 'decapit': 4947, 'conan': 4948, 'basket': 4949, 'bsg': 4950, 'unsuspect': 4951, 'ash': 4952, 'lauren': 4953, 'kiddi': 4954, 'miniseri': 4955, 'antonio': 4956, 'tokyo': 4957, '1985': 4958, 'inclus': 4959, 'walt': 4960, 'vignett': 4961, 'mum': 4962, 'lanc': 4963, 'weaker': 4964, '21st': 4965, 'optimist': 4966, 'sparkl': 4967, 'jill': 4968, 'frontal': 4969, 'assort': 4970, 'dubiou': 4971, 'orchestr': 4972, 'spill': 4973, 'ghetto': 4974, 'hostil': 4975, 'victorian': 4976, 'weari': 4977, 'epitom': 4978, 'sophi': 4979, 'reincarn': 4980, 'incorrect': 4981, 'asset': 4982, 'turtl': 4983, 'cypher': 4984, 'handicap': 4985, 'macabr': 4986, 'drone': 4987, 'evan': 4988, 'omin': 4989, 'playboy': 4990, 'vastli': 4991, 'bravo': 4992, 'substanti': 4993, 'verg': 4994, 'profil': 4995, 'rapidli': 4996, 'hackman': 4997, 'motorcycl': 4998, 'modest': 4999}\n"
     ]
    }
   ],
   "source": [
    "word_dict = build_dict(train_X)\n",
    "print(word_dict)"
   ]
  },
  {
   "cell_type": "markdown",
   "metadata": {},
   "source": [
    "**Question:** What are the five most frequently appearing (tokenized) words in the training set? Does it makes sense that these words appear frequently in the training set?"
   ]
  },
  {
   "cell_type": "markdown",
   "metadata": {},
   "source": [
    "**Answer:**"
   ]
  },
  {
   "cell_type": "code",
   "execution_count": 15,
   "metadata": {},
   "outputs": [
    {
     "name": "stdout",
     "output_type": "stream",
     "text": [
      "The 5 most frequent words in the training set are ['movi', 'film', 'one', 'like', 'time']\n"
     ]
    }
   ],
   "source": [
    "# TODO: Use this space to determine the five most frequently appearing words in the training set.\n",
    "print(f\"The 5 most frequent words in the training set are {list(word_dict)[:5]}\")"
   ]
  },
  {
   "cell_type": "markdown",
   "metadata": {},
   "source": [
    "#### My Answer\n",
    "These words are bound to occus most frequently in our corpus since its a dataset containing movie reviews. movi = movie = film is the main subject of the review and the other words like one, like and time suggest that there are quite a few reviews that mention that the movie is neither too bad not too good, but was a one time watch.\n"
   ]
  },
  {
   "cell_type": "markdown",
   "metadata": {},
   "source": [
    "### Save `word_dict`\n",
    "\n",
    "Later on when we construct an endpoint which processes a submitted review we will need to make use of the `word_dict` which we have created. As such, we will save it to a file now for future use."
   ]
  },
  {
   "cell_type": "code",
   "execution_count": 16,
   "metadata": {},
   "outputs": [],
   "source": [
    "data_dir = '../data/pytorch' # The folder we will use for storing data\n",
    "if not os.path.exists(data_dir): # Make sure that the folder exists\n",
    "    os.makedirs(data_dir)"
   ]
  },
  {
   "cell_type": "code",
   "execution_count": 17,
   "metadata": {},
   "outputs": [],
   "source": [
    "with open(os.path.join(data_dir, 'word_dict.pkl'), \"wb\") as f:\n",
    "    pickle.dump(word_dict, f)"
   ]
  },
  {
   "cell_type": "markdown",
   "metadata": {},
   "source": [
    "### Transform the reviews\n",
    "\n",
    "Now that we have our word dictionary which allows us to transform the words appearing in the reviews into integers, it is time to make use of it and convert our reviews to their integer sequence representation, making sure to pad or truncate to a fixed length, which in our case is `500`."
   ]
  },
  {
   "cell_type": "code",
   "execution_count": 18,
   "metadata": {},
   "outputs": [],
   "source": [
    "def convert_and_pad(word_dict, sentence, pad=500):\n",
    "    NOWORD = 0 # We will use 0 to represent the 'no word' category\n",
    "    INFREQ = 1 # and we use 1 to represent the infrequent words, i.e., words not appearing in word_dict\n",
    "    \n",
    "    working_sentence = [NOWORD] * pad\n",
    "    \n",
    "    for word_index, word in enumerate(sentence[:pad]):\n",
    "        if word in word_dict:\n",
    "            working_sentence[word_index] = word_dict[word]\n",
    "        else:\n",
    "            working_sentence[word_index] = INFREQ\n",
    "            \n",
    "    return working_sentence, min(len(sentence), pad)\n",
    "\n",
    "def convert_and_pad_data(word_dict, data, pad=500):\n",
    "    result = []\n",
    "    lengths = []\n",
    "    \n",
    "    for sentence in data:\n",
    "        converted, leng = convert_and_pad(word_dict, sentence, pad)\n",
    "        result.append(converted)\n",
    "        lengths.append(leng)\n",
    "        \n",
    "    return np.array(result), np.array(lengths)"
   ]
  },
  {
   "cell_type": "code",
   "execution_count": 19,
   "metadata": {},
   "outputs": [],
   "source": [
    "train_X, train_X_len = convert_and_pad_data(word_dict, train_X)\n",
    "test_X, test_X_len = convert_and_pad_data(word_dict, test_X)"
   ]
  },
  {
   "cell_type": "markdown",
   "metadata": {},
   "source": [
    "As a quick check to make sure that things are working as intended, check to see what one of the reviews in the training set looks like after having been processeed. Does this look reasonable? What is the length of a review in the training set?"
   ]
  },
  {
   "cell_type": "code",
   "execution_count": 20,
   "metadata": {},
   "outputs": [
    {
     "name": "stdout",
     "output_type": "stream",
     "text": [
      "92\n",
      "[   1    1  385   69  535  415    3  562  222    1  234    1 2595   18\n",
      "    1  717 1345 1110  517    1  578 1345   59  517   17   18    1   63\n",
      "  432    7  150   72 2723  271  185    2   10  124    1    6  530  256\n",
      " 2920  676   69  394  682 1044  195  181   77    2   27   54   11    3\n",
      " 1697 3639   27  535  854 4069    1 1117 1333    1    1   18    1    1\n",
      " 1117 1333  158  128 1047    1 1010    3 2083  366 1679  271  943  564\n",
      "    1  500   44  476  215  415 2203 1167    0    0    0    0    0    0\n",
      "    0    0    0    0    0    0    0    0    0    0    0    0    0    0\n",
      "    0    0    0    0    0    0    0    0    0    0    0    0    0    0\n",
      "    0    0    0    0    0    0    0    0    0    0    0    0    0    0\n",
      "    0    0    0    0    0    0    0    0    0    0    0    0    0    0\n",
      "    0    0    0    0    0    0    0    0    0    0    0    0    0    0\n",
      "    0    0    0    0    0    0    0    0    0    0    0    0    0    0\n",
      "    0    0    0    0    0    0    0    0    0    0    0    0    0    0\n",
      "    0    0    0    0    0    0    0    0    0    0    0    0    0    0\n",
      "    0    0    0    0    0    0    0    0    0    0    0    0    0    0\n",
      "    0    0    0    0    0    0    0    0    0    0    0    0    0    0\n",
      "    0    0    0    0    0    0    0    0    0    0    0    0    0    0\n",
      "    0    0    0    0    0    0    0    0    0    0    0    0    0    0\n",
      "    0    0    0    0    0    0    0    0    0    0    0    0    0    0\n",
      "    0    0    0    0    0    0    0    0    0    0    0    0    0    0\n",
      "    0    0    0    0    0    0    0    0    0    0    0    0    0    0\n",
      "    0    0    0    0    0    0    0    0    0    0    0    0    0    0\n",
      "    0    0    0    0    0    0    0    0    0    0    0    0    0    0\n",
      "    0    0    0    0    0    0    0    0    0    0    0    0    0    0\n",
      "    0    0    0    0    0    0    0    0    0    0    0    0    0    0\n",
      "    0    0    0    0    0    0    0    0    0    0    0    0    0    0\n",
      "    0    0    0    0    0    0    0    0    0    0    0    0    0    0\n",
      "    0    0    0    0    0    0    0    0    0    0    0    0    0    0\n",
      "    0    0    0    0    0    0    0    0    0    0    0    0    0    0\n",
      "    0    0    0    0    0    0    0    0    0    0    0    0    0    0\n",
      "    0    0    0    0    0    0    0    0    0    0    0    0    0    0\n",
      "    0    0    0    0    0    0    0    0    0    0    0    0    0    0\n",
      "    0    0    0    0    0    0    0    0    0    0    0    0    0    0\n",
      "    0    0    0    0    0    0    0    0    0    0    0    0    0    0\n",
      "    0    0    0    0    0    0    0    0    0    0]\n"
     ]
    }
   ],
   "source": [
    "# Use this cell to examine one of the processed reviews to make sure everything is working as intended.\n",
    "print(str(train_X_len[100]))    # len was 90\n",
    "print(train_X[100])"
   ]
  },
  {
   "cell_type": "markdown",
   "metadata": {},
   "source": [
    "**Question:** In the cells above we use the `preprocess_data` and `convert_and_pad_data` methods to process both the training and testing set. Why or why not might this be a problem?"
   ]
  },
  {
   "cell_type": "markdown",
   "metadata": {},
   "source": [
    "**Answer:**\n",
    "Initially the `preprocess_data` function takes the train and test data set, and sends each review to the review_to_word function that removes stopwords, does stemming and returns a list of words. This gives us a list of lists ( inner list corresponds to one review in the dataset). Finally we get back train and test reviews along with their labels of 0s and 1s. \n",
    "\n",
    "Then we send the train data to `convert_and_pad_data` to convert these words(strings) into ints. We want to truncate/pad the reviews to the same length(500) for being able to process data in batches easily. So each review is sent to `convert_and_pad` which populates a list of 500 with the term-frequency of the words in the review and in case the word in the review was not present in the most frequent 5000 (vocabulary size) words then it is replaced with 1 and if the length of the review is less than 500 then a padding of 0s is done(as can be seen in the above run cell's output). We also return the actual length (in words) of the review and finally the `convert_and_pad_data` function returns 2 numpy arrays of the vectorized review and its length.\n",
    "Same is done for test data."
   ]
  },
  {
   "cell_type": "markdown",
   "metadata": {},
   "source": [
    "## Step 3: Upload the data to S3\n",
    "\n",
    "As in the XGBoost notebook, we will need to upload the training dataset to S3 in order for our training code to access it. For now we will save it locally and we will upload to S3 later on.\n",
    "\n",
    "### Save the processed training dataset locally\n",
    "\n",
    "It is important to note the format of the data that we are saving as we will need to know it when we write the training code. In our case, each row of the dataset has the form `label`, `length`, `review[500]` where `review[500]` is a sequence of `500` integers representing the words in the review."
   ]
  },
  {
   "cell_type": "code",
   "execution_count": 21,
   "metadata": {},
   "outputs": [],
   "source": [
    "import pandas as pd\n",
    "    \n",
    "pd.concat([pd.DataFrame(train_y), pd.DataFrame(train_X_len), pd.DataFrame(train_X)], axis=1) \\\n",
    "        .to_csv(os.path.join(data_dir, 'train.csv'), header=False, index=False)"
   ]
  },
  {
   "cell_type": "markdown",
   "metadata": {},
   "source": [
    "### Uploading the training data\n",
    "\n",
    "\n",
    "Next, we need to upload the training data to the SageMaker default S3 bucket so that we can provide access to it while training our model."
   ]
  },
  {
   "cell_type": "code",
   "execution_count": 22,
   "metadata": {},
   "outputs": [],
   "source": [
    "import sagemaker\n",
    "\n",
    "sagemaker_session = sagemaker.Session()\n",
    "\n",
    "bucket = sagemaker_session.default_bucket()\n",
    "prefix = 'sagemaker/sentiment_rnn'\n",
    "\n",
    "role = sagemaker.get_execution_role()"
   ]
  },
  {
   "cell_type": "code",
   "execution_count": 23,
   "metadata": {},
   "outputs": [],
   "source": [
    "input_data = sagemaker_session.upload_data(path=data_dir, bucket=bucket, key_prefix=prefix)"
   ]
  },
  {
   "cell_type": "markdown",
   "metadata": {},
   "source": [
    "**NOTE:** The cell above uploads the entire contents of our data directory. This includes the `word_dict.pkl` file. This is fortunate as we will need this later on when we create an endpoint that accepts an arbitrary review. For now, we will just take note of the fact that it resides in the data directory (and so also in the S3 training bucket) and that we will need to make sure it gets saved in the model directory."
   ]
  },
  {
   "cell_type": "markdown",
   "metadata": {},
   "source": [
    "## Step 4: Build and Train the PyTorch Model\n",
    "\n",
    "In the XGBoost notebook we discussed what a model is in the SageMaker framework. In particular, a model comprises three objects\n",
    "\n",
    " - Model Artifacts,\n",
    " - Training Code, and\n",
    " - Inference Code,\n",
    " \n",
    "each of which interact with one another. In the XGBoost example we used training and inference code that was provided by Amazon. Here we will still be using containers provided by Amazon with the added benefit of being able to include our own custom code.\n",
    "\n",
    "We will start by implementing our own neural network in PyTorch along with a training script. For the purposes of this project we have provided the necessary model object in the `model.py` file, inside of the `train` folder. You can see the provided implementation by running the cell below."
   ]
  },
  {
   "cell_type": "code",
   "execution_count": 24,
   "metadata": {},
   "outputs": [
    {
     "name": "stdout",
     "output_type": "stream",
     "text": [
      "\u001b[34mimport\u001b[39;49;00m \u001b[04m\u001b[36mtorch\u001b[39;49;00m\u001b[04m\u001b[36m.\u001b[39;49;00m\u001b[04m\u001b[36mnn\u001b[39;49;00m \u001b[34mas\u001b[39;49;00m \u001b[04m\u001b[36mnn\u001b[39;49;00m\r\n",
      "\r\n",
      "\u001b[34mclass\u001b[39;49;00m \u001b[04m\u001b[32mLSTMClassifier\u001b[39;49;00m(nn.Module):\r\n",
      "    \u001b[33m\"\"\"\u001b[39;49;00m\r\n",
      "\u001b[33m    This is the simple RNN model we will be using to perform Sentiment Analysis.\u001b[39;49;00m\r\n",
      "\u001b[33m    \"\"\"\u001b[39;49;00m\r\n",
      "\r\n",
      "    \u001b[34mdef\u001b[39;49;00m \u001b[32m__init__\u001b[39;49;00m(\u001b[36mself\u001b[39;49;00m, embedding_dim, hidden_dim, vocab_size):\r\n",
      "        \u001b[33m\"\"\"\u001b[39;49;00m\r\n",
      "\u001b[33m        Initialize the model by settingg up the various layers.\u001b[39;49;00m\r\n",
      "\u001b[33m        \"\"\"\u001b[39;49;00m\r\n",
      "        \u001b[36msuper\u001b[39;49;00m(LSTMClassifier, \u001b[36mself\u001b[39;49;00m).\u001b[32m__init__\u001b[39;49;00m()\r\n",
      "\r\n",
      "        \u001b[36mself\u001b[39;49;00m.embedding = nn.Embedding(vocab_size, embedding_dim, padding_idx=\u001b[34m0\u001b[39;49;00m)\r\n",
      "        \u001b[36mself\u001b[39;49;00m.lstm = nn.LSTM(embedding_dim, hidden_dim)\r\n",
      "        \u001b[36mself\u001b[39;49;00m.dense = nn.Linear(in_features=hidden_dim, out_features=\u001b[34m1\u001b[39;49;00m)\r\n",
      "        \u001b[36mself\u001b[39;49;00m.sig = nn.Sigmoid()\r\n",
      "        \r\n",
      "        \u001b[36mself\u001b[39;49;00m.word_dict = \u001b[34mNone\u001b[39;49;00m\r\n",
      "\r\n",
      "    \u001b[34mdef\u001b[39;49;00m \u001b[32mforward\u001b[39;49;00m(\u001b[36mself\u001b[39;49;00m, x):\r\n",
      "        \u001b[33m\"\"\"\u001b[39;49;00m\r\n",
      "\u001b[33m        Perform a forward pass of our model on some input.\u001b[39;49;00m\r\n",
      "\u001b[33m        \"\"\"\u001b[39;49;00m\r\n",
      "        x = x.t()\r\n",
      "        lengths = x[\u001b[34m0\u001b[39;49;00m,:]\r\n",
      "        reviews = x[\u001b[34m1\u001b[39;49;00m:,:]\r\n",
      "        embeds = \u001b[36mself\u001b[39;49;00m.embedding(reviews)\r\n",
      "        lstm_out, _ = \u001b[36mself\u001b[39;49;00m.lstm(embeds)\r\n",
      "        out = \u001b[36mself\u001b[39;49;00m.dense(lstm_out)\r\n",
      "        out = out[lengths - \u001b[34m1\u001b[39;49;00m, \u001b[36mrange\u001b[39;49;00m(\u001b[36mlen\u001b[39;49;00m(lengths))]\r\n",
      "        \u001b[34mreturn\u001b[39;49;00m \u001b[36mself\u001b[39;49;00m.sig(out.squeeze())\r\n"
     ]
    }
   ],
   "source": [
    "!pygmentize train/model.py"
   ]
  },
  {
   "cell_type": "markdown",
   "metadata": {},
   "source": [
    "The important takeaway from the implementation provided is that there are three parameters that we may wish to tweak to improve the performance of our model. These are the embedding dimension, the hidden dimension and the size of the vocabulary. We will likely want to make these parameters configurable in the training script so that if we wish to modify them we do not need to modify the script itself. We will see how to do this later on. To start we will write some of the training code in the notebook so that we can more easily diagnose any issues that arise.\n",
    "\n",
    "First we will load a small portion of the training data set to use as a sample. It would be very time consuming to try and train the model completely in the notebook as we do not have access to a gpu and the compute instance that we are using is not particularly powerful. However, we can work on a small bit of the data to get a feel for how our training script is behaving."
   ]
  },
  {
   "cell_type": "code",
   "execution_count": 25,
   "metadata": {},
   "outputs": [],
   "source": [
    "import torch\n",
    "import torch.utils.data\n",
    "\n",
    "# Read in only the first 250 rows\n",
    "train_sample = pd.read_csv(os.path.join(data_dir, 'train.csv'), header=None, names=None, nrows=250)\n",
    "\n",
    "# Turn the input pandas dataframe into tensors\n",
    "train_sample_y = torch.from_numpy(train_sample[[0]].values).float().squeeze()\n",
    "train_sample_X = torch.from_numpy(train_sample.drop([0], axis=1).values).long()\n",
    "\n",
    "# Build the dataset\n",
    "train_sample_ds = torch.utils.data.TensorDataset(train_sample_X, train_sample_y)\n",
    "# Build the dataloader\n",
    "train_sample_dl = torch.utils.data.DataLoader(train_sample_ds, batch_size=50)"
   ]
  },
  {
   "cell_type": "markdown",
   "metadata": {},
   "source": [
    "### (TODO) Writing the training method\n",
    "\n",
    "Next we need to write the training code itself. This should be very similar to training methods that you have written before to train PyTorch models. We will leave any difficult aspects such as model saving / loading and parameter loading until a little later."
   ]
  },
  {
   "cell_type": "code",
   "execution_count": 26,
   "metadata": {},
   "outputs": [],
   "source": [
    "def train(model, train_loader, epochs, optimizer, loss_fn, device):\n",
    "    \n",
    "    total_steps = len(train_loader)\n",
    "    for epoch in range(1, epochs + 1):\n",
    "        model.train()\n",
    "        total_loss = 0\n",
    "        for i, batch in enumerate(train_loader):         \n",
    "            batch_X, batch_y = batch\n",
    "            \n",
    "            batch_X = batch_X.to(device)\n",
    "            batch_y = batch_y.to(device)\n",
    "            \n",
    "            # TODO: Complete this train method to train the model provided.\n",
    "            outputs = model(batch_X)\n",
    "            #print(type(outputs))\n",
    "#             if epoch == 1:\n",
    "#                 print(\"10 output values\"+str(outputs[:10]))\n",
    "#                 print(f\"actual labels: {batch_y[:10]}\")\n",
    "            loss = loss_fn(outputs, batch_y)\n",
    "            \n",
    "            optimizer.zero_grad()\n",
    "            loss.backward()\n",
    "            optimizer.step()                \n",
    "            \n",
    "            total_loss += loss.data.item()\n",
    "        print(\"Epoch: {}, BCELoss: {}\".format(epoch, total_loss / len(train_loader)))"
   ]
  },
  {
   "cell_type": "markdown",
   "metadata": {},
   "source": [
    "Supposing we have the training method above, we will test that it is working by writing a bit of code in the notebook that executes our training method on the small sample training set that we loaded earlier. The reason for doing this in the notebook is so that we have an opportunity to fix any errors that arise early when they are easier to diagnose."
   ]
  },
  {
   "cell_type": "code",
   "execution_count": 27,
   "metadata": {},
   "outputs": [
    {
     "name": "stdout",
     "output_type": "stream",
     "text": [
      "Epoch: 1, BCELoss: 0.6925800561904907\n",
      "Epoch: 2, BCELoss: 0.6836535573005676\n",
      "Epoch: 3, BCELoss: 0.6761144876480103\n",
      "Epoch: 4, BCELoss: 0.6676909565925598\n",
      "Epoch: 5, BCELoss: 0.6573239803314209\n"
     ]
    }
   ],
   "source": [
    "import torch.optim as optim\n",
    "from train.model import LSTMClassifier\n",
    "\n",
    "device = torch.device(\"cuda\" if torch.cuda.is_available() else \"cpu\")\n",
    "model = LSTMClassifier(32, 100, 5000).to(device)\n",
    "optimizer = optim.Adam(model.parameters())\n",
    "loss_fn = torch.nn.BCELoss()\n",
    "\n",
    "train(model, train_sample_dl, 5, optimizer, loss_fn, device)"
   ]
  },
  {
   "cell_type": "markdown",
   "metadata": {},
   "source": [
    "In order to construct a PyTorch model using SageMaker we must provide SageMaker with a training script. We may optionally include a directory which will be copied to the container and from which our training code will be run. When the training container is executed it will check the uploaded directory (if there is one) for a `requirements.txt` file and install any required Python libraries, after which the training script will be run."
   ]
  },
  {
   "cell_type": "markdown",
   "metadata": {},
   "source": [
    "### (TODO) Training the model\n",
    "\n",
    "When a PyTorch model is constructed in SageMaker, an entry point must be specified. This is the Python file which will be executed when the model is trained. Inside of the `train` directory is a file called `train.py` which has been provided and which contains most of the necessary code to train our model. The only thing that is missing is the implementation of the `train()` method which you wrote earlier in this notebook.\n",
    "\n",
    "**TODO**: Copy the `train()` method written above and paste it into the `train/train.py` file where required.\n",
    "\n",
    "The way that SageMaker passes hyperparameters to the training script is by way of arguments. These arguments can then be parsed and used in the training script. To see how this is done take a look at the provided `train/train.py` file."
   ]
  },
  {
   "cell_type": "code",
   "execution_count": 28,
   "metadata": {},
   "outputs": [],
   "source": [
    "from sagemaker.pytorch import PyTorch\n",
    "\n",
    "estimator = PyTorch(entry_point=\"train.py\",\n",
    "                    source_dir=\"train\",\n",
    "                    role=role,\n",
    "                    framework_version='0.4.0',\n",
    "                    train_instance_count=1,\n",
    "                    train_instance_type='ml.p2.xlarge',\n",
    "                    hyperparameters={\n",
    "                        'epochs': 10,\n",
    "                        'hidden_dim': 200,\n",
    "                    })"
   ]
  },
  {
   "cell_type": "code",
   "execution_count": 29,
   "metadata": {},
   "outputs": [],
   "source": [
    "import time\n",
    "start = time.time()"
   ]
  },
  {
   "cell_type": "code",
   "execution_count": 30,
   "metadata": {},
   "outputs": [
    {
     "name": "stderr",
     "output_type": "stream",
     "text": [
      "'create_image_uri' will be deprecated in favor of 'ImageURIProvider' class in SageMaker Python SDK v2.\n",
      "'s3_input' class will be renamed to 'TrainingInput' in SageMaker Python SDK v2.\n",
      "'create_image_uri' will be deprecated in favor of 'ImageURIProvider' class in SageMaker Python SDK v2.\n"
     ]
    },
    {
     "name": "stdout",
     "output_type": "stream",
     "text": [
      "2020-12-17 06:15:27 Starting - Starting the training job...\n",
      "2020-12-17 06:15:29 Starting - Launching requested ML instances......\n",
      "2020-12-17 06:16:42 Starting - Preparing the instances for training......\n",
      "2020-12-17 06:17:57 Downloading - Downloading input data......\n",
      "2020-12-17 06:18:40 Training - Downloading the training image..\u001b[34mbash: cannot set terminal process group (-1): Inappropriate ioctl for device\u001b[0m\n",
      "\u001b[34mbash: no job control in this shell\u001b[0m\n",
      "\u001b[34m2020-12-17 06:19:06,482 sagemaker-containers INFO     Imported framework sagemaker_pytorch_container.training\u001b[0m\n",
      "\u001b[34m2020-12-17 06:19:06,509 sagemaker_pytorch_container.training INFO     Block until all host DNS lookups succeed.\u001b[0m\n",
      "\u001b[34m2020-12-17 06:19:07,944 sagemaker_pytorch_container.training INFO     Invoking user training script.\u001b[0m\n",
      "\u001b[34m2020-12-17 06:19:08,240 sagemaker-containers INFO     Module train does not provide a setup.py. \u001b[0m\n",
      "\u001b[34mGenerating setup.py\u001b[0m\n",
      "\u001b[34m2020-12-17 06:19:08,240 sagemaker-containers INFO     Generating setup.cfg\u001b[0m\n",
      "\u001b[34m2020-12-17 06:19:08,241 sagemaker-containers INFO     Generating MANIFEST.in\u001b[0m\n",
      "\u001b[34m2020-12-17 06:19:08,241 sagemaker-containers INFO     Installing module with the following command:\u001b[0m\n",
      "\u001b[34m/usr/bin/python -m pip install -U . -r requirements.txt\u001b[0m\n",
      "\u001b[34mProcessing /opt/ml/code\u001b[0m\n",
      "\u001b[34mCollecting pandas (from -r requirements.txt (line 1))\n",
      "  Downloading https://files.pythonhosted.org/packages/74/24/0cdbf8907e1e3bc5a8da03345c23cbed7044330bb8f73bb12e711a640a00/pandas-0.24.2-cp35-cp35m-manylinux1_x86_64.whl (10.0MB)\u001b[0m\n",
      "\u001b[34mCollecting numpy (from -r requirements.txt (line 2))\u001b[0m\n",
      "\u001b[34m  Downloading https://files.pythonhosted.org/packages/b5/36/88723426b4ff576809fec7d73594fe17a35c27f8d01f93637637a29ae25b/numpy-1.18.5-cp35-cp35m-manylinux1_x86_64.whl (19.9MB)\u001b[0m\n",
      "\u001b[34mCollecting nltk (from -r requirements.txt (line 3))\n",
      "  Downloading https://files.pythonhosted.org/packages/92/75/ce35194d8e3022203cca0d2f896dbb88689f9b3fce8e9f9cff942913519d/nltk-3.5.zip (1.4MB)\u001b[0m\n",
      "\u001b[34mCollecting beautifulsoup4 (from -r requirements.txt (line 4))\n",
      "  Downloading https://files.pythonhosted.org/packages/d1/41/e6495bd7d3781cee623ce23ea6ac73282a373088fcd0ddc809a047b18eae/beautifulsoup4-4.9.3-py3-none-any.whl (115kB)\u001b[0m\n",
      "\u001b[34mCollecting html5lib (from -r requirements.txt (line 5))\n",
      "  Downloading https://files.pythonhosted.org/packages/6c/dd/a834df6482147d48e225a49515aabc28974ad5a4ca3215c18a882565b028/html5lib-1.1-py2.py3-none-any.whl (112kB)\u001b[0m\n",
      "\u001b[34mCollecting pytz>=2011k (from pandas->-r requirements.txt (line 1))\u001b[0m\n",
      "\u001b[34m  Downloading https://files.pythonhosted.org/packages/12/f8/ff09af6ff61a3efaad5f61ba5facdf17e7722c4393f7d8a66674d2dbd29f/pytz-2020.4-py2.py3-none-any.whl (509kB)\u001b[0m\n",
      "\u001b[34mRequirement already satisfied, skipping upgrade: python-dateutil>=2.5.0 in /usr/local/lib/python3.5/dist-packages (from pandas->-r requirements.txt (line 1)) (2.7.5)\u001b[0m\n",
      "\u001b[34mRequirement already satisfied, skipping upgrade: click in /usr/local/lib/python3.5/dist-packages (from nltk->-r requirements.txt (line 3)) (7.0)\u001b[0m\n",
      "\u001b[34mCollecting joblib (from nltk->-r requirements.txt (line 3))\n",
      "  Downloading https://files.pythonhosted.org/packages/28/5c/cf6a2b65a321c4a209efcdf64c2689efae2cb62661f8f6f4bb28547cf1bf/joblib-0.14.1-py2.py3-none-any.whl (294kB)\u001b[0m\n",
      "\u001b[34mCollecting regex (from nltk->-r requirements.txt (line 3))\n",
      "  Downloading https://files.pythonhosted.org/packages/2e/e4/3447fed9ab29944333f48730ecff4dca92f0868c5b188d6ab2b2078e32c2/regex-2020.11.13.tar.gz (694kB)\u001b[0m\n",
      "\u001b[34mCollecting tqdm (from nltk->-r requirements.txt (line 3))\n",
      "  Downloading https://files.pythonhosted.org/packages/8a/54/115f0c28a61d56674c3a5e05c46d6c3523ad196e1dcd3e2d8b119026df36/tqdm-4.54.1-py2.py3-none-any.whl (69kB)\u001b[0m\n",
      "\u001b[34mCollecting soupsieve>1.2; python_version >= \"3.0\" (from beautifulsoup4->-r requirements.txt (line 4))\n",
      "  Downloading https://files.pythonhosted.org/packages/02/fb/1c65691a9aeb7bd6ac2aa505b84cb8b49ac29c976411c6ab3659425e045f/soupsieve-2.1-py3-none-any.whl\u001b[0m\n",
      "\u001b[34mRequirement already satisfied, skipping upgrade: six>=1.9 in /usr/local/lib/python3.5/dist-packages (from html5lib->-r requirements.txt (line 5)) (1.11.0)\u001b[0m\n",
      "\u001b[34mCollecting webencodings (from html5lib->-r requirements.txt (line 5))\n",
      "  Downloading https://files.pythonhosted.org/packages/f4/24/2a3e3df732393fed8b3ebf2ec078f05546de641fe1b667ee316ec1dcf3b7/webencodings-0.5.1-py2.py3-none-any.whl\u001b[0m\n",
      "\u001b[34mBuilding wheels for collected packages: nltk, train, regex\n",
      "  Running setup.py bdist_wheel for nltk: started\u001b[0m\n",
      "\u001b[34m  Running setup.py bdist_wheel for nltk: finished with status 'done'\n",
      "  Stored in directory: /root/.cache/pip/wheels/ae/8c/3f/b1fe0ba04555b08b57ab52ab7f86023639a526d8bc8d384306\n",
      "  Running setup.py bdist_wheel for train: started\n",
      "  Running setup.py bdist_wheel for train: finished with status 'done'\n",
      "  Stored in directory: /tmp/pip-ephem-wheel-cache-_zctjkrv/wheels/35/24/16/37574d11bf9bde50616c67372a334f94fa8356bc7164af8ca3\n",
      "  Running setup.py bdist_wheel for regex: started\u001b[0m\n",
      "\n",
      "2020-12-17 06:19:05 Training - Training image download completed. Training in progress.\u001b[34m  Running setup.py bdist_wheel for regex: finished with status 'done'\n",
      "  Stored in directory: /root/.cache/pip/wheels/27/f6/66/a4243e485a0ebc73dc59033ae26c48e82526f77dbfe158ac59\u001b[0m\n",
      "\u001b[34mSuccessfully built nltk train regex\u001b[0m\n",
      "\u001b[34mInstalling collected packages: pytz, numpy, pandas, joblib, regex, tqdm, nltk, soupsieve, beautifulsoup4, webencodings, html5lib, train\n",
      "  Found existing installation: numpy 1.15.4\n",
      "    Uninstalling numpy-1.15.4:\u001b[0m\n",
      "\u001b[34m      Successfully uninstalled numpy-1.15.4\u001b[0m\n",
      "\u001b[34mSuccessfully installed beautifulsoup4-4.9.3 html5lib-1.1 joblib-0.14.1 nltk-3.5 numpy-1.18.5 pandas-0.24.2 pytz-2020.4 regex-2020.11.13 soupsieve-2.1 tqdm-4.54.1 train-1.0.0 webencodings-0.5.1\u001b[0m\n",
      "\u001b[34mYou are using pip version 18.1, however version 20.3.3 is available.\u001b[0m\n",
      "\u001b[34mYou should consider upgrading via the 'pip install --upgrade pip' command.\u001b[0m\n",
      "\u001b[34m2020-12-17 06:19:32,660 sagemaker-containers INFO     Invoking user script\n",
      "\u001b[0m\n",
      "\u001b[34mTraining Env:\n",
      "\u001b[0m\n",
      "\u001b[34m{\n",
      "    \"output_intermediate_dir\": \"/opt/ml/output/intermediate\",\n",
      "    \"module_dir\": \"s3://sagemaker-us-west-2-707999881328/sagemaker-pytorch-2020-12-17-06-15-27-373/source/sourcedir.tar.gz\",\n",
      "    \"input_dir\": \"/opt/ml/input\",\n",
      "    \"additional_framework_parameters\": {},\n",
      "    \"resource_config\": {\n",
      "        \"network_interface_name\": \"eth0\",\n",
      "        \"current_host\": \"algo-1\",\n",
      "        \"hosts\": [\n",
      "            \"algo-1\"\n",
      "        ]\n",
      "    },\n",
      "    \"framework_module\": \"sagemaker_pytorch_container.training:main\",\n",
      "    \"input_data_config\": {\n",
      "        \"training\": {\n",
      "            \"S3DistributionType\": \"FullyReplicated\",\n",
      "            \"TrainingInputMode\": \"File\",\n",
      "            \"RecordWrapperType\": \"None\"\n",
      "        }\n",
      "    },\n",
      "    \"hosts\": [\n",
      "        \"algo-1\"\n",
      "    ],\n",
      "    \"input_config_dir\": \"/opt/ml/input/config\",\n",
      "    \"network_interface_name\": \"eth0\",\n",
      "    \"user_entry_point\": \"train.py\",\n",
      "    \"output_data_dir\": \"/opt/ml/output/data\",\n",
      "    \"hyperparameters\": {\n",
      "        \"hidden_dim\": 200,\n",
      "        \"epochs\": 10\n",
      "    },\n",
      "    \"output_dir\": \"/opt/ml/output\",\n",
      "    \"log_level\": 20,\n",
      "    \"current_host\": \"algo-1\",\n",
      "    \"model_dir\": \"/opt/ml/model\",\n",
      "    \"job_name\": \"sagemaker-pytorch-2020-12-17-06-15-27-373\",\n",
      "    \"module_name\": \"train\",\n",
      "    \"num_gpus\": 1,\n",
      "    \"num_cpus\": 4,\n",
      "    \"channel_input_dirs\": {\n",
      "        \"training\": \"/opt/ml/input/data/training\"\n",
      "    }\u001b[0m\n",
      "\u001b[34m}\n",
      "\u001b[0m\n",
      "\u001b[34mEnvironment variables:\n",
      "\u001b[0m\n",
      "\u001b[34mSM_MODULE_DIR=s3://sagemaker-us-west-2-707999881328/sagemaker-pytorch-2020-12-17-06-15-27-373/source/sourcedir.tar.gz\u001b[0m\n",
      "\u001b[34mSM_OUTPUT_DATA_DIR=/opt/ml/output/data\u001b[0m\n",
      "\u001b[34mSM_HP_EPOCHS=10\u001b[0m\n",
      "\u001b[34mSM_NETWORK_INTERFACE_NAME=eth0\u001b[0m\n",
      "\u001b[34mSM_NUM_GPUS=1\u001b[0m\n",
      "\u001b[34mSM_CHANNELS=[\"training\"]\u001b[0m\n",
      "\u001b[34mPYTHONPATH=/usr/local/bin:/usr/lib/python35.zip:/usr/lib/python3.5:/usr/lib/python3.5/plat-x86_64-linux-gnu:/usr/lib/python3.5/lib-dynload:/usr/local/lib/python3.5/dist-packages:/usr/lib/python3/dist-packages\u001b[0m\n",
      "\u001b[34mSM_USER_ENTRY_POINT=train.py\u001b[0m\n",
      "\u001b[34mSM_INPUT_DATA_CONFIG={\"training\":{\"RecordWrapperType\":\"None\",\"S3DistributionType\":\"FullyReplicated\",\"TrainingInputMode\":\"File\"}}\u001b[0m\n",
      "\u001b[34mSM_FRAMEWORK_MODULE=sagemaker_pytorch_container.training:main\u001b[0m\n",
      "\u001b[34mSM_USER_ARGS=[\"--epochs\",\"10\",\"--hidden_dim\",\"200\"]\u001b[0m\n",
      "\u001b[34mSM_INPUT_CONFIG_DIR=/opt/ml/input/config\u001b[0m\n",
      "\u001b[34mSM_LOG_LEVEL=20\u001b[0m\n",
      "\u001b[34mSM_MODULE_NAME=train\u001b[0m\n",
      "\u001b[34mSM_CHANNEL_TRAINING=/opt/ml/input/data/training\u001b[0m\n",
      "\u001b[34mSM_HOSTS=[\"algo-1\"]\u001b[0m\n",
      "\u001b[34mSM_HPS={\"epochs\":10,\"hidden_dim\":200}\u001b[0m\n",
      "\u001b[34mSM_TRAINING_ENV={\"additional_framework_parameters\":{},\"channel_input_dirs\":{\"training\":\"/opt/ml/input/data/training\"},\"current_host\":\"algo-1\",\"framework_module\":\"sagemaker_pytorch_container.training:main\",\"hosts\":[\"algo-1\"],\"hyperparameters\":{\"epochs\":10,\"hidden_dim\":200},\"input_config_dir\":\"/opt/ml/input/config\",\"input_data_config\":{\"training\":{\"RecordWrapperType\":\"None\",\"S3DistributionType\":\"FullyReplicated\",\"TrainingInputMode\":\"File\"}},\"input_dir\":\"/opt/ml/input\",\"job_name\":\"sagemaker-pytorch-2020-12-17-06-15-27-373\",\"log_level\":20,\"model_dir\":\"/opt/ml/model\",\"module_dir\":\"s3://sagemaker-us-west-2-707999881328/sagemaker-pytorch-2020-12-17-06-15-27-373/source/sourcedir.tar.gz\",\"module_name\":\"train\",\"network_interface_name\":\"eth0\",\"num_cpus\":4,\"num_gpus\":1,\"output_data_dir\":\"/opt/ml/output/data\",\"output_dir\":\"/opt/ml/output\",\"output_intermediate_dir\":\"/opt/ml/output/intermediate\",\"resource_config\":{\"current_host\":\"algo-1\",\"hosts\":[\"algo-1\"],\"network_interface_name\":\"eth0\"},\"user_entry_point\":\"train.py\"}\u001b[0m\n",
      "\u001b[34mSM_INPUT_DIR=/opt/ml/input\u001b[0m\n",
      "\u001b[34mSM_OUTPUT_INTERMEDIATE_DIR=/opt/ml/output/intermediate\u001b[0m\n",
      "\u001b[34mSM_RESOURCE_CONFIG={\"current_host\":\"algo-1\",\"hosts\":[\"algo-1\"],\"network_interface_name\":\"eth0\"}\u001b[0m\n",
      "\u001b[34mSM_MODEL_DIR=/opt/ml/model\u001b[0m\n",
      "\u001b[34mSM_FRAMEWORK_PARAMS={}\u001b[0m\n",
      "\u001b[34mSM_HP_HIDDEN_DIM=200\u001b[0m\n",
      "\u001b[34mSM_NUM_CPUS=4\u001b[0m\n",
      "\u001b[34mSM_OUTPUT_DIR=/opt/ml/output\u001b[0m\n",
      "\u001b[34mSM_CURRENT_HOST=algo-1\n",
      "\u001b[0m\n",
      "\u001b[34mInvoking script with the following command:\n",
      "\u001b[0m\n",
      "\u001b[34m/usr/bin/python -m train --epochs 10 --hidden_dim 200\n",
      "\n",
      "\u001b[0m\n",
      "\u001b[34mUsing device cuda.\u001b[0m\n",
      "\u001b[34mGet train data loader.\u001b[0m\n"
     ]
    },
    {
     "name": "stdout",
     "output_type": "stream",
     "text": [
      "\u001b[34mModel loaded with embedding_dim 32, hidden_dim 200, vocab_size 5000.\u001b[0m\n",
      "\u001b[34mEpoch: 1, BCELoss: 0.6608469802506116\u001b[0m\n",
      "\u001b[34mEpoch: 2, BCELoss: 0.5978260247074828\u001b[0m\n",
      "\u001b[34mEpoch: 3, BCELoss: 0.5301350701828392\u001b[0m\n",
      "\u001b[34mEpoch: 4, BCELoss: 0.45222677503313335\u001b[0m\n",
      "\u001b[34mEpoch: 5, BCELoss: 0.43757276024137226\u001b[0m\n",
      "\u001b[34mEpoch: 6, BCELoss: 0.3926401655284726\u001b[0m\n",
      "\u001b[34mEpoch: 7, BCELoss: 0.3443895906818156\u001b[0m\n",
      "\u001b[34mEpoch: 8, BCELoss: 0.32153716500924556\u001b[0m\n",
      "\u001b[34mEpoch: 9, BCELoss: 0.30292690043546716\u001b[0m\n",
      "\u001b[34mEpoch: 10, BCELoss: 0.38769889638131977\u001b[0m\n",
      "\u001b[34m2020-12-17 06:22:34,451 sagemaker-containers INFO     Reporting training SUCCESS\u001b[0m\n",
      "\n",
      "2020-12-17 06:22:46 Uploading - Uploading generated training model\n",
      "2020-12-17 06:22:46 Completed - Training job completed\n",
      "Training seconds: 289\n",
      "Billable seconds: 289\n",
      "time taken to train is 466.5981957912445\n"
     ]
    }
   ],
   "source": [
    "estimator.fit({'training': input_data})\n",
    "print(f\"time taken to train is {time.time() - start}\")"
   ]
  },
  {
   "cell_type": "markdown",
   "metadata": {},
   "source": [
    "## Step 5: Testing the model\n",
    "\n",
    "As mentioned at the top of this notebook, we will be testing this model by first deploying it and then sending the testing data to the deployed endpoint. We will do this so that we can make sure that the deployed model is working correctly.\n",
    "\n",
    "## Step 6: Deploy the model for testing\n",
    "\n",
    "Now that we have trained our model, we would like to test it to see how it performs. Currently our model takes input of the form `review_length, review[500]` where `review[500]` is a sequence of `500` integers which describe the words present in the review, encoded using `word_dict`. Fortunately for us, SageMaker provides built-in inference code for models with simple inputs such as this.\n",
    "\n",
    "There is one thing that we need to provide, however, and that is a function which loads the saved model. This function must be called `model_fn()` and takes as its only parameter a path to the directory where the model artifacts are stored. This function must also be present in the python file which we specified as the entry point. In our case the model loading function has been provided and so no changes need to be made.\n",
    "\n",
    "**NOTE**: When the built-in inference code is run it must import the `model_fn()` method from the `train.py` file. This is why the training code is wrapped in a main guard ( ie, `if __name__ == '__main__':` )\n",
    "\n",
    "Since we don't need to change anything in the code that was uploaded during training, we can simply deploy the current model as-is.\n",
    "\n",
    "**NOTE:** When deploying a model you are asking SageMaker to launch an compute instance that will wait for data to be sent to it. As a result, this compute instance will continue to run until *you* shut it down. This is important to know since the cost of a deployed endpoint depends on how long it has been running for.\n",
    "\n",
    "In other words **If you are no longer using a deployed endpoint, shut it down!**\n",
    "\n",
    "**TODO:** Deploy the trained model."
   ]
  },
  {
   "cell_type": "code",
   "execution_count": 31,
   "metadata": {},
   "outputs": [
    {
     "name": "stderr",
     "output_type": "stream",
     "text": [
      "Parameter image will be renamed to image_uri in SageMaker Python SDK v2.\n",
      "'create_image_uri' will be deprecated in favor of 'ImageURIProvider' class in SageMaker Python SDK v2.\n"
     ]
    },
    {
     "name": "stdout",
     "output_type": "stream",
     "text": [
      "---------------!"
     ]
    }
   ],
   "source": [
    "# TODO: Deploy the trained model\n",
    "predictor = estimator.deploy(initial_instance_count=1, instance_type='ml.m4.xlarge')"
   ]
  },
  {
   "cell_type": "markdown",
   "metadata": {},
   "source": [
    "## Step 7 - Use the model for testing\n",
    "\n",
    "Once deployed, we can read in the test data and send it off to our deployed model to get some results. Once we collect all of the results we can determine how accurate our model is."
   ]
  },
  {
   "cell_type": "code",
   "execution_count": 32,
   "metadata": {},
   "outputs": [],
   "source": [
    "test_X = pd.concat([pd.DataFrame(test_X_len), pd.DataFrame(test_X)], axis=1)"
   ]
  },
  {
   "cell_type": "code",
   "execution_count": 33,
   "metadata": {},
   "outputs": [],
   "source": [
    "# We split the data into chunks and send each chunk seperately, accumulating the results.\n",
    "\n",
    "def predict(data, rows=512):\n",
    "    split_array = np.array_split(data, int(data.shape[0] / float(rows) + 1))\n",
    "    predictions = np.array([])\n",
    "    for array in split_array:\n",
    "        predictions = np.append(predictions, predictor.predict(array))\n",
    "    \n",
    "    return predictions"
   ]
  },
  {
   "cell_type": "code",
   "execution_count": 34,
   "metadata": {},
   "outputs": [],
   "source": [
    "predictions = predict(test_X.values)\n",
    "predictions = [round(num) for num in predictions]"
   ]
  },
  {
   "cell_type": "code",
   "execution_count": 35,
   "metadata": {},
   "outputs": [
    {
     "data": {
      "text/plain": [
       "0.81072"
      ]
     },
     "execution_count": 35,
     "metadata": {},
     "output_type": "execute_result"
    }
   ],
   "source": [
    "from sklearn.metrics import accuracy_score\n",
    "accuracy_score(test_y, predictions)"
   ]
  },
  {
   "cell_type": "markdown",
   "metadata": {},
   "source": [
    "**Question:** How does this model compare to the XGBoost model you created earlier? Why might these two models perform differently on this dataset? Which do *you* think is better for sentiment analysis?"
   ]
  },
  {
   "cell_type": "markdown",
   "metadata": {},
   "source": [
    "**Answer:**\n",
    "The XGBoost model had an accuracy of 86% whereas the LSTM has an accuracy of 81%. While preparing the dataset for training, with the XGBoost model we used the pre-processing used was the same  but the method used for converting the strings into integer for XGBoost model was CountVectorizer whereas in Sentiment Analysis using LSTM we have used term frequency. We could have tried using tf-idf score in order to balance the words like movie which would have appreared in almost all the reviews against the more important and unique words which would have not been used as frequently in the dataset but might be more important in gauging the sentiment of the review. The XGBoost is a ensemble model and LSTM uses activation functions in the model which help in the learning of non-linear boundaries of the classifier. \n",
    "Another difference is in the loss functions used for both the models. \n",
    "\n",
    "The LSTM model could be tweaked to imporove its accuracy by changing the hidden dimensions, learning rate, etc. "
   ]
  },
  {
   "cell_type": "markdown",
   "metadata": {},
   "source": [
    "### (TODO) More testing\n",
    "\n",
    "We now have a trained model which has been deployed and which we can send processed reviews to and which returns the predicted sentiment. However, ultimately we would like to be able to send our model an unprocessed review. That is, we would like to send the review itself as a string. For example, suppose we wish to send the following review to our model."
   ]
  },
  {
   "cell_type": "code",
   "execution_count": 36,
   "metadata": {},
   "outputs": [],
   "source": [
    "test_review = 'The simplest pleasures in life are the best, and this film is one of them. Combining a rather basic storyline of love and adventure this movie transcends the usual weekend fair with wit and unmitigated charm.'"
   ]
  },
  {
   "cell_type": "markdown",
   "metadata": {},
   "source": [
    "The question we now need to answer is, how do we send this review to our model?\n",
    "\n",
    "Recall in the first section of this notebook we did a bunch of data processing to the IMDb dataset. In particular, we did two specific things to the provided reviews.\n",
    " - Removed any html tags and stemmed the input\n",
    " - Encoded the review as a sequence of integers using `word_dict`\n",
    " \n",
    "In order process the review we will need to repeat these two steps.\n",
    "\n",
    "**TODO**: Using the `review_to_words` and `convert_and_pad` methods from section one, convert `test_review` into a numpy array `test_data` suitable to send to our model. Remember that our model expects input of the form `review_length, review[500]`."
   ]
  },
  {
   "cell_type": "code",
   "execution_count": 37,
   "metadata": {},
   "outputs": [],
   "source": [
    "# TODO: Convert test_review into a form usable by the model and save the results in test_data\n",
    "import pandas as pd\n",
    "test_data = None\n",
    "data = review_to_words(test_review)\n",
    "data, length = convert_and_pad(word_dict, data)\n",
    "# print(len(data))\n",
    "# print(type(length))\n",
    "\n",
    "test_data = pd.concat([pd.DataFrame([length]), pd.DataFrame([data])], axis=1)\n",
    "# = torch.from_numpy(df[[0]].values).float().squeeze()\n",
    "# print(test_data)"
   ]
  },
  {
   "cell_type": "markdown",
   "metadata": {},
   "source": [
    "Now that we have processed the review, we can send the resulting array to our model to predict the sentiment of the review."
   ]
  },
  {
   "cell_type": "code",
   "execution_count": 38,
   "metadata": {},
   "outputs": [
    {
     "data": {
      "text/plain": [
       "array(0.81871843, dtype=float32)"
      ]
     },
     "execution_count": 38,
     "metadata": {},
     "output_type": "execute_result"
    }
   ],
   "source": [
    "predictor.predict(test_data)"
   ]
  },
  {
   "cell_type": "markdown",
   "metadata": {},
   "source": [
    "Since the return value of our model is close to `1`, we can be certain that the review we submitted is positive."
   ]
  },
  {
   "cell_type": "markdown",
   "metadata": {},
   "source": [
    "### Delete the endpoint\n",
    "\n",
    "Of course, just like in the XGBoost notebook, once we've deployed an endpoint it continues to run until we tell it to shut down. Since we are done using our endpoint for now, we can delete it."
   ]
  },
  {
   "cell_type": "code",
   "execution_count": 39,
   "metadata": {},
   "outputs": [
    {
     "name": "stderr",
     "output_type": "stream",
     "text": [
      "estimator.delete_endpoint() will be deprecated in SageMaker Python SDK v2. Please use the delete_endpoint() function on your predictor instead.\n"
     ]
    }
   ],
   "source": [
    "estimator.delete_endpoint()"
   ]
  },
  {
   "cell_type": "markdown",
   "metadata": {},
   "source": [
    "## Step 6 (again) - Deploy the model for the web app\n",
    "\n",
    "Now that we know that our model is working, it's time to create some custom inference code so that we can send the model a review which has not been processed and have it determine the sentiment of the review.\n",
    "\n",
    "As we saw above, by default the estimator which we created, when deployed, will use the entry script and directory which we provided when creating the model. However, since we now wish to accept a string as input and our model expects a processed review, we need to write some custom inference code.\n",
    "\n",
    "We will store the code that we write in the `serve` directory. Provided in this directory is the `model.py` file that we used to construct our model, a `utils.py` file which contains the `review_to_words` and `convert_and_pad` pre-processing functions which we used during the initial data processing, and `predict.py`, the file which will contain our custom inference code. Note also that `requirements.txt` is present which will tell SageMaker what Python libraries are required by our custom inference code.\n",
    "\n",
    "When deploying a PyTorch model in SageMaker, you are expected to provide four functions which the SageMaker inference container will use.\n",
    " - `model_fn`: This function is the same function that we used in the training script and it tells SageMaker how to load our model.\n",
    " - `input_fn`: This function receives the raw serialized input that has been sent to the model's endpoint and its job is to de-serialize and make the input available for the inference code.\n",
    " - `output_fn`: This function takes the output of the inference code and its job is to serialize this output and return it to the caller of the model's endpoint.\n",
    " - `predict_fn`: The heart of the inference script, this is where the actual prediction is done and is the function which you will need to complete.\n",
    "\n",
    "For the simple website that we are constructing during this project, the `input_fn` and `output_fn` methods are relatively straightforward. We only require being able to accept a string as input and we expect to return a single value as output. You might imagine though that in a more complex application the input or output may be image data or some other binary data which would require some effort to serialize.\n",
    "\n",
    "### (TODO) Writing inference code\n",
    "\n",
    "Before writing our custom inference code, we will begin by taking a look at the code which has been provided."
   ]
  },
  {
   "cell_type": "code",
   "execution_count": null,
   "metadata": {},
   "outputs": [],
   "source": [
    "!pygmentize serve/predict.py"
   ]
  },
  {
   "cell_type": "markdown",
   "metadata": {},
   "source": [
    "As mentioned earlier, the `model_fn` method is the same as the one provided in the training code and the `input_fn` and `output_fn` methods are very simple and your task will be to complete the `predict_fn` method. Make sure that you save the completed file as `predict.py` in the `serve` directory.\n",
    "\n",
    "**TODO**: Complete the `predict_fn()` method in the `serve/predict.py` file."
   ]
  },
  {
   "cell_type": "markdown",
   "metadata": {},
   "source": [
    "### Deploying the model\n",
    "\n",
    "Now that the custom inference code has been written, we will create and deploy our model. To begin with, we need to construct a new PyTorchModel object which points to the model artifacts created during training and also points to the inference code that we wish to use. Then we can call the deploy method to launch the deployment container.\n",
    "\n",
    "**NOTE**: The default behaviour for a deployed PyTorch model is to assume that any input passed to the predictor is a `numpy` array. In our case we want to send a string so we need to construct a simple wrapper around the `RealTimePredictor` class to accomodate simple strings. In a more complicated situation you may want to provide a serialization object, for example if you wanted to sent image data."
   ]
  },
  {
   "cell_type": "code",
   "execution_count": 40,
   "metadata": {},
   "outputs": [
    {
     "name": "stderr",
     "output_type": "stream",
     "text": [
      "Parameter image will be renamed to image_uri in SageMaker Python SDK v2.\n",
      "'create_image_uri' will be deprecated in favor of 'ImageURIProvider' class in SageMaker Python SDK v2.\n"
     ]
    },
    {
     "name": "stdout",
     "output_type": "stream",
     "text": [
      "-----------------!"
     ]
    }
   ],
   "source": [
    "from sagemaker.predictor import RealTimePredictor\n",
    "from sagemaker.pytorch import PyTorchModel\n",
    "\n",
    "class StringPredictor(RealTimePredictor):\n",
    "    def __init__(self, endpoint_name, sagemaker_session):\n",
    "        super(StringPredictor, self).__init__(endpoint_name, sagemaker_session, content_type='text/plain')\n",
    "\n",
    "model = PyTorchModel(model_data=estimator.model_data,\n",
    "                     role = role,\n",
    "                     framework_version='0.4.0',\n",
    "                     entry_point='predict.py',\n",
    "                     source_dir='serve',\n",
    "                     predictor_cls=StringPredictor)\n",
    "predictor = model.deploy(initial_instance_count=1, instance_type='ml.m4.xlarge')"
   ]
  },
  {
   "cell_type": "markdown",
   "metadata": {},
   "source": [
    "### Testing the model\n",
    "\n",
    "Now that we have deployed our model with the custom inference code, we should test to see if everything is working. Here we test our model by loading the first `250` positive and negative reviews and send them to the endpoint, then collect the results. The reason for only sending some of the data is that the amount of time it takes for our model to process the input and then perform inference is quite long and so testing the entire data set would be prohibitive."
   ]
  },
  {
   "cell_type": "code",
   "execution_count": 41,
   "metadata": {},
   "outputs": [],
   "source": [
    "\n",
    "import glob\n",
    "\n",
    "def test_reviews(data_dir='../data/aclImdb', stop=250):\n",
    "    \n",
    "    results = []\n",
    "    ground = []\n",
    "    \n",
    "    # We make sure to test both positive and negative reviews    \n",
    "    for sentiment in ['pos', 'neg']:\n",
    "        \n",
    "        path = os.path.join(data_dir, 'test', sentiment, '*.txt')\n",
    "        files = glob.glob(path)\n",
    "        \n",
    "        files_read = 0\n",
    "        \n",
    "        print('Starting ', sentiment, ' files')\n",
    "        \n",
    "        # Iterate through the files and send them to the predictor\n",
    "        for f in files:\n",
    "            with open(f) as review:\n",
    "                # First, we store the ground truth (was the review positive or negative)\n",
    "                if sentiment == 'pos':\n",
    "                    ground.append(1)\n",
    "                else:\n",
    "                    ground.append(0)\n",
    "                # Read in the review and convert to 'utf-8' for transmission via HTTP\n",
    "                review_input = review.read().encode('utf-8')\n",
    "                # Send the review to the predictor and store the results\n",
    "                val = predictor.predict(review_input).decode(\"utf-8\")[1]\n",
    "                results.append(float(val))\n",
    "                \n",
    "            # Sending reviews to our endpoint one at a time takes a while so we\n",
    "            # only send a small number of reviews\n",
    "            files_read += 1\n",
    "            if files_read == stop:\n",
    "                break\n",
    "            \n",
    "    return ground, results"
   ]
  },
  {
   "cell_type": "code",
   "execution_count": 42,
   "metadata": {},
   "outputs": [
    {
     "name": "stdout",
     "output_type": "stream",
     "text": [
      "Starting  pos  files\n",
      "Starting  neg  files\n"
     ]
    }
   ],
   "source": [
    "ground, results = test_reviews()"
   ]
  },
  {
   "cell_type": "code",
   "execution_count": 43,
   "metadata": {},
   "outputs": [
    {
     "data": {
      "text/plain": [
       "0.814"
      ]
     },
     "execution_count": 43,
     "metadata": {},
     "output_type": "execute_result"
    }
   ],
   "source": [
    "from sklearn.metrics import accuracy_score\n",
    "accuracy_score(ground, results)"
   ]
  },
  {
   "cell_type": "markdown",
   "metadata": {},
   "source": [
    "As an additional test, we can try sending the `test_review` that we looked at earlier."
   ]
  },
  {
   "cell_type": "code",
   "execution_count": 44,
   "metadata": {},
   "outputs": [
    {
     "data": {
      "text/plain": [
       "'[1]'"
      ]
     },
     "execution_count": 44,
     "metadata": {},
     "output_type": "execute_result"
    }
   ],
   "source": [
    "predictor.predict(test_review).decode(\"utf-8\")"
   ]
  },
  {
   "cell_type": "markdown",
   "metadata": {},
   "source": [
    "Now that we know our endpoint is working as expected, we can set up the web page that will interact with it. If you don't have time to finish the project now, make sure to skip down to the end of this notebook and shut down your endpoint. You can deploy it again when you come back."
   ]
  },
  {
   "cell_type": "markdown",
   "metadata": {},
   "source": [
    "## Step 7 (again): Use the model for the web app\n",
    "\n",
    "> **TODO:** This entire section and the next contain tasks for you to complete, mostly using the AWS console.\n",
    "\n",
    "So far we have been accessing our model endpoint by constructing a predictor object which uses the endpoint and then just using the predictor object to perform inference. What if we wanted to create a web app which accessed our model? The way things are set up currently makes that not possible since in order to access a SageMaker endpoint the app would first have to authenticate with AWS using an IAM role which included access to SageMaker endpoints. However, there is an easier way! We just need to use some additional AWS services.\n",
    "\n",
    "<img src=\"Web App Diagram.svg\">\n",
    "\n",
    "The diagram above gives an overview of how the various services will work together. On the far right is the model which we trained above and which is deployed using SageMaker. On the far left is our web app that collects a user's movie review, sends it off and expects a positive or negative sentiment in return.\n",
    "\n",
    "In the middle is where some of the magic happens. We will construct a Lambda function, which you can think of as a straightforward Python function that can be executed whenever a specified event occurs. We will give this function permission to send and recieve data from a SageMaker endpoint.\n",
    "\n",
    "Lastly, the method we will use to execute the Lambda function is a new endpoint that we will create using API Gateway. This endpoint will be a url that listens for data to be sent to it. Once it gets some data it will pass that data on to the Lambda function and then return whatever the Lambda function returns. Essentially it will act as an interface that lets our web app communicate with the Lambda function.\n",
    "\n",
    "### Setting up a Lambda function\n",
    "\n",
    "The first thing we are going to do is set up a Lambda function. This Lambda function will be executed whenever our public API has data sent to it. When it is executed it will receive the data, perform any sort of processing that is required, send the data (the review) to the SageMaker endpoint we've created and then return the result.\n",
    "\n",
    "#### Part A: Create an IAM Role for the Lambda function\n",
    "\n",
    "Since we want the Lambda function to call a SageMaker endpoint, we need to make sure that it has permission to do so. To do this, we will construct a role that we can later give the Lambda function.\n",
    "\n",
    "Using the AWS Console, navigate to the **IAM** page and click on **Roles**. Then, click on **Create role**. Make sure that the **AWS service** is the type of trusted entity selected and choose **Lambda** as the service that will use this role, then click **Next: Permissions**.\n",
    "\n",
    "In the search box type `sagemaker` and select the check box next to the **AmazonSageMakerFullAccess** policy. Then, click on **Next: Review**.\n",
    "\n",
    "Lastly, give this role a name. Make sure you use a name that you will remember later on, for example `LambdaSageMakerRole`. Then, click on **Create role**.\n",
    "\n",
    "#### Part B: Create a Lambda function\n",
    "\n",
    "Now it is time to actually create the Lambda function.\n",
    "\n",
    "Using the AWS Console, navigate to the AWS Lambda page and click on **Create a function**. When you get to the next page, make sure that **Author from scratch** is selected. Now, name your Lambda function, using a name that you will remember later on, for example `sentiment_analysis_func`. Make sure that the **Python 3.6** runtime is selected and then choose the role that you created in the previous part. Then, click on **Create Function**.\n",
    "\n",
    "On the next page you will see some information about the Lambda function you've just created. If you scroll down you should see an editor in which you can write the code that will be executed when your Lambda function is triggered. In our example, we will use the code below. \n",
    "\n",
    "```python\n",
    "# We need to use the low-level library to interact with SageMaker since the SageMaker API\n",
    "# is not available natively through Lambda.\n",
    "import boto3\n",
    "\n",
    "def lambda_handler(event, context):\n",
    "\n",
    "    # The SageMaker runtime is what allows us to invoke the endpoint that we've created.\n",
    "    runtime = boto3.Session().client('sagemaker-runtime')\n",
    "\n",
    "    # Now we use the SageMaker runtime to invoke our endpoint, sending the review we were given\n",
    "    response = runtime.invoke_endpoint(EndpointName = '**ENDPOINT NAME HERE**',    # The name of the endpoint we created\n",
    "                                       ContentType = 'text/plain',                 # The data format that is expected\n",
    "                                       Body = event['body'])                       # The actual review\n",
    "\n",
    "    # The response is an HTTP response whose body contains the result of our inference\n",
    "    result = response['Body'].read().decode('utf-8')\n",
    "\n",
    "    return {\n",
    "        'statusCode' : 200,\n",
    "        'headers' : { 'Content-Type' : 'text/plain', 'Access-Control-Allow-Origin' : '*' },\n",
    "        'body' : result\n",
    "    }\n",
    "```\n",
    "\n",
    "Once you have copy and pasted the code above into the Lambda code editor, replace the `**ENDPOINT NAME HERE**` portion with the name of the endpoint that we deployed earlier. You can determine the name of the endpoint using the code cell below."
   ]
  },
  {
   "cell_type": "code",
   "execution_count": 45,
   "metadata": {},
   "outputs": [
    {
     "data": {
      "text/plain": [
       "'sagemaker-pytorch-2020-12-17-06-39-28-331'"
      ]
     },
     "execution_count": 45,
     "metadata": {},
     "output_type": "execute_result"
    }
   ],
   "source": [
    "predictor.endpoint"
   ]
  },
  {
   "cell_type": "markdown",
   "metadata": {},
   "source": [
    "Once you have added the endpoint name to the Lambda function, click on **Save**. Your Lambda function is now up and running. Next we need to create a way for our web app to execute the Lambda function.\n",
    "\n",
    "### Setting up API Gateway\n",
    "\n",
    "Now that our Lambda function is set up, it is time to create a new API using API Gateway that will trigger the Lambda function we have just created.\n",
    "\n",
    "Using AWS Console, navigate to **Amazon API Gateway** and then click on **Get started**.\n",
    "\n",
    "On the next page, make sure that **New API** is selected and give the new api a name, for example, `sentiment_analysis_api`. Then, click on **Create API**.\n",
    "\n",
    "Now we have created an API, however it doesn't currently do anything. What we want it to do is to trigger the Lambda function that we created earlier.\n",
    "\n",
    "Select the **Actions** dropdown menu and click **Create Method**. A new blank method will be created, select its dropdown menu and select **POST**, then click on the check mark beside it.\n",
    "\n",
    "For the integration point, make sure that **Lambda Function** is selected and click on the **Use Lambda Proxy integration**. This option makes sure that the data that is sent to the API is then sent directly to the Lambda function with no processing. It also means that the return value must be a proper response object as it will also not be processed by API Gateway.\n",
    "\n",
    "Type the name of the Lambda function you created earlier into the **Lambda Function** text entry box and then click on **Save**. Click on **OK** in the pop-up box that then appears, giving permission to API Gateway to invoke the Lambda function you created.\n",
    "\n",
    "The last step in creating the API Gateway is to select the **Actions** dropdown and click on **Deploy API**. You will need to create a new Deployment stage and name it anything you like, for example `prod`.\n",
    "\n",
    "You have now successfully set up a public API to access your SageMaker model. Make sure to copy or write down the URL provided to invoke your newly created public API as this will be needed in the next step. This URL can be found at the top of the page, highlighted in blue next to the text **Invoke URL**."
   ]
  },
  {
   "cell_type": "markdown",
   "metadata": {},
   "source": [
    "## Step 4: Deploying our web app\n",
    "\n",
    "Now that we have a publicly available API, we can start using it in a web app. For our purposes, we have provided a simple static html file which can make use of the public api you created earlier.\n",
    "\n",
    "In the `website` folder there should be a file called `index.html`. Download the file to your computer and open that file up in a text editor of your choice. There should be a line which contains **\\*\\*REPLACE WITH PUBLIC API URL\\*\\***. Replace this string with the url that you wrote down in the last step and then save the file.\n",
    "\n",
    "Now, if you open `index.html` on your local computer, your browser will behave as a local web server and you can use the provided site to interact with your SageMaker model.\n",
    "\n",
    "If you'd like to go further, you can host this html file anywhere you'd like, for example using github or hosting a static site on Amazon's S3. Once you have done this you can share the link with anyone you'd like and have them play with it too!\n",
    "\n",
    "> **Important Note** In order for the web app to communicate with the SageMaker endpoint, the endpoint has to actually be deployed and running. This means that you are paying for it. Make sure that the endpoint is running when you want to use the web app but that you shut it down when you don't need it, otherwise you will end up with a surprisingly large AWS bill.\n",
    "\n",
    "**TODO:** Make sure that you include the edited `index.html` file in your project submission."
   ]
  },
  {
   "cell_type": "markdown",
   "metadata": {},
   "source": [
    "Now that your web app is working, trying playing around with it and see how well it works.\n",
    "\n",
    "**Question**: Give an example of a review that you entered into your web app. What was the predicted sentiment of your example review?"
   ]
  },
  {
   "cell_type": "markdown",
   "metadata": {},
   "source": [
    "**Answer:**\n",
    "Entered review: The movie was wonderful! By far the best animation movie I have seen. Go for it !\n",
    "\n",
    "**Response**\n",
    "Your review was POSITIVE!\n"
   ]
  },
  {
   "cell_type": "markdown",
   "metadata": {},
   "source": [
    "### Delete the endpoint\n",
    "\n",
    "Remember to always shut down your endpoint if you are no longer using it. You are charged for the length of time that the endpoint is running so if you forget and leave it on you could end up with an unexpectedly large bill."
   ]
  },
  {
   "cell_type": "code",
   "execution_count": 46,
   "metadata": {},
   "outputs": [],
   "source": [
    "predictor.delete_endpoint()"
   ]
  },
  {
   "cell_type": "code",
   "execution_count": null,
   "metadata": {},
   "outputs": [],
   "source": []
  }
 ],
 "metadata": {
  "kernelspec": {
   "display_name": "conda_pytorch_p36",
   "language": "python",
   "name": "conda_pytorch_p36"
  },
  "language_info": {
   "codemirror_mode": {
    "name": "ipython",
    "version": 3
   },
   "file_extension": ".py",
   "mimetype": "text/x-python",
   "name": "python",
   "nbconvert_exporter": "python",
   "pygments_lexer": "ipython3",
   "version": "3.6.10"
  }
 },
 "nbformat": 4,
 "nbformat_minor": 2
}
